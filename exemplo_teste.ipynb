{
 "cells": [
  {
   "cell_type": "code",
   "execution_count": 1,
   "id": "bea79384-49e0-45f9-b054-b3439e2e7694",
   "metadata": {},
   "outputs": [],
   "source": [
    "import pandas as pd\n",
    "import numpy as np\n",
    "import matplotlib.pyplot as plt"
   ]
  },
  {
   "cell_type": "code",
   "execution_count": 2,
   "id": "b66af549-c246-4971-abb0-1dbbd1817303",
   "metadata": {},
   "outputs": [],
   "source": [
    "df = pd.read_csv('infringement_dataset.csv')"
   ]
  },
  {
   "cell_type": "code",
   "execution_count": 3,
   "id": "cecf8a54-a726-4918-a366-c62a0aac152c",
   "metadata": {},
   "outputs": [],
   "source": [
    "df1 = df[['infringed','annual_income','credit_amount','past_loans_approved','past_loans_refused']].loc[0:19]"
   ]
  },
  {
   "cell_type": "code",
   "execution_count": 4,
   "id": "b469d8d5-181f-40b2-81ba-41e449a1e7df",
   "metadata": {},
   "outputs": [
    {
     "data": {
      "text/html": [
       "<div>\n",
       "<style scoped>\n",
       "    .dataframe tbody tr th:only-of-type {\n",
       "        vertical-align: middle;\n",
       "    }\n",
       "\n",
       "    .dataframe tbody tr th {\n",
       "        vertical-align: top;\n",
       "    }\n",
       "\n",
       "    .dataframe thead th {\n",
       "        text-align: right;\n",
       "    }\n",
       "</style>\n",
       "<table border=\"1\" class=\"dataframe\">\n",
       "  <thead>\n",
       "    <tr style=\"text-align: right;\">\n",
       "      <th></th>\n",
       "      <th>infringed</th>\n",
       "      <th>annual_income</th>\n",
       "      <th>credit_amount</th>\n",
       "      <th>past_loans_approved</th>\n",
       "      <th>past_loans_refused</th>\n",
       "    </tr>\n",
       "  </thead>\n",
       "  <tbody>\n",
       "    <tr>\n",
       "      <th>0</th>\n",
       "      <td>1</td>\n",
       "      <td>202500.000</td>\n",
       "      <td>406597.5</td>\n",
       "      <td>1.0</td>\n",
       "      <td>0.0</td>\n",
       "    </tr>\n",
       "    <tr>\n",
       "      <th>1</th>\n",
       "      <td>0</td>\n",
       "      <td>270000.000</td>\n",
       "      <td>1293502.5</td>\n",
       "      <td>3.0</td>\n",
       "      <td>0.0</td>\n",
       "    </tr>\n",
       "    <tr>\n",
       "      <th>2</th>\n",
       "      <td>0</td>\n",
       "      <td>67500.000</td>\n",
       "      <td>135000.0</td>\n",
       "      <td>1.0</td>\n",
       "      <td>0.0</td>\n",
       "    </tr>\n",
       "    <tr>\n",
       "      <th>3</th>\n",
       "      <td>0</td>\n",
       "      <td>135000.000</td>\n",
       "      <td>312682.5</td>\n",
       "      <td>5.0</td>\n",
       "      <td>3.0</td>\n",
       "    </tr>\n",
       "    <tr>\n",
       "      <th>4</th>\n",
       "      <td>0</td>\n",
       "      <td>121500.000</td>\n",
       "      <td>513000.0</td>\n",
       "      <td>6.0</td>\n",
       "      <td>0.0</td>\n",
       "    </tr>\n",
       "    <tr>\n",
       "      <th>5</th>\n",
       "      <td>0</td>\n",
       "      <td>99000.000</td>\n",
       "      <td>490495.5</td>\n",
       "      <td>4.0</td>\n",
       "      <td>1.0</td>\n",
       "    </tr>\n",
       "    <tr>\n",
       "      <th>6</th>\n",
       "      <td>0</td>\n",
       "      <td>171000.000</td>\n",
       "      <td>1560726.0</td>\n",
       "      <td>7.0</td>\n",
       "      <td>0.0</td>\n",
       "    </tr>\n",
       "    <tr>\n",
       "      <th>7</th>\n",
       "      <td>0</td>\n",
       "      <td>360000.000</td>\n",
       "      <td>1530000.0</td>\n",
       "      <td>1.0</td>\n",
       "      <td>0.0</td>\n",
       "    </tr>\n",
       "    <tr>\n",
       "      <th>8</th>\n",
       "      <td>0</td>\n",
       "      <td>112500.000</td>\n",
       "      <td>1019610.0</td>\n",
       "      <td>3.0</td>\n",
       "      <td>0.0</td>\n",
       "    </tr>\n",
       "    <tr>\n",
       "      <th>9</th>\n",
       "      <td>0</td>\n",
       "      <td>135000.000</td>\n",
       "      <td>405000.0</td>\n",
       "      <td>3.0</td>\n",
       "      <td>1.0</td>\n",
       "    </tr>\n",
       "    <tr>\n",
       "      <th>10</th>\n",
       "      <td>0</td>\n",
       "      <td>112500.000</td>\n",
       "      <td>652500.0</td>\n",
       "      <td>2.0</td>\n",
       "      <td>0.0</td>\n",
       "    </tr>\n",
       "    <tr>\n",
       "      <th>11</th>\n",
       "      <td>0</td>\n",
       "      <td>38419.155</td>\n",
       "      <td>148365.0</td>\n",
       "      <td>1.0</td>\n",
       "      <td>0.0</td>\n",
       "    </tr>\n",
       "    <tr>\n",
       "      <th>12</th>\n",
       "      <td>0</td>\n",
       "      <td>67500.000</td>\n",
       "      <td>80865.0</td>\n",
       "      <td>4.0</td>\n",
       "      <td>0.0</td>\n",
       "    </tr>\n",
       "    <tr>\n",
       "      <th>13</th>\n",
       "      <td>0</td>\n",
       "      <td>225000.000</td>\n",
       "      <td>918468.0</td>\n",
       "      <td>2.0</td>\n",
       "      <td>0.0</td>\n",
       "    </tr>\n",
       "    <tr>\n",
       "      <th>14</th>\n",
       "      <td>0</td>\n",
       "      <td>189000.000</td>\n",
       "      <td>773680.5</td>\n",
       "      <td>4.0</td>\n",
       "      <td>0.0</td>\n",
       "    </tr>\n",
       "    <tr>\n",
       "      <th>15</th>\n",
       "      <td>0</td>\n",
       "      <td>157500.000</td>\n",
       "      <td>299772.0</td>\n",
       "      <td>1.0</td>\n",
       "      <td>0.0</td>\n",
       "    </tr>\n",
       "    <tr>\n",
       "      <th>16</th>\n",
       "      <td>0</td>\n",
       "      <td>108000.000</td>\n",
       "      <td>509602.5</td>\n",
       "      <td>2.0</td>\n",
       "      <td>0.0</td>\n",
       "    </tr>\n",
       "    <tr>\n",
       "      <th>17</th>\n",
       "      <td>0</td>\n",
       "      <td>81000.000</td>\n",
       "      <td>270000.0</td>\n",
       "      <td>6.0</td>\n",
       "      <td>0.0</td>\n",
       "    </tr>\n",
       "    <tr>\n",
       "      <th>18</th>\n",
       "      <td>0</td>\n",
       "      <td>112500.000</td>\n",
       "      <td>157500.0</td>\n",
       "      <td>1.0</td>\n",
       "      <td>0.0</td>\n",
       "    </tr>\n",
       "    <tr>\n",
       "      <th>19</th>\n",
       "      <td>0</td>\n",
       "      <td>90000.000</td>\n",
       "      <td>544491.0</td>\n",
       "      <td>4.0</td>\n",
       "      <td>0.0</td>\n",
       "    </tr>\n",
       "  </tbody>\n",
       "</table>\n",
       "</div>"
      ],
      "text/plain": [
       "    infringed  annual_income  credit_amount  past_loans_approved  \\\n",
       "0           1     202500.000       406597.5                  1.0   \n",
       "1           0     270000.000      1293502.5                  3.0   \n",
       "2           0      67500.000       135000.0                  1.0   \n",
       "3           0     135000.000       312682.5                  5.0   \n",
       "4           0     121500.000       513000.0                  6.0   \n",
       "5           0      99000.000       490495.5                  4.0   \n",
       "6           0     171000.000      1560726.0                  7.0   \n",
       "7           0     360000.000      1530000.0                  1.0   \n",
       "8           0     112500.000      1019610.0                  3.0   \n",
       "9           0     135000.000       405000.0                  3.0   \n",
       "10          0     112500.000       652500.0                  2.0   \n",
       "11          0      38419.155       148365.0                  1.0   \n",
       "12          0      67500.000        80865.0                  4.0   \n",
       "13          0     225000.000       918468.0                  2.0   \n",
       "14          0     189000.000       773680.5                  4.0   \n",
       "15          0     157500.000       299772.0                  1.0   \n",
       "16          0     108000.000       509602.5                  2.0   \n",
       "17          0      81000.000       270000.0                  6.0   \n",
       "18          0     112500.000       157500.0                  1.0   \n",
       "19          0      90000.000       544491.0                  4.0   \n",
       "\n",
       "    past_loans_refused  \n",
       "0                  0.0  \n",
       "1                  0.0  \n",
       "2                  0.0  \n",
       "3                  3.0  \n",
       "4                  0.0  \n",
       "5                  1.0  \n",
       "6                  0.0  \n",
       "7                  0.0  \n",
       "8                  0.0  \n",
       "9                  1.0  \n",
       "10                 0.0  \n",
       "11                 0.0  \n",
       "12                 0.0  \n",
       "13                 0.0  \n",
       "14                 0.0  \n",
       "15                 0.0  \n",
       "16                 0.0  \n",
       "17                 0.0  \n",
       "18                 0.0  \n",
       "19                 0.0  "
      ]
     },
     "execution_count": 4,
     "metadata": {},
     "output_type": "execute_result"
    }
   ],
   "source": [
    "df1"
   ]
  },
  {
   "cell_type": "markdown",
   "id": "be72ea1b-eb14-4a45-9de5-6dcb81246c95",
   "metadata": {},
   "source": [
    "### Visualizando o PCA1 (o principal)"
   ]
  },
  {
   "cell_type": "code",
   "execution_count": 5,
   "id": "9482c0a9-a994-437e-91b6-6381920d4251",
   "metadata": {},
   "outputs": [
    {
     "data": {
      "image/png": "[encoded data removed]",
      "text/plain": [
       "<Figure size 432x288 with 1 Axes>"
      ]
     },
     "metadata": {
      "needs_background": "light"
     },
     "output_type": "display_data"
    }
   ],
   "source": [
    "coefficients = np.polyfit(df1['annual_income'], df1['credit_amount'], 1)\n",
    "slope = coefficients[0]\n",
    "intercept = coefficients[1]\n",
    "trendline = slope * np.array(df1['annual_income']) + intercept\n",
    "\n",
    "plt.scatter(df1['annual_income'],df1['credit_amount'])\n",
    "plt.plot(df1['annual_income'], trendline, label='Linha de tendência', color='red')\n",
    "plt.show()"
   ]
  },
  {
   "cell_type": "markdown",
   "id": "324dfb78-d671-4bda-bbdb-4efe91a4c061",
   "metadata": {},
   "source": [
    "### Primeiras infos PCA"
   ]
  },
  {
   "cell_type": "code",
   "execution_count": 7,
   "id": "a658eda4-c3b0-4816-b442-4082bde4ac9f",
   "metadata": {},
   "outputs": [],
   "source": [
    "from sklearn.decomposition import PCA"
   ]
  },
  {
   "cell_type": "code",
   "execution_count": 8,
   "id": "13a81f2a-9fe3-40d0-81aa-ef7bad3d00c5",
   "metadata": {},
   "outputs": [
    {
     "name": "stdout",
     "output_type": "stream",
     "text": [
      "[9.87819148e-01 1.21808523e-02 1.35137041e-11 1.88072872e-12]\n",
      "[2.06126322e+11 2.54175502e+09 2.81987864e+00 3.92448044e-01]\n"
     ]
    }
   ],
   "source": [
    "X = df1.iloc[:,1:]\n",
    "y = df1['infringed']\n",
    "\n",
    "# Inicialize o modelo PCA com o número de componentes desejado (por exemplo, 2 componentes)\n",
    "pca = PCA(n_components=len(X.columns))\n",
    "pca.fit_transform(X)\n",
    "\n",
    "# Obtenha as proporções de variância explicada\n",
    "explained_variance = pca.explained_variance_ratio_\n",
    "\n",
    "# Obtenha os autovalores\n",
    "eigenvalues = pca.explained_variance_\n",
    "\n",
    "print(explained_variance)\n",
    "print(eigenvalues)"
   ]
  },
  {
   "cell_type": "markdown",
   "id": "5237378a-96c0-4ce6-b5e5-c19e9cf5a3ca",
   "metadata": {},
   "source": [
    "### Scree plot"
   ]
  },
  {
   "cell_type": "code",
   "execution_count": 9,
   "id": "479875bb-4639-482f-8e7a-76c2af91997a",
   "metadata": {},
   "outputs": [
    {
     "data": {
      "image/png": "[encoded data removed]",
      "text/plain": [
       "<Figure size 432x288 with 1 Axes>"
      ]
     },
     "metadata": {
      "needs_background": "light"
     },
     "output_type": "display_data"
    }
   ],
   "source": [
    "plt.plot(range(1, len(explained_variance) + 1), explained_variance, marker='o', linestyle='-')\n",
    "plt.xticks(np.arange(1, len(explained_variance) + 1, step=1))\n",
    "plt.xlabel('Número de Componentes Principais')\n",
    "plt.ylabel('Explicação da variação')\n",
    "plt.title('Scree Plot')\n",
    "\n",
    "plt.show()"
   ]
  },
  {
   "cell_type": "code",
   "execution_count": 10,
   "id": "64dd4da0-5a65-4785-abc0-200239006f60",
   "metadata": {},
   "outputs": [
    {
     "data": {
      "image/png": "[encoded data removed]",
      "text/plain": [
       "<Figure size 432x288 with 1 Axes>"
      ]
     },
     "metadata": {
      "needs_background": "light"
     },
     "output_type": "display_data"
    }
   ],
   "source": [
    "plt.plot(range(1, len(explained_variance) + 1), eigenvalues, marker='o', linestyle='-')\n",
    "plt.xticks(np.arange(1, len(explained_variance) + 1, step=1))\n",
    "plt.xlabel('Número de Componentes Principais')\n",
    "plt.ylabel('Autovalores')\n",
    "plt.title('Scree Plot')\n",
    "\n",
    "plt.show()"
   ]
  },
  {
   "cell_type": "markdown",
   "id": "50ac3f63-55dc-4345-889a-ee031c3e9ad9",
   "metadata": {},
   "source": [
    "Este segundo é o scree plot que estamos acostumados, que mostra no eixo Y os autovalores."
   ]
  },
  {
   "cell_type": "markdown",
   "id": "3662948e-3661-4073-b59c-c6f1114a7ccc",
   "metadata": {},
   "source": [
    "### Score plot"
   ]
  },
  {
   "cell_type": "code",
   "execution_count": 21,
   "id": "a4299154-960b-4a93-a0c5-b3f02ab6b0c9",
   "metadata": {},
   "outputs": [],
   "source": [
    "pca = PCA(n_components=2)\n",
    "pca.fit(X)\n",
    "X_pca = pca.transform(X)"
   ]
  },
  {
   "cell_type": "code",
   "execution_count": 24,
   "id": "ea96acf7-e1eb-482f-8103-239acb7a0101",
   "metadata": {},
   "outputs": [
    {
     "data": {
      "image/png": "[encoded data removed]",
      "text/plain": [
       "<Figure size 432x288 with 1 Axes>"
      ]
     },
     "metadata": {
      "needs_background": "light"
     },
     "output_type": "display_data"
    }
   ],
   "source": [
    "plt.scatter(X_pca[:, 0], X_pca[:, 1], c=y, cmap='viridis', edgecolor='k')\n",
    "plt.xlabel('Primeira Componente Principal')\n",
    "plt.ylabel('Segunda Componente Principal')\n",
    "plt.title('Score Plot')\n",
    "\n",
    "plt.show()"
   ]
  },
  {
   "cell_type": "markdown",
   "id": "5f2b8ee7-2785-4276-840e-58fd555897e5",
   "metadata": {},
   "source": [
    "### Loadings"
   ]
  },
  {
   "cell_type": "code",
   "execution_count": 31,
   "id": "f9751237-012c-4358-956e-499986c683e2",
   "metadata": {},
   "outputs": [],
   "source": [
    "pca = PCA(n_components=4)\n",
    "pca.fit(X)\n",
    "X_pca = pca.transform(X)"
   ]
  },
  {
   "cell_type": "code",
   "execution_count": 42,
   "id": "cdc3e2ec-6a0c-4f84-9bd8-53ef8eb5e71e",
   "metadata": {},
   "outputs": [
    {
     "data": {
      "text/html": [
       "<div>\n",
       "<style scoped>\n",
       "    .dataframe tbody tr th:only-of-type {\n",
       "        vertical-align: middle;\n",
       "    }\n",
       "\n",
       "    .dataframe tbody tr th {\n",
       "        vertical-align: top;\n",
       "    }\n",
       "\n",
       "    .dataframe thead th {\n",
       "        text-align: right;\n",
       "    }\n",
       "</style>\n",
       "<table border=\"1\" class=\"dataframe\">\n",
       "  <thead>\n",
       "    <tr style=\"text-align: right;\">\n",
       "      <th></th>\n",
       "      <th>PC1</th>\n",
       "      <th>PC2</th>\n",
       "      <th>PC3</th>\n",
       "      <th>PC4</th>\n",
       "    </tr>\n",
       "  </thead>\n",
       "  <tbody>\n",
       "    <tr>\n",
       "      <th>annual_income</th>\n",
       "      <td>0.115</td>\n",
       "      <td>0.885</td>\n",
       "      <td>0.000</td>\n",
       "      <td>-0.000</td>\n",
       "    </tr>\n",
       "    <tr>\n",
       "      <th>credit_amount</th>\n",
       "      <td>1.149</td>\n",
       "      <td>-0.149</td>\n",
       "      <td>-0.000</td>\n",
       "      <td>0.000</td>\n",
       "    </tr>\n",
       "    <tr>\n",
       "      <th>past_loans_approved</th>\n",
       "      <td>0.000</td>\n",
       "      <td>-0.000</td>\n",
       "      <td>1.254</td>\n",
       "      <td>-0.254</td>\n",
       "    </tr>\n",
       "    <tr>\n",
       "      <th>past_loans_refused</th>\n",
       "      <td>-0.000</td>\n",
       "      <td>0.000</td>\n",
       "      <td>0.169</td>\n",
       "      <td>0.831</td>\n",
       "    </tr>\n",
       "  </tbody>\n",
       "</table>\n",
       "</div>"
      ],
      "text/plain": [
       "                       PC1    PC2    PC3    PC4\n",
       "annual_income        0.115  0.885  0.000 -0.000\n",
       "credit_amount        1.149 -0.149 -0.000  0.000\n",
       "past_loans_approved  0.000 -0.000  1.254 -0.254\n",
       "past_loans_refused  -0.000  0.000  0.169  0.831"
      ]
     },
     "execution_count": 42,
     "metadata": {},
     "output_type": "execute_result"
    }
   ],
   "source": [
    "loadings = pd.DataFrame(pca.components_.T, columns=['PC1','PC2','PC3','PC4'], index=X.columns)\n",
    "norm_loadings = loadings.div(loadings.sum(axis=1), axis=0)\n",
    "round(norm_loadings,3)"
   ]
  },
  {
   "cell_type": "markdown",
   "id": "c865b6c4-5403-4435-8232-d2a57fb1f9b6",
   "metadata": {},
   "source": [
    "As colunas do dataframe contêm os autovetores associados aos dois primeiros componentes principais. Cada elemento representa quanto cada variável original contribui para o componente principal correspondente. Por exemplo, annual_income é responsável por 11,5% de PC1."
   ]
  },
  {
   "cell_type": "code",
   "execution_count": 16,
   "id": "a22e3087-26cf-4aba-8991-2cb5f087bd6d",
   "metadata": {},
   "outputs": [
    {
     "data": {
      "text/html": [
       "<div>\n",
       "<style scoped>\n",
       "    .dataframe tbody tr th:only-of-type {\n",
       "        vertical-align: middle;\n",
       "    }\n",
       "\n",
       "    .dataframe tbody tr th {\n",
       "        vertical-align: top;\n",
       "    }\n",
       "\n",
       "    .dataframe thead th {\n",
       "        text-align: right;\n",
       "    }\n",
       "</style>\n",
       "<table border=\"1\" class=\"dataframe\">\n",
       "  <thead>\n",
       "    <tr style=\"text-align: right;\">\n",
       "      <th></th>\n",
       "      <th>PC1</th>\n",
       "      <th>PC2</th>\n",
       "      <th>PC3</th>\n",
       "      <th>PC4</th>\n",
       "    </tr>\n",
       "  </thead>\n",
       "  <tbody>\n",
       "    <tr>\n",
       "      <th>annual_income</th>\n",
       "      <td>58322.013</td>\n",
       "      <td>49998.115</td>\n",
       "      <td>0.000</td>\n",
       "      <td>-0.000</td>\n",
       "    </tr>\n",
       "    <tr>\n",
       "      <th>credit_amount</th>\n",
       "      <td>450249.780</td>\n",
       "      <td>-6476.384</td>\n",
       "      <td>-0.000</td>\n",
       "      <td>0.000</td>\n",
       "    </tr>\n",
       "    <tr>\n",
       "      <th>past_loans_approved</th>\n",
       "      <td>0.346</td>\n",
       "      <td>-0.886</td>\n",
       "      <td>1.646</td>\n",
       "      <td>-0.125</td>\n",
       "    </tr>\n",
       "    <tr>\n",
       "      <th>past_loans_refused</th>\n",
       "      <td>-0.136</td>\n",
       "      <td>0.080</td>\n",
       "      <td>0.334</td>\n",
       "      <td>0.614</td>\n",
       "    </tr>\n",
       "  </tbody>\n",
       "</table>\n",
       "</div>"
      ],
      "text/plain": [
       "                            PC1        PC2    PC3    PC4\n",
       "annual_income         58322.013  49998.115  0.000 -0.000\n",
       "credit_amount        450249.780  -6476.384 -0.000  0.000\n",
       "past_loans_approved       0.346     -0.886  1.646 -0.125\n",
       "past_loans_refused       -0.136      0.080  0.334  0.614"
      ]
     },
     "execution_count": 16,
     "metadata": {},
     "output_type": "execute_result"
    }
   ],
   "source": [
    "loadings1 = pca.components_.T * np.sqrt(pca.explained_variance_)\n",
    "\n",
    "loading_matrix = round(pd.DataFrame(loadings1, columns=['PC1','PC2','PC3','PC4'], index=X.columns),3)\n",
    "loading_matrix"
   ]
  },
  {
   "cell_type": "markdown",
   "id": "03a2da49-b0f0-4ea3-b24e-dc2867341b9e",
   "metadata": {},
   "source": [
    "Aqui cada entrada da matriz contém a correlação entre a variável original e o componente principal. Por exemplo, past_loans_approved e o primeiro componente principal PC1 têm uma correlação de 34,6%."
   ]
  },
  {
   "cell_type": "markdown",
   "id": "20801275-e651-4314-81dd-271f7ece32d4",
   "metadata": {},
   "source": [
    "### Loading plot"
   ]
  },
  {
   "cell_type": "code",
   "execution_count": 26,
   "id": "ded954fb-3975-46ee-a2e0-b58b0d212d5f",
   "metadata": {},
   "outputs": [],
   "source": [
    "def loading_plot(coeff, labels):\n",
    "    n = coeff.shape[0]\n",
    "    for i in range(n):\n",
    "        plt.arrow(0, 0, coeff[i,0], coeff[i,1], head_width = 0.05, head_length = 0.05, color = '#21918C',alpha = 0.5)\n",
    "        plt.text(coeff[i,0]* 1.15, coeff[i,1] * 1.15, labels[i], color = '#21918C', ha = 'center', va = 'center')\n",
    "    plt.xlim(-1,1)\n",
    "    plt.ylim(-1,1)\n",
    "    plt.xlabel('PC1')\n",
    "    plt.ylabel('PC2')\n",
    "    plt.grid()"
   ]
  },
  {
   "cell_type": "code",
   "execution_count": 27,
   "id": "d3d5e953-8449-4bc5-b0ee-06561465ad65",
   "metadata": {},
   "outputs": [
    {
     "data": {
      "image/png": "[encoded data removed]",
      "text/plain": [
       "<Figure size 504x504 with 1 Axes>"
      ]
     },
     "metadata": {
      "needs_background": "light"
     },
     "output_type": "display_data"
    }
   ],
   "source": [
    "fig, ax = plt.subplots(figsize = (7,7))\n",
    "loading_plot(pca.components_.T, X.columns)"
   ]
  },
  {
   "cell_type": "code",
   "execution_count": null,
   "id": "6d7cffaf-2c54-4128-8406-5a7b5ebe895d",
   "metadata": {},
   "outputs": [],
   "source": []
  }
 ],
 "metadata": {
  "kernelspec": {
   "display_name": "Python 3 (ipykernel)",
   "language": "python",
   "name": "python3"
  },
  "language_info": {
   "codemirror_mode": {
    "name": "ipython",
    "version": 3
   },
   "file_extension": ".py",
   "mimetype": "text/x-python",
   "name": "python",
   "nbconvert_exporter": "python",
   "pygments_lexer": "ipython3",
   "version": "3.9.12"
  }
 },
 "nbformat": 4,
 "nbformat_minor": 5
}
