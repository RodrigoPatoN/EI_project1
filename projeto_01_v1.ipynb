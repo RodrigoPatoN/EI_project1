{
 "cells": [
  {
   "cell_type": "markdown",
   "id": "e894a31f-2477-4042-94eb-484660ee7068",
   "metadata": {},
   "source": [
    "### **1. Carregamentos**"
   ]
  },
  {
   "cell_type": "code",
   "execution_count": 1,
   "id": "bea79384-49e0-45f9-b054-b3439e2e7694",
   "metadata": {},
   "outputs": [],
   "source": [
    "import pandas as pd\n",
    "import numpy as np\n",
    "import matplotlib.pyplot as plt"
   ]
  },
  {
   "cell_type": "code",
   "execution_count": 2,
   "id": "b66af549-c246-4971-abb0-1dbbd1817303",
   "metadata": {},
   "outputs": [],
   "source": [
    "df = pd.read_csv('infringement_dataset.csv')"
   ]
  },
  {
   "cell_type": "code",
   "execution_count": null,
   "id": "0d8eca25-f67b-4231-8f55-4c7c124c4e41",
   "metadata": {},
   "outputs": [],
   "source": []
  },
  {
   "cell_type": "code",
   "execution_count": null,
   "id": "3916eb28-a024-4608-a40a-b1e5ae1f1bcc",
   "metadata": {},
   "outputs": [],
   "source": []
  },
  {
   "cell_type": "markdown",
   "id": "969dc9d8-e187-4523-b83f-ad6434e7e151",
   "metadata": {},
   "source": [
    "### **2. Pré-processamento de dados**"
   ]
  },
  {
   "cell_type": "code",
   "execution_count": 3,
   "id": "bf750206-8149-4e03-bc99-9220dfc133d7",
   "metadata": {},
   "outputs": [
    {
     "data": {
      "text/plain": [
       "(307511, 69)"
      ]
     },
     "execution_count": 3,
     "metadata": {},
     "output_type": "execute_result"
    }
   ],
   "source": [
    "df.shape"
   ]
  },
  {
   "cell_type": "code",
   "execution_count": 4,
   "id": "293a9740-8e72-4f51-baba-2da2b80e8d4a",
   "metadata": {},
   "outputs": [
    {
     "data": {
      "text/html": [
       "<div>\n",
       "<style scoped>\n",
       "    .dataframe tbody tr th:only-of-type {\n",
       "        vertical-align: middle;\n",
       "    }\n",
       "\n",
       "    .dataframe tbody tr th {\n",
       "        vertical-align: top;\n",
       "    }\n",
       "\n",
       "    .dataframe thead th {\n",
       "        text-align: right;\n",
       "    }\n",
       "</style>\n",
       "<table border=\"1\" class=\"dataframe\">\n",
       "  <thead>\n",
       "    <tr style=\"text-align: right;\">\n",
       "      <th></th>\n",
       "      <th>loan_id</th>\n",
       "      <th>infringed</th>\n",
       "      <th>contract_type</th>\n",
       "      <th>gender</th>\n",
       "      <th>has_own_car</th>\n",
       "      <th>has_own_realty</th>\n",
       "      <th>num_children</th>\n",
       "      <th>annual_income</th>\n",
       "      <th>credit_amount</th>\n",
       "      <th>credit_annuity</th>\n",
       "      <th>...</th>\n",
       "      <th>SK_ID_CURR</th>\n",
       "      <th>avg_days_decision</th>\n",
       "      <th>past_avg_amount_annuity</th>\n",
       "      <th>past_avg_amt_application</th>\n",
       "      <th>past_avg_amt_credit</th>\n",
       "      <th>past_loans_approved</th>\n",
       "      <th>past_loans_refused</th>\n",
       "      <th>past_loans_canceled</th>\n",
       "      <th>past_loans_unused</th>\n",
       "      <th>past_loans_total</th>\n",
       "    </tr>\n",
       "  </thead>\n",
       "  <tbody>\n",
       "    <tr>\n",
       "      <th>0</th>\n",
       "      <td>100002</td>\n",
       "      <td>1</td>\n",
       "      <td>Cash loans</td>\n",
       "      <td>M</td>\n",
       "      <td>N</td>\n",
       "      <td>Y</td>\n",
       "      <td>0</td>\n",
       "      <td>202500.0</td>\n",
       "      <td>406597.5</td>\n",
       "      <td>24700.5</td>\n",
       "      <td>...</td>\n",
       "      <td>100002.0</td>\n",
       "      <td>606.000000</td>\n",
       "      <td>9251.775</td>\n",
       "      <td>179055.00</td>\n",
       "      <td>179055.00</td>\n",
       "      <td>1.0</td>\n",
       "      <td>0.0</td>\n",
       "      <td>0.0</td>\n",
       "      <td>0.0</td>\n",
       "      <td>1.0</td>\n",
       "    </tr>\n",
       "    <tr>\n",
       "      <th>1</th>\n",
       "      <td>100003</td>\n",
       "      <td>0</td>\n",
       "      <td>Cash loans</td>\n",
       "      <td>F</td>\n",
       "      <td>N</td>\n",
       "      <td>N</td>\n",
       "      <td>0</td>\n",
       "      <td>270000.0</td>\n",
       "      <td>1293502.5</td>\n",
       "      <td>35698.5</td>\n",
       "      <td>...</td>\n",
       "      <td>100003.0</td>\n",
       "      <td>1305.000000</td>\n",
       "      <td>56553.990</td>\n",
       "      <td>435436.50</td>\n",
       "      <td>484191.00</td>\n",
       "      <td>3.0</td>\n",
       "      <td>0.0</td>\n",
       "      <td>0.0</td>\n",
       "      <td>0.0</td>\n",
       "      <td>3.0</td>\n",
       "    </tr>\n",
       "    <tr>\n",
       "      <th>2</th>\n",
       "      <td>100004</td>\n",
       "      <td>0</td>\n",
       "      <td>Revolving loans</td>\n",
       "      <td>M</td>\n",
       "      <td>Y</td>\n",
       "      <td>Y</td>\n",
       "      <td>0</td>\n",
       "      <td>67500.0</td>\n",
       "      <td>135000.0</td>\n",
       "      <td>6750.0</td>\n",
       "      <td>...</td>\n",
       "      <td>100004.0</td>\n",
       "      <td>815.000000</td>\n",
       "      <td>5357.250</td>\n",
       "      <td>24282.00</td>\n",
       "      <td>20106.00</td>\n",
       "      <td>1.0</td>\n",
       "      <td>0.0</td>\n",
       "      <td>0.0</td>\n",
       "      <td>0.0</td>\n",
       "      <td>1.0</td>\n",
       "    </tr>\n",
       "    <tr>\n",
       "      <th>3</th>\n",
       "      <td>100006</td>\n",
       "      <td>0</td>\n",
       "      <td>Cash loans</td>\n",
       "      <td>F</td>\n",
       "      <td>N</td>\n",
       "      <td>Y</td>\n",
       "      <td>0</td>\n",
       "      <td>135000.0</td>\n",
       "      <td>312682.5</td>\n",
       "      <td>29686.5</td>\n",
       "      <td>...</td>\n",
       "      <td>100006.0</td>\n",
       "      <td>272.444444</td>\n",
       "      <td>23651.175</td>\n",
       "      <td>272203.26</td>\n",
       "      <td>291695.50</td>\n",
       "      <td>5.0</td>\n",
       "      <td>3.0</td>\n",
       "      <td>1.0</td>\n",
       "      <td>0.0</td>\n",
       "      <td>9.0</td>\n",
       "    </tr>\n",
       "    <tr>\n",
       "      <th>4</th>\n",
       "      <td>100007</td>\n",
       "      <td>0</td>\n",
       "      <td>Cash loans</td>\n",
       "      <td>M</td>\n",
       "      <td>N</td>\n",
       "      <td>Y</td>\n",
       "      <td>0</td>\n",
       "      <td>121500.0</td>\n",
       "      <td>513000.0</td>\n",
       "      <td>21865.5</td>\n",
       "      <td>...</td>\n",
       "      <td>100007.0</td>\n",
       "      <td>1222.833333</td>\n",
       "      <td>12278.805</td>\n",
       "      <td>150530.25</td>\n",
       "      <td>166638.75</td>\n",
       "      <td>6.0</td>\n",
       "      <td>0.0</td>\n",
       "      <td>0.0</td>\n",
       "      <td>0.0</td>\n",
       "      <td>6.0</td>\n",
       "    </tr>\n",
       "  </tbody>\n",
       "</table>\n",
       "<p>5 rows × 69 columns</p>\n",
       "</div>"
      ],
      "text/plain": [
       "   loan_id  infringed    contract_type gender has_own_car has_own_realty  \\\n",
       "0   100002          1       Cash loans      M           N              Y   \n",
       "1   100003          0       Cash loans      F           N              N   \n",
       "2   100004          0  Revolving loans      M           Y              Y   \n",
       "3   100006          0       Cash loans      F           N              Y   \n",
       "4   100007          0       Cash loans      M           N              Y   \n",
       "\n",
       "   num_children  annual_income  credit_amount  credit_annuity  ...  \\\n",
       "0             0       202500.0       406597.5         24700.5  ...   \n",
       "1             0       270000.0      1293502.5         35698.5  ...   \n",
       "2             0        67500.0       135000.0          6750.0  ...   \n",
       "3             0       135000.0       312682.5         29686.5  ...   \n",
       "4             0       121500.0       513000.0         21865.5  ...   \n",
       "\n",
       "   SK_ID_CURR avg_days_decision past_avg_amount_annuity  \\\n",
       "0    100002.0        606.000000                9251.775   \n",
       "1    100003.0       1305.000000               56553.990   \n",
       "2    100004.0        815.000000                5357.250   \n",
       "3    100006.0        272.444444               23651.175   \n",
       "4    100007.0       1222.833333               12278.805   \n",
       "\n",
       "  past_avg_amt_application past_avg_amt_credit  past_loans_approved  \\\n",
       "0                179055.00           179055.00                  1.0   \n",
       "1                435436.50           484191.00                  3.0   \n",
       "2                 24282.00            20106.00                  1.0   \n",
       "3                272203.26           291695.50                  5.0   \n",
       "4                150530.25           166638.75                  6.0   \n",
       "\n",
       "   past_loans_refused  past_loans_canceled  past_loans_unused  \\\n",
       "0                 0.0                  0.0                0.0   \n",
       "1                 0.0                  0.0                0.0   \n",
       "2                 0.0                  0.0                0.0   \n",
       "3                 3.0                  1.0                0.0   \n",
       "4                 0.0                  0.0                0.0   \n",
       "\n",
       "   past_loans_total  \n",
       "0               1.0  \n",
       "1               3.0  \n",
       "2               1.0  \n",
       "3               9.0  \n",
       "4               6.0  \n",
       "\n",
       "[5 rows x 69 columns]"
      ]
     },
     "execution_count": 4,
     "metadata": {},
     "output_type": "execute_result"
    }
   ],
   "source": [
    "df.head()"
   ]
  },
  {
   "cell_type": "code",
   "execution_count": 5,
   "id": "cecf8a54-a726-4918-a366-c62a0aac152c",
   "metadata": {},
   "outputs": [
    {
     "data": {
      "text/plain": [
       "array([dtype('int64'), dtype('O'), dtype('float64')], dtype=object)"
      ]
     },
     "execution_count": 5,
     "metadata": {},
     "output_type": "execute_result"
    }
   ],
   "source": [
    "df.dtypes.unique()"
   ]
  },
  {
   "cell_type": "code",
   "execution_count": 6,
   "id": "9895b130-9ed2-4caf-ae8f-1da289d4d85b",
   "metadata": {},
   "outputs": [
    {
     "data": {
      "text/html": [
       "<div>\n",
       "<style scoped>\n",
       "    .dataframe tbody tr th:only-of-type {\n",
       "        vertical-align: middle;\n",
       "    }\n",
       "\n",
       "    .dataframe tbody tr th {\n",
       "        vertical-align: top;\n",
       "    }\n",
       "\n",
       "    .dataframe thead th {\n",
       "        text-align: right;\n",
       "    }\n",
       "</style>\n",
       "<table border=\"1\" class=\"dataframe\">\n",
       "  <thead>\n",
       "    <tr style=\"text-align: right;\">\n",
       "      <th></th>\n",
       "      <th>contract_type</th>\n",
       "      <th>gender</th>\n",
       "      <th>has_own_car</th>\n",
       "      <th>has_own_realty</th>\n",
       "      <th>income_type</th>\n",
       "      <th>education</th>\n",
       "      <th>family_status</th>\n",
       "      <th>housing_type</th>\n",
       "      <th>occupation_type</th>\n",
       "      <th>organization_type</th>\n",
       "      <th>first_name</th>\n",
       "      <th>last_name</th>\n",
       "      <th>address</th>\n",
       "    </tr>\n",
       "  </thead>\n",
       "  <tbody>\n",
       "    <tr>\n",
       "      <th>0</th>\n",
       "      <td>Cash loans</td>\n",
       "      <td>M</td>\n",
       "      <td>N</td>\n",
       "      <td>Y</td>\n",
       "      <td>Working</td>\n",
       "      <td>Secondary / secondary special</td>\n",
       "      <td>Single / not married</td>\n",
       "      <td>House / apartment</td>\n",
       "      <td>Laborers</td>\n",
       "      <td>Business Entity Type 3</td>\n",
       "      <td>Robert</td>\n",
       "      <td>Watkins</td>\n",
       "      <td>PSC 6214, Box 0499\\nAPO AE 50653</td>\n",
       "    </tr>\n",
       "    <tr>\n",
       "      <th>1</th>\n",
       "      <td>Cash loans</td>\n",
       "      <td>F</td>\n",
       "      <td>N</td>\n",
       "      <td>N</td>\n",
       "      <td>State servant</td>\n",
       "      <td>Higher education</td>\n",
       "      <td>Married</td>\n",
       "      <td>House / apartment</td>\n",
       "      <td>Core staff</td>\n",
       "      <td>School</td>\n",
       "      <td>Jane</td>\n",
       "      <td>Navarro</td>\n",
       "      <td>537 Jones Views Suite 234\\nWebbton, AR 28006</td>\n",
       "    </tr>\n",
       "    <tr>\n",
       "      <th>2</th>\n",
       "      <td>Revolving loans</td>\n",
       "      <td>M</td>\n",
       "      <td>Y</td>\n",
       "      <td>Y</td>\n",
       "      <td>Working</td>\n",
       "      <td>Secondary / secondary special</td>\n",
       "      <td>Single / not married</td>\n",
       "      <td>House / apartment</td>\n",
       "      <td>Laborers</td>\n",
       "      <td>Government</td>\n",
       "      <td>David</td>\n",
       "      <td>Seagraves</td>\n",
       "      <td>7418 Brown Rapid Apt. 502\\nLake Amber, OK 60478</td>\n",
       "    </tr>\n",
       "    <tr>\n",
       "      <th>3</th>\n",
       "      <td>Cash loans</td>\n",
       "      <td>F</td>\n",
       "      <td>N</td>\n",
       "      <td>Y</td>\n",
       "      <td>Working</td>\n",
       "      <td>Secondary / secondary special</td>\n",
       "      <td>Civil marriage</td>\n",
       "      <td>House / apartment</td>\n",
       "      <td>Laborers</td>\n",
       "      <td>Business Entity Type 3</td>\n",
       "      <td>Deborah</td>\n",
       "      <td>Tandy</td>\n",
       "      <td>812 Macias Roads Suite 039\\nHelenland, MA 10754</td>\n",
       "    </tr>\n",
       "    <tr>\n",
       "      <th>4</th>\n",
       "      <td>Cash loans</td>\n",
       "      <td>M</td>\n",
       "      <td>N</td>\n",
       "      <td>Y</td>\n",
       "      <td>Working</td>\n",
       "      <td>Secondary / secondary special</td>\n",
       "      <td>Single / not married</td>\n",
       "      <td>House / apartment</td>\n",
       "      <td>Core staff</td>\n",
       "      <td>Religion</td>\n",
       "      <td>David</td>\n",
       "      <td>Walker</td>\n",
       "      <td>093 Laura Overpass Suite 487\\nLake Bryanside, ...</td>\n",
       "    </tr>\n",
       "  </tbody>\n",
       "</table>\n",
       "</div>"
      ],
      "text/plain": [
       "     contract_type gender has_own_car has_own_realty    income_type  \\\n",
       "0       Cash loans      M           N              Y        Working   \n",
       "1       Cash loans      F           N              N  State servant   \n",
       "2  Revolving loans      M           Y              Y        Working   \n",
       "3       Cash loans      F           N              Y        Working   \n",
       "4       Cash loans      M           N              Y        Working   \n",
       "\n",
       "                       education         family_status       housing_type  \\\n",
       "0  Secondary / secondary special  Single / not married  House / apartment   \n",
       "1               Higher education               Married  House / apartment   \n",
       "2  Secondary / secondary special  Single / not married  House / apartment   \n",
       "3  Secondary / secondary special        Civil marriage  House / apartment   \n",
       "4  Secondary / secondary special  Single / not married  House / apartment   \n",
       "\n",
       "  occupation_type       organization_type first_name  last_name  \\\n",
       "0        Laborers  Business Entity Type 3     Robert    Watkins   \n",
       "1      Core staff                  School       Jane    Navarro   \n",
       "2        Laborers              Government      David  Seagraves   \n",
       "3        Laborers  Business Entity Type 3    Deborah      Tandy   \n",
       "4      Core staff                Religion      David     Walker   \n",
       "\n",
       "                                             address  \n",
       "0                   PSC 6214, Box 0499\\nAPO AE 50653  \n",
       "1       537 Jones Views Suite 234\\nWebbton, AR 28006  \n",
       "2    7418 Brown Rapid Apt. 502\\nLake Amber, OK 60478  \n",
       "3    812 Macias Roads Suite 039\\nHelenland, MA 10754  \n",
       "4  093 Laura Overpass Suite 487\\nLake Bryanside, ...  "
      ]
     },
     "execution_count": 6,
     "metadata": {},
     "output_type": "execute_result"
    }
   ],
   "source": [
    "df.select_dtypes(include=['O']).head()"
   ]
  },
  {
   "cell_type": "code",
   "execution_count": 7,
   "id": "5868fb60-475c-4929-871e-966e9161fe02",
   "metadata": {},
   "outputs": [
    {
     "name": "stdout",
     "output_type": "stream",
     "text": [
      "['M' 'F' 'XNA']\n",
      "['N' 'Y']\n",
      "['Y' 'N']\n"
     ]
    }
   ],
   "source": [
    "print(df.gender.unique())\n",
    "print(df.has_own_car.unique())\n",
    "print(df.has_own_realty.unique())"
   ]
  },
  {
   "cell_type": "code",
   "execution_count": 8,
   "id": "1177b8dd-651d-4a13-9ca3-c7f06e97c268",
   "metadata": {},
   "outputs": [
    {
     "data": {
      "text/plain": [
       "4"
      ]
     },
     "execution_count": 8,
     "metadata": {},
     "output_type": "execute_result"
    }
   ],
   "source": [
    "len(df[df.gender=='XNA'])"
   ]
  },
  {
   "cell_type": "code",
   "execution_count": 9,
   "id": "6ce0de8b-14f6-46bb-8e5a-b8441e530574",
   "metadata": {},
   "outputs": [],
   "source": [
    "df = df[df.gender!='XNA']"
   ]
  },
  {
   "cell_type": "code",
   "execution_count": 10,
   "id": "f34f8ef2-528c-4a26-b0b7-52ae912dc368",
   "metadata": {},
   "outputs": [
    {
     "name": "stdout",
     "output_type": "stream",
     "text": [
      "['M' 'F']\n",
      "['N' 'Y']\n",
      "['Y' 'N']\n"
     ]
    }
   ],
   "source": [
    "print(df.gender.unique())\n",
    "print(df.has_own_car.unique())\n",
    "print(df.has_own_realty.unique())"
   ]
  },
  {
   "cell_type": "code",
   "execution_count": 11,
   "id": "c042b10d-9055-4a6b-99d0-a2b753821bb5",
   "metadata": {},
   "outputs": [],
   "source": [
    "df['gender'] = df['gender'].replace({'M': 1, 'F': 0})\n",
    "df['has_own_car'] = df['has_own_car'].replace({'Y': 1, 'N': 0})\n",
    "df['has_own_realty'] = df['has_own_realty'].replace({'Y': 1, 'N': 0})"
   ]
  },
  {
   "cell_type": "code",
   "execution_count": 12,
   "id": "d4650cf1-4427-4325-a5a0-3ccaf57d53ac",
   "metadata": {},
   "outputs": [
    {
     "data": {
      "text/plain": [
       "loan_id             int64\n",
       "infringed           int64\n",
       "contract_type      object\n",
       "gender              int64\n",
       "has_own_car         int64\n",
       "has_own_realty      int64\n",
       "num_children        int64\n",
       "annual_income     float64\n",
       "credit_amount     float64\n",
       "credit_annuity    float64\n",
       "dtype: object"
      ]
     },
     "execution_count": 12,
     "metadata": {},
     "output_type": "execute_result"
    }
   ],
   "source": [
    "df.dtypes.head(10)"
   ]
  },
  {
   "cell_type": "code",
   "execution_count": 13,
   "id": "b469d8d5-181f-40b2-81ba-41e449a1e7df",
   "metadata": {},
   "outputs": [],
   "source": [
    "df1 = df.select_dtypes(include=['int64', 'float64'])"
   ]
  },
  {
   "cell_type": "code",
   "execution_count": 14,
   "id": "bc8b31e6-0d2e-4cd7-b73e-2bd4db3ccffc",
   "metadata": {},
   "outputs": [
    {
     "data": {
      "text/plain": [
       "(307507, 59)"
      ]
     },
     "execution_count": 14,
     "metadata": {},
     "output_type": "execute_result"
    }
   ],
   "source": [
    "df1.shape"
   ]
  },
  {
   "cell_type": "code",
   "execution_count": 15,
   "id": "4914973f-b95f-4f40-a243-0b0bd3ad5809",
   "metadata": {},
   "outputs": [
    {
     "data": {
      "text/plain": [
       "loan_id                     307507\n",
       "infringed                        2\n",
       "gender                           2\n",
       "has_own_car                      2\n",
       "has_own_realty                   2\n",
       "num_children                    15\n",
       "annual_income                 2548\n",
       "credit_amount                 5603\n",
       "credit_annuity               13672\n",
       "goods_valuation               1002\n",
       "age                             50\n",
       "days_employed                12574\n",
       "car_age                         62\n",
       "provided_mobilephone             2\n",
       "provided_workphone               2\n",
       "provided_homephone               2\n",
       "mobilephone_reachable            2\n",
       "provided_email                   2\n",
       "num_family_members              17\n",
       "region_rating                    3\n",
       "score_ext_1                 114583\n",
       "score_ext_2                 119830\n",
       "score_ext_3                    814\n",
       "appendix_a                       2\n",
       "appendix_b                       2\n",
       "appendix_c                       2\n",
       "appendix_d                       2\n",
       "appendix_e                       2\n",
       "appendix_f                       2\n",
       "appendix_g                       2\n",
       "appendix_h                       2\n",
       "appendix_i                       2\n",
       "appendix_j                       2\n",
       "appendix_k                       2\n",
       "appendix_l                       2\n",
       "appendix_m                       2\n",
       "appendix_n                       2\n",
       "appendix_o                       2\n",
       "appendix_p                       2\n",
       "appendix_q                       2\n",
       "appendix_r                       2\n",
       "appendix_s                       2\n",
       "appendix_t                       2\n",
       "num_req_bureau_hour              5\n",
       "num_req_bureau_day               9\n",
       "num_req_bureau_week              9\n",
       "num_req_bureau_month            24\n",
       "num_req_bureau_qrt              11\n",
       "num_req_bureau_year             25\n",
       "SK_ID_CURR                  291053\n",
       "avg_days_decision            60027\n",
       "past_avg_amount_annuity     267470\n",
       "past_avg_amt_application    191743\n",
       "past_avg_amt_credit         210622\n",
       "past_loans_approved             26\n",
       "past_loans_refused              39\n",
       "past_loans_canceled             46\n",
       "past_loans_unused               11\n",
       "past_loans_total                65\n",
       "dtype: int64"
      ]
     },
     "execution_count": 15,
     "metadata": {},
     "output_type": "execute_result"
    }
   ],
   "source": [
    "df1.nunique()"
   ]
  },
  {
   "cell_type": "code",
   "execution_count": 16,
   "id": "8c5a0ab9-f51d-4798-99ca-6ba55012df99",
   "metadata": {},
   "outputs": [
    {
     "data": {
      "text/plain": [
       "Index(['loan_id', 'infringed', 'gender', 'has_own_car', 'has_own_realty',\n",
       "       'num_children', 'annual_income', 'credit_amount', 'credit_annuity',\n",
       "       'goods_valuation', 'age', 'days_employed', 'car_age',\n",
       "       'provided_mobilephone', 'provided_workphone', 'provided_homephone',\n",
       "       'mobilephone_reachable', 'provided_email', 'num_family_members',\n",
       "       'region_rating', 'score_ext_1', 'score_ext_2', 'score_ext_3',\n",
       "       'appendix_a', 'appendix_b', 'appendix_c', 'appendix_d', 'appendix_e',\n",
       "       'appendix_f', 'appendix_g', 'appendix_h', 'appendix_i', 'appendix_j',\n",
       "       'appendix_k', 'appendix_l', 'appendix_m', 'appendix_n', 'appendix_o',\n",
       "       'appendix_p', 'appendix_q', 'appendix_r', 'appendix_s', 'appendix_t',\n",
       "       'num_req_bureau_hour', 'num_req_bureau_day', 'num_req_bureau_week',\n",
       "       'num_req_bureau_month', 'num_req_bureau_qrt', 'num_req_bureau_year',\n",
       "       'SK_ID_CURR', 'avg_days_decision', 'past_avg_amount_annuity',\n",
       "       'past_avg_amt_application', 'past_avg_amt_credit',\n",
       "       'past_loans_approved', 'past_loans_refused', 'past_loans_canceled',\n",
       "       'past_loans_unused', 'past_loans_total'],\n",
       "      dtype='object')"
      ]
     },
     "execution_count": 16,
     "metadata": {},
     "output_type": "execute_result"
    }
   ],
   "source": [
    "df1.columns"
   ]
  },
  {
   "cell_type": "code",
   "execution_count": null,
   "id": "4d7af9bd-defd-46a2-8972-55ef88330a21",
   "metadata": {},
   "outputs": [],
   "source": [
    "columns_to_remove = ['region_rating', 'score_ext_1', 'score_ext_2', 'score_ext_3', 'appendix_a', 'appendix_b', 'appendix_c',\n",
    "                     'appendix_d', 'appendix_e', 'appendix_f', 'appendix_g', 'appendix_h', 'appendix_i', 'appendix_j',\n",
    "                     'appendix_k', 'appendix_l', 'appendix_m', 'appendix_n', 'appendix_o', 'appendix_p', 'appendix_q',\n",
    "                     'appendix_r', 'appendix_s', 'appendix_t', 'num_req_bureau_hour', 'num_req_bureau_day', 'num_req_bureau_week',\n",
    "                     'num_req_bureau_month', 'num_req_bureau_qrt', 'num_req_bureau_year', 'SK_ID_CURR', 'avg_days_decision']\n",
    "df2 = df1.drop(columns_to_remove, axis=1)"
   ]
  },
  {
   "cell_type": "code",
   "execution_count": null,
   "id": "18c3f197-26e0-4cfe-aee1-6c36ddcb6c95",
   "metadata": {},
   "outputs": [],
   "source": [
    "df2.shape"
   ]
  },
  {
   "cell_type": "code",
   "execution_count": null,
   "id": "98d52403-ceca-46cc-ab90-3a3c845c0002",
   "metadata": {},
   "outputs": [],
   "source": [
    "df2.nunique()"
   ]
  },
  {
   "cell_type": "code",
   "execution_count": null,
   "id": "88f30425-720e-47ce-ad04-caad98489287",
   "metadata": {},
   "outputs": [],
   "source": [
    "round(df2.isna().sum()/len(df2),3).sort_values(ascending=False)"
   ]
  },
  {
   "cell_type": "markdown",
   "id": "f71a67bf-9a90-4b1d-ae25-62ca9423cc76",
   "metadata": {},
   "source": [
    "#### Decidindo ficar com car_age, mesmo eliminando todos os valores nulos, resta 34% da base original, ou ~100K linhas!"
   ]
  },
  {
   "cell_type": "code",
   "execution_count": null,
   "id": "4b86c31c-1a3f-4ec6-898d-ccdde96cf03b",
   "metadata": {},
   "outputs": [],
   "source": [
    "base_all = df2.dropna()"
   ]
  },
  {
   "cell_type": "code",
   "execution_count": null,
   "id": "c927b6e2-c857-436e-afa9-0e7dadcabdf2",
   "metadata": {},
   "outputs": [],
   "source": [
    "base_all.shape"
   ]
  },
  {
   "cell_type": "code",
   "execution_count": 24,
   "id": "746bc746-0f9b-40e7-9134-0b4ddf94aadc",
   "metadata": {},
   "outputs": [
    {
     "name": "stdout",
     "output_type": "stream",
     "text": [
      "(55693, 26)\n",
      "(42643, 26)\n"
     ]
    }
   ],
   "source": [
    "# Base somente Homens --> exclui-se a coluna de gênero\n",
    "base_m = base_all[base_all.gender==1].drop('gender',axis=1)\n",
    "print(base_m.shape)\n",
    "# Base somente Mulheres --> exclui-se a coluna de gênero\n",
    "base_f = base_all[base_all.gender==0].drop('gender',axis=1)\n",
    "print(base_f.shape)"
   ]
  },
  {
   "cell_type": "markdown",
   "id": "9759788a-94e0-4be7-bc4e-3397ab8e27fb",
   "metadata": {},
   "source": [
    "#### A distribuição entre homens (56,5%) e mulheres (43,5%) é relativamente balanceada, o que permite fazer comparações entre esses grupos sem muito viés."
   ]
  },
  {
   "cell_type": "code",
   "execution_count": null,
   "id": "7095197a-e079-4ce0-a87c-df4704390e00",
   "metadata": {},
   "outputs": [],
   "source": []
  },
  {
   "cell_type": "markdown",
   "id": "f9db8b76-637a-4d4f-87e5-4287e86e98c4",
   "metadata": {},
   "source": [
    "### **3. Análise Base Geral**"
   ]
  },
  {
   "cell_type": "markdown",
   "id": "324dfb78-d671-4bda-bbdb-4efe91a4c061",
   "metadata": {},
   "source": [
    "### 3.1. Primeiras infos PCA"
   ]
  },
  {
   "cell_type": "code",
   "execution_count": 25,
   "id": "a658eda4-c3b0-4816-b442-4082bde4ac9f",
   "metadata": {},
   "outputs": [],
   "source": [
    "from sklearn.decomposition import PCA"
   ]
  },
  {
   "cell_type": "code",
   "execution_count": 26,
   "id": "13a81f2a-9fe3-40d0-81aa-ef7bad3d00c5",
   "metadata": {},
   "outputs": [
    {
     "name": "stdout",
     "output_type": "stream",
     "text": [
      "Variância explicada\n",
      "[7.57730677e-01 1.47509383e-01 3.69270378e-02 2.63985498e-02\n",
      " 2.45006765e-02 4.90849891e-03 1.69144457e-03 2.28502160e-04\n",
      " 1.05229124e-04 3.28575048e-10 1.91164199e-10 4.80113165e-11\n",
      " 6.61385521e-12 4.20072526e-12 3.05306525e-12 5.63392868e-13\n",
      " 4.77322229e-13 3.87845709e-13 3.40230371e-13 1.55684302e-13\n",
      " 1.44264393e-13 1.31730191e-13 1.78367370e-15 2.73765800e-16\n",
      " 3.14030186e-33 3.14030186e-33 3.14030186e-33]\n",
      "\n",
      "Autovalores\n",
      "[3.27864310e+11 6.38261899e+10 1.59780488e+10 1.14224520e+10\n",
      " 1.06012567e+10 2.12387020e+09 7.31875221e+08 9.88711493e+07\n",
      " 4.55318430e+07 1.42171928e+02 8.27152973e+01 2.07741320e+01\n",
      " 2.86176492e+00 1.81762192e+00 1.32103815e+00 2.43775816e-01\n",
      " 2.06533704e-01 1.67817893e-01 1.47215098e-01 6.73634152e-02\n",
      " 6.24221074e-02 5.69986534e-02 7.71782064e-04 1.18456383e-04\n",
      " 1.35878477e-21 1.35878477e-21 1.35878477e-21]\n"
     ]
    }
   ],
   "source": [
    "# Inicialize o modelo PCA com o número de componentes desejado (por exemplo, 2 componentes)\n",
    "pca = PCA(n_components=len(base_all.columns))\n",
    "pca.fit_transform(base_all)\n",
    "\n",
    "# Obtenha as proporções de variância explicada\n",
    "explained_variance = pca.explained_variance_ratio_\n",
    "\n",
    "# Obtenha os autovalores\n",
    "eigenvalues = pca.explained_variance_\n",
    "\n",
    "print(\"Variância explicada\")\n",
    "print(explained_variance)\n",
    "\n",
    "print(\"\\nAutovalores\")\n",
    "print(eigenvalues)"
   ]
  },
  {
   "cell_type": "markdown",
   "id": "718bdb82-89ac-478d-82fb-ebf34b338673",
   "metadata": {},
   "source": [
    "### 4.2. Scree plot"
   ]
  },
  {
   "cell_type": "code",
   "execution_count": 27,
   "id": "5aabb4d3-8555-48fb-a5ba-bcc853d28fe4",
   "metadata": {},
   "outputs": [
    {
     "data": {
      "image/png": "[encoded data removed]",
      "text/plain": [
       "<Figure size 432x288 with 1 Axes>"
      ]
     },
     "metadata": {
      "needs_background": "light"
     },
     "output_type": "display_data"
    }
   ],
   "source": [
    "plt.plot(range(1, len(explained_variance) + 1), explained_variance, marker='o', linestyle='-')\n",
    "plt.xticks(np.arange(1, len(explained_variance) + 1, step=1))\n",
    "plt.xlabel('Número de Componentes Principais')\n",
    "plt.ylabel('Explicação da variação')\n",
    "plt.title('Scree Plot')\n",
    "\n",
    "plt.show()"
   ]
  },
  {
   "cell_type": "code",
   "execution_count": 28,
   "id": "688aa2e8-57c1-4a7c-b4b0-8119206d2a63",
   "metadata": {},
   "outputs": [
    {
     "data": {
      "image/png": "[encoded data removed]",
      "text/plain": [
       "<Figure size 432x288 with 1 Axes>"
      ]
     },
     "metadata": {
      "needs_background": "light"
     },
     "output_type": "display_data"
    }
   ],
   "source": [
    "plt.plot(range(1, len(explained_variance) + 1), eigenvalues, marker='o', linestyle='-')\n",
    "plt.xticks(np.arange(1, len(explained_variance) + 1, step=1))\n",
    "plt.xlabel('Número de Componentes Principais')\n",
    "plt.ylabel('Autovalores')\n",
    "plt.title('Scree Plot')\n",
    "\n",
    "plt.show()"
   ]
  },
  {
   "cell_type": "markdown",
   "id": "7e838f3f-1369-41a8-927e-f1974ce6285b",
   "metadata": {},
   "source": [
    "#### Este segundo é o scree plot em si, pois no eixo Y são representados os autovalores.\n",
    "\n",
    "#### Portanto, **2 componentes** são suficientes para a explicação de base_all."
   ]
  },
  {
   "cell_type": "markdown",
   "id": "b828cdeb-a788-4c95-a1ec-ab23a0768652",
   "metadata": {},
   "source": [
    "### 3.3. Loadings (Variáveis que mais contribuem para os 2 componentes)"
   ]
  },
  {
   "cell_type": "code",
   "execution_count": 29,
   "id": "1b8c1e2f-cdf1-4bb3-acbe-dd57db44962f",
   "metadata": {},
   "outputs": [],
   "source": [
    "# Obtenha os autovetores (vetores próprios)\n",
    "eigenvectors = pca.components_\n",
    "\n",
    "# Crie um DataFrame para visualizar os autovetores com os nomes das variáveis originais\n",
    "eigenvectors_df = pd.DataFrame(eigenvectors, columns=base_all.columns)\n",
    "\n",
    "# Agora, para cada componente principal, você pode ver como as variáveis originais contribuem para ele.\n",
    "# Por exemplo, para o primeiro componente principal:\n",
    "component_1 = eigenvectors_df.iloc[0]\n",
    "component_2 = eigenvectors_df.iloc[1]"
   ]
  },
  {
   "cell_type": "code",
   "execution_count": 30,
   "id": "6a720b74-f55e-4830-9255-0989ef33f6b4",
   "metadata": {},
   "outputs": [
    {
     "name": "stdout",
     "output_type": "stream",
     "text": [
      "Contribuição das variáveis para o primeiro componente principal:\n",
      "credit_amount               7.294786e-01\n",
      "goods_valuation             6.709601e-01\n",
      "past_avg_amt_credit         8.016326e-02\n",
      "past_avg_amt_application    7.665259e-02\n",
      "annual_income               7.040818e-02\n",
      "credit_annuity              1.972543e-02\n",
      "past_avg_amount_annuity     4.853605e-03\n",
      "loan_id                     2.019672e-04\n",
      "age                         2.643586e-06\n",
      "past_loans_approved         8.103236e-08\n",
      "num_family_members          3.835930e-08\n",
      "provided_email              6.313329e-09\n",
      "provided_workphone          2.484061e-09\n",
      "mobilephone_reachable       3.924153e-10\n",
      "has_own_car                 2.775558e-17\n",
      "provided_mobilephone        0.000000e+00\n",
      "provided_homephone         -1.642941e-09\n",
      "past_loans_unused          -1.711787e-08\n",
      "infringed                  -1.717442e-08\n",
      "has_own_realty             -2.149329e-08\n",
      "num_children               -3.076089e-08\n",
      "gender                     -3.505541e-08\n",
      "past_loans_refused         -3.730873e-08\n",
      "past_loans_total           -9.700303e-08\n",
      "past_loans_canceled        -1.236088e-07\n",
      "car_age                    -1.988569e-06\n",
      "days_employed              -1.304369e-03\n",
      "Name: 0, dtype: float64\n"
     ]
    }
   ],
   "source": [
    "print(\"Contribuição das variáveis para o primeiro componente principal:\")\n",
    "print(component_1.sort_values(ascending=False))"
   ]
  },
  {
   "cell_type": "code",
   "execution_count": 31,
   "id": "e2b2732c-e7f1-4010-8615-54367258da88",
   "metadata": {},
   "outputs": [
    {
     "data": {
      "image/png": "[encoded data removed]",
      "text/plain": [
       "<Figure size 720x288 with 1 Axes>"
      ]
     },
     "metadata": {
      "needs_background": "light"
     },
     "output_type": "display_data"
    }
   ],
   "source": [
    "plt.figure(figsize=(10,4))\n",
    "plt.title('Contribuição das variáveis para o PRMEIRO COMPONENTE principal')\n",
    "plt.plot(component_1.sort_values(ascending=False), marker='o', linestyle='-')\n",
    "plt.xticks(rotation=90)\n",
    "\n",
    "plt.show()"
   ]
  },
  {
   "cell_type": "code",
   "execution_count": 32,
   "id": "065efa0b-f4e7-4f14-b19c-3e8b712a892a",
   "metadata": {},
   "outputs": [
    {
     "name": "stdout",
     "output_type": "stream",
     "text": [
      "Contribuição das variáveis para a segunda componente principal:\n",
      "past_avg_amt_credit         7.218727e-01\n",
      "past_avg_amt_application    6.735538e-01\n",
      "annual_income               1.007836e-01\n",
      "past_avg_amount_annuity     3.272610e-02\n",
      "days_employed               1.007849e-02\n",
      "loan_id                     1.423358e-03\n",
      "credit_annuity              6.164039e-04\n",
      "age                         5.291787e-06\n",
      "past_loans_total            2.703760e-06\n",
      "past_loans_canceled         1.529965e-06\n",
      "past_loans_approved         7.653003e-07\n",
      "past_loans_refused          4.935194e-07\n",
      "provided_email              7.211409e-08\n",
      "has_own_realty              4.175403e-08\n",
      "infringed                   4.904165e-10\n",
      "has_own_car                 2.220446e-16\n",
      "provided_mobilephone       -0.000000e+00\n",
      "mobilephone_reachable      -1.051757e-09\n",
      "provided_workphone         -2.842310e-08\n",
      "provided_homephone         -2.851388e-08\n",
      "gender                     -5.844894e-08\n",
      "past_loans_unused          -8.502441e-08\n",
      "num_family_members         -1.147516e-07\n",
      "num_children               -1.607329e-07\n",
      "car_age                    -3.845702e-06\n",
      "goods_valuation            -7.674945e-02\n",
      "credit_amount              -8.945516e-02\n",
      "Name: 1, dtype: float64\n"
     ]
    }
   ],
   "source": [
    "print(\"Contribuição das variáveis para a segunda componente principal:\")\n",
    "print(component_2.sort_values(ascending=False))"
   ]
  },
  {
   "cell_type": "code",
   "execution_count": 33,
   "id": "eb52042b-fa64-4e64-9d3c-737dbd5dd9b8",
   "metadata": {},
   "outputs": [
    {
     "data": {
      "image/png": "[encoded data removed]",
      "text/plain": [
       "<Figure size 720x288 with 1 Axes>"
      ]
     },
     "metadata": {
      "needs_background": "light"
     },
     "output_type": "display_data"
    }
   ],
   "source": [
    "plt.figure(figsize=(10,4))\n",
    "plt.title('Contribuição das variáveis para o SEGUNDO COMPONENTE principal')\n",
    "plt.plot(component_2.sort_values(ascending=False), marker='o', linestyle='-')\n",
    "plt.xticks(rotation=90)\n",
    "\n",
    "plt.show()"
   ]
  },
  {
   "cell_type": "markdown",
   "id": "afbe1bc3-0613-4242-8d78-61ae807af50f",
   "metadata": {},
   "source": [
    "#### Coincidentemente, as duas variáveis que mais explicam o PRIMEIRO COMPONENTE (goods_valuation e credit_amount) são os que menos explicam o SEGUNDO COMPONENTE..."
   ]
  },
  {
   "cell_type": "markdown",
   "id": "50e61338-558f-4c3f-af34-9348ad4f35a4",
   "metadata": {},
   "source": [
    "### Resumo dos Loadings"
   ]
  },
  {
   "cell_type": "code",
   "execution_count": 34,
   "id": "84248c84-6e29-4186-aad2-bafa6244058c",
   "metadata": {},
   "outputs": [],
   "source": [
    "# Trabalhando com apenas 2 componentes\n",
    "pca = PCA(n_components=2)\n",
    "pca.fit(base_all)\n",
    "base_all_pca = pca.transform(base_all)"
   ]
  },
  {
   "cell_type": "code",
   "execution_count": 35,
   "id": "4609f679-69f3-42de-a950-b5009459ed55",
   "metadata": {},
   "outputs": [
    {
     "data": {
      "text/html": [
       "<div>\n",
       "<style scoped>\n",
       "    .dataframe tbody tr th:only-of-type {\n",
       "        vertical-align: middle;\n",
       "    }\n",
       "\n",
       "    .dataframe tbody tr th {\n",
       "        vertical-align: top;\n",
       "    }\n",
       "\n",
       "    .dataframe thead th {\n",
       "        text-align: right;\n",
       "    }\n",
       "</style>\n",
       "<table border=\"1\" class=\"dataframe\">\n",
       "  <thead>\n",
       "    <tr style=\"text-align: right;\">\n",
       "      <th></th>\n",
       "      <th>PC1</th>\n",
       "      <th>PC2</th>\n",
       "    </tr>\n",
       "  </thead>\n",
       "  <tbody>\n",
       "    <tr>\n",
       "      <th>loan_id</th>\n",
       "      <td>0.000</td>\n",
       "      <td>0.001</td>\n",
       "    </tr>\n",
       "    <tr>\n",
       "      <th>infringed</th>\n",
       "      <td>-0.000</td>\n",
       "      <td>0.000</td>\n",
       "    </tr>\n",
       "    <tr>\n",
       "      <th>gender</th>\n",
       "      <td>-0.000</td>\n",
       "      <td>-0.000</td>\n",
       "    </tr>\n",
       "    <tr>\n",
       "      <th>has_own_car</th>\n",
       "      <td>-0.000</td>\n",
       "      <td>-0.000</td>\n",
       "    </tr>\n",
       "    <tr>\n",
       "      <th>has_own_realty</th>\n",
       "      <td>-0.000</td>\n",
       "      <td>0.000</td>\n",
       "    </tr>\n",
       "    <tr>\n",
       "      <th>num_children</th>\n",
       "      <td>-0.000</td>\n",
       "      <td>-0.000</td>\n",
       "    </tr>\n",
       "    <tr>\n",
       "      <th>annual_income</th>\n",
       "      <td>0.070</td>\n",
       "      <td>0.101</td>\n",
       "    </tr>\n",
       "    <tr>\n",
       "      <th>credit_amount</th>\n",
       "      <td>0.729</td>\n",
       "      <td>-0.089</td>\n",
       "    </tr>\n",
       "    <tr>\n",
       "      <th>credit_annuity</th>\n",
       "      <td>0.020</td>\n",
       "      <td>0.001</td>\n",
       "    </tr>\n",
       "    <tr>\n",
       "      <th>goods_valuation</th>\n",
       "      <td>0.671</td>\n",
       "      <td>-0.077</td>\n",
       "    </tr>\n",
       "    <tr>\n",
       "      <th>age</th>\n",
       "      <td>0.000</td>\n",
       "      <td>0.000</td>\n",
       "    </tr>\n",
       "    <tr>\n",
       "      <th>days_employed</th>\n",
       "      <td>-0.001</td>\n",
       "      <td>0.010</td>\n",
       "    </tr>\n",
       "    <tr>\n",
       "      <th>car_age</th>\n",
       "      <td>-0.000</td>\n",
       "      <td>-0.000</td>\n",
       "    </tr>\n",
       "    <tr>\n",
       "      <th>provided_mobilephone</th>\n",
       "      <td>0.000</td>\n",
       "      <td>-0.000</td>\n",
       "    </tr>\n",
       "    <tr>\n",
       "      <th>provided_workphone</th>\n",
       "      <td>0.000</td>\n",
       "      <td>-0.000</td>\n",
       "    </tr>\n",
       "    <tr>\n",
       "      <th>provided_homephone</th>\n",
       "      <td>-0.000</td>\n",
       "      <td>-0.000</td>\n",
       "    </tr>\n",
       "    <tr>\n",
       "      <th>mobilephone_reachable</th>\n",
       "      <td>0.000</td>\n",
       "      <td>-0.000</td>\n",
       "    </tr>\n",
       "    <tr>\n",
       "      <th>provided_email</th>\n",
       "      <td>0.000</td>\n",
       "      <td>0.000</td>\n",
       "    </tr>\n",
       "    <tr>\n",
       "      <th>num_family_members</th>\n",
       "      <td>0.000</td>\n",
       "      <td>-0.000</td>\n",
       "    </tr>\n",
       "    <tr>\n",
       "      <th>past_avg_amount_annuity</th>\n",
       "      <td>0.005</td>\n",
       "      <td>0.033</td>\n",
       "    </tr>\n",
       "    <tr>\n",
       "      <th>past_avg_amt_application</th>\n",
       "      <td>0.077</td>\n",
       "      <td>0.674</td>\n",
       "    </tr>\n",
       "    <tr>\n",
       "      <th>past_avg_amt_credit</th>\n",
       "      <td>0.080</td>\n",
       "      <td>0.722</td>\n",
       "    </tr>\n",
       "    <tr>\n",
       "      <th>past_loans_approved</th>\n",
       "      <td>0.000</td>\n",
       "      <td>0.000</td>\n",
       "    </tr>\n",
       "    <tr>\n",
       "      <th>past_loans_refused</th>\n",
       "      <td>-0.000</td>\n",
       "      <td>0.000</td>\n",
       "    </tr>\n",
       "    <tr>\n",
       "      <th>past_loans_canceled</th>\n",
       "      <td>-0.000</td>\n",
       "      <td>0.000</td>\n",
       "    </tr>\n",
       "    <tr>\n",
       "      <th>past_loans_unused</th>\n",
       "      <td>-0.000</td>\n",
       "      <td>-0.000</td>\n",
       "    </tr>\n",
       "    <tr>\n",
       "      <th>past_loans_total</th>\n",
       "      <td>-0.000</td>\n",
       "      <td>0.000</td>\n",
       "    </tr>\n",
       "  </tbody>\n",
       "</table>\n",
       "</div>"
      ],
      "text/plain": [
       "                            PC1    PC2\n",
       "loan_id                   0.000  0.001\n",
       "infringed                -0.000  0.000\n",
       "gender                   -0.000 -0.000\n",
       "has_own_car              -0.000 -0.000\n",
       "has_own_realty           -0.000  0.000\n",
       "num_children             -0.000 -0.000\n",
       "annual_income             0.070  0.101\n",
       "credit_amount             0.729 -0.089\n",
       "credit_annuity            0.020  0.001\n",
       "goods_valuation           0.671 -0.077\n",
       "age                       0.000  0.000\n",
       "days_employed            -0.001  0.010\n",
       "car_age                  -0.000 -0.000\n",
       "provided_mobilephone      0.000 -0.000\n",
       "provided_workphone        0.000 -0.000\n",
       "provided_homephone       -0.000 -0.000\n",
       "mobilephone_reachable     0.000 -0.000\n",
       "provided_email            0.000  0.000\n",
       "num_family_members        0.000 -0.000\n",
       "past_avg_amount_annuity   0.005  0.033\n",
       "past_avg_amt_application  0.077  0.674\n",
       "past_avg_amt_credit       0.080  0.722\n",
       "past_loans_approved       0.000  0.000\n",
       "past_loans_refused       -0.000  0.000\n",
       "past_loans_canceled      -0.000  0.000\n",
       "past_loans_unused        -0.000 -0.000\n",
       "past_loans_total         -0.000  0.000"
      ]
     },
     "execution_count": 35,
     "metadata": {},
     "output_type": "execute_result"
    }
   ],
   "source": [
    "loadings = pd.DataFrame(pca.components_.T, columns=['PC1','PC2'], index=base_all.columns)\n",
    "round(loadings,3)"
   ]
  },
  {
   "cell_type": "markdown",
   "id": "c7e9a5e6-784c-4bfb-b72e-b033eb00ecde",
   "metadata": {},
   "source": [
    "#### Abaixo, a participação de uma variável em relação às duas! Aqui não é o tamanho do impacto, mas como cada uma delas impacta nas componentes. Por exemplo, loan_id impacta muito mais em PC2 apesar do abosluto dessa var ser quase zero (tabela acima)."
   ]
  },
  {
   "cell_type": "code",
   "execution_count": 36,
   "id": "a7d274f1-4b62-43db-9bb4-b4aa4579ef84",
   "metadata": {},
   "outputs": [
    {
     "data": {
      "text/html": [
       "<div>\n",
       "<style scoped>\n",
       "    .dataframe tbody tr th:only-of-type {\n",
       "        vertical-align: middle;\n",
       "    }\n",
       "\n",
       "    .dataframe tbody tr th {\n",
       "        vertical-align: top;\n",
       "    }\n",
       "\n",
       "    .dataframe thead th {\n",
       "        text-align: right;\n",
       "    }\n",
       "</style>\n",
       "<table border=\"1\" class=\"dataframe\">\n",
       "  <thead>\n",
       "    <tr style=\"text-align: right;\">\n",
       "      <th></th>\n",
       "      <th>PC1</th>\n",
       "      <th>PC2</th>\n",
       "    </tr>\n",
       "  </thead>\n",
       "  <tbody>\n",
       "    <tr>\n",
       "      <th>loan_id</th>\n",
       "      <td>0.124</td>\n",
       "      <td>0.876</td>\n",
       "    </tr>\n",
       "    <tr>\n",
       "      <th>infringed</th>\n",
       "      <td>1.029</td>\n",
       "      <td>-0.029</td>\n",
       "    </tr>\n",
       "    <tr>\n",
       "      <th>gender</th>\n",
       "      <td>0.375</td>\n",
       "      <td>0.625</td>\n",
       "    </tr>\n",
       "    <tr>\n",
       "      <th>has_own_car</th>\n",
       "      <td>1.000</td>\n",
       "      <td>0.000</td>\n",
       "    </tr>\n",
       "    <tr>\n",
       "      <th>has_own_realty</th>\n",
       "      <td>-1.061</td>\n",
       "      <td>2.061</td>\n",
       "    </tr>\n",
       "    <tr>\n",
       "      <th>num_children</th>\n",
       "      <td>0.161</td>\n",
       "      <td>0.839</td>\n",
       "    </tr>\n",
       "    <tr>\n",
       "      <th>annual_income</th>\n",
       "      <td>0.411</td>\n",
       "      <td>0.589</td>\n",
       "    </tr>\n",
       "    <tr>\n",
       "      <th>credit_amount</th>\n",
       "      <td>1.140</td>\n",
       "      <td>-0.140</td>\n",
       "    </tr>\n",
       "    <tr>\n",
       "      <th>credit_annuity</th>\n",
       "      <td>0.970</td>\n",
       "      <td>0.030</td>\n",
       "    </tr>\n",
       "    <tr>\n",
       "      <th>goods_valuation</th>\n",
       "      <td>1.129</td>\n",
       "      <td>-0.129</td>\n",
       "    </tr>\n",
       "    <tr>\n",
       "      <th>age</th>\n",
       "      <td>0.333</td>\n",
       "      <td>0.667</td>\n",
       "    </tr>\n",
       "    <tr>\n",
       "      <th>days_employed</th>\n",
       "      <td>-0.149</td>\n",
       "      <td>1.149</td>\n",
       "    </tr>\n",
       "    <tr>\n",
       "      <th>car_age</th>\n",
       "      <td>0.341</td>\n",
       "      <td>0.659</td>\n",
       "    </tr>\n",
       "    <tr>\n",
       "      <th>provided_mobilephone</th>\n",
       "      <td>NaN</td>\n",
       "      <td>NaN</td>\n",
       "    </tr>\n",
       "    <tr>\n",
       "      <th>provided_workphone</th>\n",
       "      <td>-0.096</td>\n",
       "      <td>1.096</td>\n",
       "    </tr>\n",
       "    <tr>\n",
       "      <th>provided_homephone</th>\n",
       "      <td>0.054</td>\n",
       "      <td>0.946</td>\n",
       "    </tr>\n",
       "    <tr>\n",
       "      <th>mobilephone_reachable</th>\n",
       "      <td>-0.595</td>\n",
       "      <td>1.595</td>\n",
       "    </tr>\n",
       "    <tr>\n",
       "      <th>provided_email</th>\n",
       "      <td>0.080</td>\n",
       "      <td>0.920</td>\n",
       "    </tr>\n",
       "    <tr>\n",
       "      <th>num_family_members</th>\n",
       "      <td>-0.502</td>\n",
       "      <td>1.502</td>\n",
       "    </tr>\n",
       "    <tr>\n",
       "      <th>past_avg_amount_annuity</th>\n",
       "      <td>0.129</td>\n",
       "      <td>0.871</td>\n",
       "    </tr>\n",
       "    <tr>\n",
       "      <th>past_avg_amt_application</th>\n",
       "      <td>0.102</td>\n",
       "      <td>0.898</td>\n",
       "    </tr>\n",
       "    <tr>\n",
       "      <th>past_avg_amt_credit</th>\n",
       "      <td>0.100</td>\n",
       "      <td>0.900</td>\n",
       "    </tr>\n",
       "    <tr>\n",
       "      <th>past_loans_approved</th>\n",
       "      <td>0.096</td>\n",
       "      <td>0.904</td>\n",
       "    </tr>\n",
       "    <tr>\n",
       "      <th>past_loans_refused</th>\n",
       "      <td>-0.082</td>\n",
       "      <td>1.082</td>\n",
       "    </tr>\n",
       "    <tr>\n",
       "      <th>past_loans_canceled</th>\n",
       "      <td>-0.088</td>\n",
       "      <td>1.088</td>\n",
       "    </tr>\n",
       "    <tr>\n",
       "      <th>past_loans_unused</th>\n",
       "      <td>0.168</td>\n",
       "      <td>0.832</td>\n",
       "    </tr>\n",
       "    <tr>\n",
       "      <th>past_loans_total</th>\n",
       "      <td>-0.037</td>\n",
       "      <td>1.037</td>\n",
       "    </tr>\n",
       "  </tbody>\n",
       "</table>\n",
       "</div>"
      ],
      "text/plain": [
       "                            PC1    PC2\n",
       "loan_id                   0.124  0.876\n",
       "infringed                 1.029 -0.029\n",
       "gender                    0.375  0.625\n",
       "has_own_car               1.000  0.000\n",
       "has_own_realty           -1.061  2.061\n",
       "num_children              0.161  0.839\n",
       "annual_income             0.411  0.589\n",
       "credit_amount             1.140 -0.140\n",
       "credit_annuity            0.970  0.030\n",
       "goods_valuation           1.129 -0.129\n",
       "age                       0.333  0.667\n",
       "days_employed            -0.149  1.149\n",
       "car_age                   0.341  0.659\n",
       "provided_mobilephone        NaN    NaN\n",
       "provided_workphone       -0.096  1.096\n",
       "provided_homephone        0.054  0.946\n",
       "mobilephone_reachable    -0.595  1.595\n",
       "provided_email            0.080  0.920\n",
       "num_family_members       -0.502  1.502\n",
       "past_avg_amount_annuity   0.129  0.871\n",
       "past_avg_amt_application  0.102  0.898\n",
       "past_avg_amt_credit       0.100  0.900\n",
       "past_loans_approved       0.096  0.904\n",
       "past_loans_refused       -0.082  1.082\n",
       "past_loans_canceled      -0.088  1.088\n",
       "past_loans_unused         0.168  0.832\n",
       "past_loans_total         -0.037  1.037"
      ]
     },
     "execution_count": 36,
     "metadata": {},
     "output_type": "execute_result"
    }
   ],
   "source": [
    "norm_loadings = loadings.div(loadings.sum(axis=1), axis=0)\n",
    "round(norm_loadings,3)"
   ]
  },
  {
   "cell_type": "markdown",
   "id": "e5349f34-e77b-41ab-b520-e917976cc484",
   "metadata": {},
   "source": [
    "### 3.4. Loading plot"
   ]
  },
  {
   "cell_type": "code",
   "execution_count": 37,
   "id": "b2992b70-f2a6-43e1-bd54-209be8835550",
   "metadata": {},
   "outputs": [
    {
     "data": {
      "image/png": "[encoded data removed]",
      "text/plain": [
       "<Figure size 504x504 with 1 Axes>"
      ]
     },
     "metadata": {
      "needs_background": "light"
     },
     "output_type": "display_data"
    }
   ],
   "source": [
    "def loading_plot(coeff, labels):\n",
    "    n = coeff.shape[0]\n",
    "    for i in range(n):\n",
    "        plt.arrow(0, 0, coeff[i,0], coeff[i,1], head_width = 0.05, head_length = 0.05, color = 'red',alpha = 0.5)\n",
    "        plt.text(coeff[i,0]* 1.15, coeff[i,1] * 1.15, labels[i], color = 'blue', ha = 'center', va = 'center')\n",
    "    plt.xlim(-1,1)\n",
    "    plt.ylim(-1,1)\n",
    "    plt.xlabel('PC1')\n",
    "    plt.ylabel('PC2')\n",
    "    plt.grid()\n",
    "\n",
    "fig, ax = plt.subplots(figsize = (7,7))\n",
    "loading_plot(pca.components_.T, base_all.columns)"
   ]
  },
  {
   "cell_type": "markdown",
   "id": "cb1bd347-1e9c-4129-9185-20a3411b420c",
   "metadata": {},
   "source": [
    "#### Percebe-se que as duas variáveis principais que melhor explicam cada componente estão altamente correlacionadas. De um lado, \"goods_valuation\" com \"credit_amount\" e, de outro, \"past_avg_amt_credit\" com \"past_avg_amt_application\".\n",
    "\n",
    "#### Além disso, cada um desses pares não se relacionam entre si (cos~0º)...\n",
    "\n",
    "#### Annual income tem força menor, mas é a 5ªa variável, pois é a 5ª a explicar PC1 e 3ª de PCA. Possui correlação positiva média com as quatro variáveis principais."
   ]
  },
  {
   "cell_type": "markdown",
   "id": "1be32e3f-6c70-4986-8b1a-79aa5ee95022",
   "metadata": {},
   "source": [
    "## Tentei acima criar uma maneira de selecionar os vetores mais compridos apenas, por ex N=2 N=4... mas como comecei a levar muito tempo, deixei de lado e segui pra entregar, acho que pode-se tentar apenas se houver tempo hábil =)"
   ]
  },
  {
   "cell_type": "markdown",
   "id": "3662948e-3661-4073-b59c-c6f1114a7ccc",
   "metadata": {},
   "source": [
    "### 3.5. Score plot"
   ]
  },
  {
   "cell_type": "code",
   "execution_count": 38,
   "id": "ea96acf7-e1eb-482f-8103-239acb7a0101",
   "metadata": {},
   "outputs": [
    {
     "data": {
      "image/png": "[encoded data removed]",
      "text/plain": [
       "<Figure size 432x288 with 1 Axes>"
      ]
     },
     "metadata": {
      "needs_background": "light"
     },
     "output_type": "display_data"
    }
   ],
   "source": [
    "plt.scatter(base_all_pca[:, 0], base_all_pca[:, 1])\n",
    "plt.xlabel('Primeira Componente Principal')\n",
    "plt.ylabel('Segunda Componente Principal')\n",
    "plt.title('Score Plot')\n",
    "\n",
    "plt.show()"
   ]
  },
  {
   "cell_type": "markdown",
   "id": "ac0704cc-acac-4857-9222-165db83598ca",
   "metadata": {},
   "source": [
    "#### O score plot mostra que não existe nenhuma relação óbvia entre as duas componentes senão uma relação de perpendicularidade entre ambas.\n",
    "#### Não existe grandes clusteres bem separados também.\n",
    "#### Poucos são os pontos de outlier, sendo os principais aqueles que se encontram em X>3 e Y<1 (menos de 1 dúzia de ponto)."
   ]
  },
  {
   "cell_type": "markdown",
   "id": "a13d080c-5b14-4e2e-85ee-c2f822fc0b4e",
   "metadata": {},
   "source": [
    "### 3.6. Análise de resíduos"
   ]
  },
  {
   "cell_type": "code",
   "execution_count": 39,
   "id": "66087e99-ce03-4040-9b4a-86b4ae30208e",
   "metadata": {},
   "outputs": [
    {
     "data": {
      "image/png": "[encoded data removed]",
      "text/plain": [
       "<Figure size 432x288 with 1 Axes>"
      ]
     },
     "metadata": {
      "needs_background": "light"
     },
     "output_type": "display_data"
    }
   ],
   "source": [
    "### Retoando o Scree Plot\n",
    "plt.plot(range(1, len(explained_variance) + 1), eigenvalues, marker='o', linestyle='-')\n",
    "plt.xticks(np.arange(1, len(explained_variance) + 1, step=1))\n",
    "plt.xlabel('Número de Componentes Principais')\n",
    "plt.ylabel('Autovalores')\n",
    "plt.title('Scree Plot')\n",
    "\n",
    "plt.show()"
   ]
  },
  {
   "cell_type": "code",
   "execution_count": 40,
   "id": "c370fc38-8337-43b7-af34-917cce9e5e89",
   "metadata": {},
   "outputs": [
    {
     "data": {
      "image/png": "[encoded data removed]",
      "text/plain": [
       "<Figure size 432x288 with 1 Axes>"
      ]
     },
     "metadata": {
      "needs_background": "light"
     },
     "output_type": "display_data"
    }
   ],
   "source": [
    "# Calcule os autovalores acumulados\n",
    "cumulative_eigenvalues = np.cumsum(eigenvalues)\n",
    "\n",
    "# Calcule a proporção acumulada da variância explicada\n",
    "explained_variance_ratio = cumulative_eigenvalues / np.sum(eigenvalues)\n",
    "\n",
    "# Crie o gráfico de Scree Plot com autovalores acumulados\n",
    "plt.plot(range(1, len(explained_variance_ratio) + 1), explained_variance_ratio, marker='o', linestyle='-')\n",
    "plt.xticks(np.arange(1, len(explained_variance_ratio) + 1, step=1))\n",
    "plt.xlabel('Número de Componentes Principais')\n",
    "plt.ylabel('Proporção Acumulada da Variância Explicada')\n",
    "plt.title('Scree Plot (Variância Acumulada)')\n",
    "\n",
    "plt.show()"
   ]
  },
  {
   "cell_type": "markdown",
   "id": "c9577d15-1fff-423d-a480-5726cb7cad57",
   "metadata": {},
   "source": [
    "#### Reforça-se que com 1 componente se explica 75% da variação total de X e que, com 2 componentes, 90%."
   ]
  },
  {
   "cell_type": "code",
   "execution_count": 41,
   "id": "cc955691-c652-40db-b636-e9749496e4fb",
   "metadata": {},
   "outputs": [],
   "source": [
    "scores = np.array([base_all_pca[:, 0], base_all_pca[:, 1]])"
   ]
  },
  {
   "cell_type": "code",
   "execution_count": 42,
   "id": "af9b9f10-0767-4ac1-98e7-4096cadd2e80",
   "metadata": {},
   "outputs": [],
   "source": [
    "# Obtenha o número total de pontos\n",
    "total_points = scores.shape[1]\n",
    "\n",
    "# Trabalhando com apenas 1% dos dados, porque são muitos\n",
    "num_points_to_select = total_points // 100\n",
    "\n",
    "# Gere índices aleatórios para selecionar os pontos\n",
    "random_indices = np.random.choice(total_points, size=num_points_to_select, replace=False)\n",
    "\n",
    "# Selecione os pontos correspondentes aos índices gerados aleatoriamente\n",
    "selected_scores = scores[:, random_indices]"
   ]
  },
  {
   "cell_type": "code",
   "execution_count": null,
   "id": "b84804ef-3735-4535-9d08-b1526264a07e",
   "metadata": {},
   "outputs": [],
   "source": [
    "from scipy.spatial.distance import cdist\n",
    "\n",
    "centroid = np.mean(selected_scores, axis=0)\n",
    "distancias_mahalanobis = cdist(selected_scores, centroid.reshape(1, -1), 'mahalanobis', VI=np.linalg.inv(np.cov(selected_scores)))"
   ]
  },
  {
   "cell_type": "code",
   "execution_count": null,
   "id": "b00945af-009d-4238-bd7c-05f4fbb4ee90",
   "metadata": {},
   "outputs": [],
   "source": []
  },
  {
   "cell_type": "code",
   "execution_count": 53,
   "id": "27640aa9-910b-47b3-aa90-357654568ffb",
   "metadata": {},
   "outputs": [
    {
     "data": {
      "image/png": "[encoded data removed]",
      "text/plain": [
       "<Figure size 432x288 with 1 Axes>"
      ]
     },
     "metadata": {
      "needs_background": "light"
     },
     "output_type": "display_data"
    }
   ],
   "source": [
    "from scipy.spatial import distance\n",
    "\n",
    "# Calcule as distâncias Mahalanobis dos pontos de dados aos centroides\n",
    "centroid = np.mean(selected_scores, axis=0)\n",
    "DModX = [distance.mahalanobis(point, centroid, np.cov(selected_scores.T)) for point in selected_scores]\n",
    "\n",
    "# Plote o gráfico DModX\n",
    "plt.scatter(range(len(DModX)), DModX, c='b', label='DModX', marker='o')\n",
    "plt.xlabel('Observações')\n",
    "plt.ylabel('Distância Mahalanobis')\n",
    "plt.legend()\n",
    "plt.title('Gráfico DModX')\n",
    "plt.show()"
   ]
  },
  {
   "cell_type": "code",
   "execution_count": 54,
   "id": "a46fa412-13a8-435d-8dd9-856331726f35",
   "metadata": {},
   "outputs": [
    {
     "data": {
      "image/png": "[encoded data removed]",
      "text/plain": [
       "<Figure size 432x288 with 1 Axes>"
      ]
     },
     "metadata": {
      "needs_background": "light"
     },
     "output_type": "display_data"
    }
   ],
   "source": [
    "distancias_mahalanobis = [2.5, 1.8, 3.2, 0.7, 4.0]  # Substitua pelos seus próprios valores\n",
    "\n",
    "# Defina um limiar de detecção (opcional)\n",
    "limiar = 2.0\n",
    "\n",
    "# Crie um gráfico de barras das distâncias Mahalanobis\n",
    "plt.bar(range(len(distancias_mahalanobis)), distancias_mahalanobis, color='b', label='Distâncias Mahalanobis')\n",
    "plt.axhline(y=limiar, color='r', linestyle='--', label='Limiar de Detecção')\n",
    "plt.xlabel('Observações')\n",
    "plt.ylabel('Distâncias Mahalanobis')\n",
    "plt.legend()\n",
    "plt.title('Gráfico DModX (Barras)')\n",
    "plt.show()"
   ]
  },
  {
   "cell_type": "code",
   "execution_count": null,
   "id": "c1b4fd63-6548-48ac-8e23-585726e3e5cc",
   "metadata": {},
   "outputs": [],
   "source": []
  },
  {
   "cell_type": "code",
   "execution_count": null,
   "id": "de44a33e-1fbf-41f6-b952-fd3a8dfb69a4",
   "metadata": {},
   "outputs": [],
   "source": []
  },
  {
   "cell_type": "code",
   "execution_count": null,
   "id": "65ff42f1-a6c8-4bba-80bd-3c306ece44f3",
   "metadata": {},
   "outputs": [],
   "source": []
  },
  {
   "cell_type": "markdown",
   "id": "6ec7553e-6543-4af6-b311-4f95a5a85651",
   "metadata": {},
   "source": [
    "### **4. Análise Base Homens - Base Mulheres**"
   ]
  },
  {
   "cell_type": "markdown",
   "id": "4529674e-7d0e-4ebb-81f6-fc387f9ff048",
   "metadata": {},
   "source": [
    "### 4.1. Primeiras infos PCA"
   ]
  },
  {
   "cell_type": "markdown",
   "id": "fdff0add-06ab-4946-86a8-b8c8b5c29de0",
   "metadata": {
    "jp-MarkdownHeadingCollapsed": true,
    "tags": []
   },
   "source": [
    "### 4.2. Scree plot"
   ]
  },
  {
   "cell_type": "markdown",
   "id": "d805f73c-6246-4dda-95f0-887a81fbd42b",
   "metadata": {},
   "source": [
    "### 4.1. Loadings"
   ]
  },
  {
   "cell_type": "markdown",
   "id": "885f3c9d-a3b4-4ac1-899d-07888e39837f",
   "metadata": {},
   "source": [
    "### Resumo dos Loadings"
   ]
  },
  {
   "cell_type": "markdown",
   "id": "c5f75f40-1bb3-4684-87c9-ed43399f933d",
   "metadata": {},
   "source": [
    "### 4.4. Loading plot"
   ]
  },
  {
   "cell_type": "markdown",
   "id": "e4a6c27d-1d5b-4829-8333-18c501f94256",
   "metadata": {},
   "source": [
    "### 4.5. Score plot"
   ]
  },
  {
   "cell_type": "markdown",
   "id": "320f45c5-2254-4684-b607-9b752eee63c2",
   "metadata": {},
   "source": [
    "### 4.6. Análise de resíduos"
   ]
  },
  {
   "cell_type": "code",
   "execution_count": null,
   "id": "e6806984-569b-41af-9518-700514493496",
   "metadata": {},
   "outputs": [],
   "source": []
  },
  {
   "cell_type": "code",
   "execution_count": null,
   "id": "62aecad7-4e24-4b02-a38a-f02196433d7c",
   "metadata": {},
   "outputs": [],
   "source": []
  },
  {
   "cell_type": "markdown",
   "id": "b2ad2fa5-0c88-4fad-9d32-30f1ea20ec9b",
   "metadata": {},
   "source": [
    "## ver se vale assim separado ou tudo junto com cada gráfico sendo um subplot (o que for tranquilo de fazer)"
   ]
  },
  {
   "cell_type": "code",
   "execution_count": null,
   "id": "250b98aa-d9cd-496f-921d-e412f0f97097",
   "metadata": {},
   "outputs": [],
   "source": []
  },
  {
   "cell_type": "code",
   "execution_count": null,
   "id": "d3086a87-5e11-4c15-a38c-b68f7cd401ca",
   "metadata": {},
   "outputs": [],
   "source": []
  }
 ],
 "metadata": {
  "kernelspec": {
   "display_name": "Python 3 (ipykernel)",
   "language": "python",
   "name": "python3"
  },
  "language_info": {
   "codemirror_mode": {
    "name": "ipython",
    "version": 3
   },
   "file_extension": ".py",
   "mimetype": "text/x-python",
   "name": "python",
   "nbconvert_exporter": "python",
   "pygments_lexer": "ipython3",
   "version": "3.9.12"
  }
 },
 "nbformat": 4,
 "nbformat_minor": 5
}
