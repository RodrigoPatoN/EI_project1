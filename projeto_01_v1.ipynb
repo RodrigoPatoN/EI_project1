{
 "cells": [
  {
   "cell_type": "markdown",
   "id": "e894a31f-2477-4042-94eb-484660ee7068",
   "metadata": {},
   "source": [
    "### **1. Carregamentos**"
   ]
  },
  {
   "cell_type": "code",
   "execution_count": 93,
   "id": "bea79384-49e0-45f9-b054-b3439e2e7694",
   "metadata": {},
   "outputs": [],
   "source": [
    "import pandas as pd\n",
    "import numpy as np\n",
    "import matplotlib.pyplot as plt"
   ]
  },
  {
   "cell_type": "code",
   "execution_count": 94,
   "id": "b66af549-c246-4971-abb0-1dbbd1817303",
   "metadata": {},
   "outputs": [],
   "source": [
    "df = pd.read_csv('infringement_dataset.csv')"
   ]
  },
  {
   "cell_type": "code",
   "execution_count": null,
   "id": "0d8eca25-f67b-4231-8f55-4c7c124c4e41",
   "metadata": {},
   "outputs": [],
   "source": []
  },
  {
   "cell_type": "code",
   "execution_count": null,
   "id": "3916eb28-a024-4608-a40a-b1e5ae1f1bcc",
   "metadata": {},
   "outputs": [],
   "source": []
  },
  {
   "cell_type": "markdown",
   "id": "969dc9d8-e187-4523-b83f-ad6434e7e151",
   "metadata": {},
   "source": [
    "### **2. Pré-processamento de dados**"
   ]
  },
  {
   "cell_type": "code",
   "execution_count": 95,
   "id": "bf750206-8149-4e03-bc99-9220dfc133d7",
   "metadata": {},
   "outputs": [
    {
     "data": {
      "text/plain": [
       "(307511, 69)"
      ]
     },
     "execution_count": 95,
     "metadata": {},
     "output_type": "execute_result"
    }
   ],
   "source": [
    "df.shape"
   ]
  },
  {
   "cell_type": "code",
   "execution_count": 96,
   "id": "293a9740-8e72-4f51-baba-2da2b80e8d4a",
   "metadata": {},
   "outputs": [
    {
     "data": {
      "text/html": [
       "<div>\n",
       "<style scoped>\n",
       "    .dataframe tbody tr th:only-of-type {\n",
       "        vertical-align: middle;\n",
       "    }\n",
       "\n",
       "    .dataframe tbody tr th {\n",
       "        vertical-align: top;\n",
       "    }\n",
       "\n",
       "    .dataframe thead th {\n",
       "        text-align: right;\n",
       "    }\n",
       "</style>\n",
       "<table border=\"1\" class=\"dataframe\">\n",
       "  <thead>\n",
       "    <tr style=\"text-align: right;\">\n",
       "      <th></th>\n",
       "      <th>loan_id</th>\n",
       "      <th>infringed</th>\n",
       "      <th>contract_type</th>\n",
       "      <th>gender</th>\n",
       "      <th>has_own_car</th>\n",
       "      <th>has_own_realty</th>\n",
       "      <th>num_children</th>\n",
       "      <th>annual_income</th>\n",
       "      <th>credit_amount</th>\n",
       "      <th>credit_annuity</th>\n",
       "      <th>...</th>\n",
       "      <th>SK_ID_CURR</th>\n",
       "      <th>avg_days_decision</th>\n",
       "      <th>past_avg_amount_annuity</th>\n",
       "      <th>past_avg_amt_application</th>\n",
       "      <th>past_avg_amt_credit</th>\n",
       "      <th>past_loans_approved</th>\n",
       "      <th>past_loans_refused</th>\n",
       "      <th>past_loans_canceled</th>\n",
       "      <th>past_loans_unused</th>\n",
       "      <th>past_loans_total</th>\n",
       "    </tr>\n",
       "  </thead>\n",
       "  <tbody>\n",
       "    <tr>\n",
       "      <th>0</th>\n",
       "      <td>100002</td>\n",
       "      <td>1</td>\n",
       "      <td>Cash loans</td>\n",
       "      <td>M</td>\n",
       "      <td>N</td>\n",
       "      <td>Y</td>\n",
       "      <td>0</td>\n",
       "      <td>202500.0</td>\n",
       "      <td>406597.5</td>\n",
       "      <td>24700.5</td>\n",
       "      <td>...</td>\n",
       "      <td>100002.0</td>\n",
       "      <td>606.000000</td>\n",
       "      <td>9251.775</td>\n",
       "      <td>179055.00</td>\n",
       "      <td>179055.00</td>\n",
       "      <td>1.0</td>\n",
       "      <td>0.0</td>\n",
       "      <td>0.0</td>\n",
       "      <td>0.0</td>\n",
       "      <td>1.0</td>\n",
       "    </tr>\n",
       "    <tr>\n",
       "      <th>1</th>\n",
       "      <td>100003</td>\n",
       "      <td>0</td>\n",
       "      <td>Cash loans</td>\n",
       "      <td>F</td>\n",
       "      <td>N</td>\n",
       "      <td>N</td>\n",
       "      <td>0</td>\n",
       "      <td>270000.0</td>\n",
       "      <td>1293502.5</td>\n",
       "      <td>35698.5</td>\n",
       "      <td>...</td>\n",
       "      <td>100003.0</td>\n",
       "      <td>1305.000000</td>\n",
       "      <td>56553.990</td>\n",
       "      <td>435436.50</td>\n",
       "      <td>484191.00</td>\n",
       "      <td>3.0</td>\n",
       "      <td>0.0</td>\n",
       "      <td>0.0</td>\n",
       "      <td>0.0</td>\n",
       "      <td>3.0</td>\n",
       "    </tr>\n",
       "    <tr>\n",
       "      <th>2</th>\n",
       "      <td>100004</td>\n",
       "      <td>0</td>\n",
       "      <td>Revolving loans</td>\n",
       "      <td>M</td>\n",
       "      <td>Y</td>\n",
       "      <td>Y</td>\n",
       "      <td>0</td>\n",
       "      <td>67500.0</td>\n",
       "      <td>135000.0</td>\n",
       "      <td>6750.0</td>\n",
       "      <td>...</td>\n",
       "      <td>100004.0</td>\n",
       "      <td>815.000000</td>\n",
       "      <td>5357.250</td>\n",
       "      <td>24282.00</td>\n",
       "      <td>20106.00</td>\n",
       "      <td>1.0</td>\n",
       "      <td>0.0</td>\n",
       "      <td>0.0</td>\n",
       "      <td>0.0</td>\n",
       "      <td>1.0</td>\n",
       "    </tr>\n",
       "    <tr>\n",
       "      <th>3</th>\n",
       "      <td>100006</td>\n",
       "      <td>0</td>\n",
       "      <td>Cash loans</td>\n",
       "      <td>F</td>\n",
       "      <td>N</td>\n",
       "      <td>Y</td>\n",
       "      <td>0</td>\n",
       "      <td>135000.0</td>\n",
       "      <td>312682.5</td>\n",
       "      <td>29686.5</td>\n",
       "      <td>...</td>\n",
       "      <td>100006.0</td>\n",
       "      <td>272.444444</td>\n",
       "      <td>23651.175</td>\n",
       "      <td>272203.26</td>\n",
       "      <td>291695.50</td>\n",
       "      <td>5.0</td>\n",
       "      <td>3.0</td>\n",
       "      <td>1.0</td>\n",
       "      <td>0.0</td>\n",
       "      <td>9.0</td>\n",
       "    </tr>\n",
       "    <tr>\n",
       "      <th>4</th>\n",
       "      <td>100007</td>\n",
       "      <td>0</td>\n",
       "      <td>Cash loans</td>\n",
       "      <td>M</td>\n",
       "      <td>N</td>\n",
       "      <td>Y</td>\n",
       "      <td>0</td>\n",
       "      <td>121500.0</td>\n",
       "      <td>513000.0</td>\n",
       "      <td>21865.5</td>\n",
       "      <td>...</td>\n",
       "      <td>100007.0</td>\n",
       "      <td>1222.833333</td>\n",
       "      <td>12278.805</td>\n",
       "      <td>150530.25</td>\n",
       "      <td>166638.75</td>\n",
       "      <td>6.0</td>\n",
       "      <td>0.0</td>\n",
       "      <td>0.0</td>\n",
       "      <td>0.0</td>\n",
       "      <td>6.0</td>\n",
       "    </tr>\n",
       "  </tbody>\n",
       "</table>\n",
       "<p>5 rows × 69 columns</p>\n",
       "</div>"
      ],
      "text/plain": [
       "   loan_id  infringed    contract_type gender has_own_car has_own_realty  \\\n",
       "0   100002          1       Cash loans      M           N              Y   \n",
       "1   100003          0       Cash loans      F           N              N   \n",
       "2   100004          0  Revolving loans      M           Y              Y   \n",
       "3   100006          0       Cash loans      F           N              Y   \n",
       "4   100007          0       Cash loans      M           N              Y   \n",
       "\n",
       "   num_children  annual_income  credit_amount  credit_annuity  ...  \\\n",
       "0             0       202500.0       406597.5         24700.5  ...   \n",
       "1             0       270000.0      1293502.5         35698.5  ...   \n",
       "2             0        67500.0       135000.0          6750.0  ...   \n",
       "3             0       135000.0       312682.5         29686.5  ...   \n",
       "4             0       121500.0       513000.0         21865.5  ...   \n",
       "\n",
       "   SK_ID_CURR avg_days_decision past_avg_amount_annuity  \\\n",
       "0    100002.0        606.000000                9251.775   \n",
       "1    100003.0       1305.000000               56553.990   \n",
       "2    100004.0        815.000000                5357.250   \n",
       "3    100006.0        272.444444               23651.175   \n",
       "4    100007.0       1222.833333               12278.805   \n",
       "\n",
       "  past_avg_amt_application past_avg_amt_credit  past_loans_approved  \\\n",
       "0                179055.00           179055.00                  1.0   \n",
       "1                435436.50           484191.00                  3.0   \n",
       "2                 24282.00            20106.00                  1.0   \n",
       "3                272203.26           291695.50                  5.0   \n",
       "4                150530.25           166638.75                  6.0   \n",
       "\n",
       "   past_loans_refused  past_loans_canceled  past_loans_unused  \\\n",
       "0                 0.0                  0.0                0.0   \n",
       "1                 0.0                  0.0                0.0   \n",
       "2                 0.0                  0.0                0.0   \n",
       "3                 3.0                  1.0                0.0   \n",
       "4                 0.0                  0.0                0.0   \n",
       "\n",
       "   past_loans_total  \n",
       "0               1.0  \n",
       "1               3.0  \n",
       "2               1.0  \n",
       "3               9.0  \n",
       "4               6.0  \n",
       "\n",
       "[5 rows x 69 columns]"
      ]
     },
     "execution_count": 96,
     "metadata": {},
     "output_type": "execute_result"
    }
   ],
   "source": [
    "df.head()"
   ]
  },
  {
   "cell_type": "code",
   "execution_count": 97,
   "id": "cecf8a54-a726-4918-a366-c62a0aac152c",
   "metadata": {},
   "outputs": [
    {
     "data": {
      "text/plain": [
       "array([dtype('int64'), dtype('O'), dtype('float64')], dtype=object)"
      ]
     },
     "execution_count": 97,
     "metadata": {},
     "output_type": "execute_result"
    }
   ],
   "source": [
    "df.dtypes.unique()"
   ]
  },
  {
   "cell_type": "code",
   "execution_count": 98,
   "id": "9895b130-9ed2-4caf-ae8f-1da289d4d85b",
   "metadata": {},
   "outputs": [
    {
     "data": {
      "text/html": [
       "<div>\n",
       "<style scoped>\n",
       "    .dataframe tbody tr th:only-of-type {\n",
       "        vertical-align: middle;\n",
       "    }\n",
       "\n",
       "    .dataframe tbody tr th {\n",
       "        vertical-align: top;\n",
       "    }\n",
       "\n",
       "    .dataframe thead th {\n",
       "        text-align: right;\n",
       "    }\n",
       "</style>\n",
       "<table border=\"1\" class=\"dataframe\">\n",
       "  <thead>\n",
       "    <tr style=\"text-align: right;\">\n",
       "      <th></th>\n",
       "      <th>contract_type</th>\n",
       "      <th>gender</th>\n",
       "      <th>has_own_car</th>\n",
       "      <th>has_own_realty</th>\n",
       "      <th>income_type</th>\n",
       "      <th>education</th>\n",
       "      <th>family_status</th>\n",
       "      <th>housing_type</th>\n",
       "      <th>occupation_type</th>\n",
       "      <th>organization_type</th>\n",
       "      <th>first_name</th>\n",
       "      <th>last_name</th>\n",
       "      <th>address</th>\n",
       "    </tr>\n",
       "  </thead>\n",
       "  <tbody>\n",
       "    <tr>\n",
       "      <th>0</th>\n",
       "      <td>Cash loans</td>\n",
       "      <td>M</td>\n",
       "      <td>N</td>\n",
       "      <td>Y</td>\n",
       "      <td>Working</td>\n",
       "      <td>Secondary / secondary special</td>\n",
       "      <td>Single / not married</td>\n",
       "      <td>House / apartment</td>\n",
       "      <td>Laborers</td>\n",
       "      <td>Business Entity Type 3</td>\n",
       "      <td>Robert</td>\n",
       "      <td>Watkins</td>\n",
       "      <td>PSC 6214, Box 0499\\nAPO AE 50653</td>\n",
       "    </tr>\n",
       "    <tr>\n",
       "      <th>1</th>\n",
       "      <td>Cash loans</td>\n",
       "      <td>F</td>\n",
       "      <td>N</td>\n",
       "      <td>N</td>\n",
       "      <td>State servant</td>\n",
       "      <td>Higher education</td>\n",
       "      <td>Married</td>\n",
       "      <td>House / apartment</td>\n",
       "      <td>Core staff</td>\n",
       "      <td>School</td>\n",
       "      <td>Jane</td>\n",
       "      <td>Navarro</td>\n",
       "      <td>537 Jones Views Suite 234\\nWebbton, AR 28006</td>\n",
       "    </tr>\n",
       "    <tr>\n",
       "      <th>2</th>\n",
       "      <td>Revolving loans</td>\n",
       "      <td>M</td>\n",
       "      <td>Y</td>\n",
       "      <td>Y</td>\n",
       "      <td>Working</td>\n",
       "      <td>Secondary / secondary special</td>\n",
       "      <td>Single / not married</td>\n",
       "      <td>House / apartment</td>\n",
       "      <td>Laborers</td>\n",
       "      <td>Government</td>\n",
       "      <td>David</td>\n",
       "      <td>Seagraves</td>\n",
       "      <td>7418 Brown Rapid Apt. 502\\nLake Amber, OK 60478</td>\n",
       "    </tr>\n",
       "    <tr>\n",
       "      <th>3</th>\n",
       "      <td>Cash loans</td>\n",
       "      <td>F</td>\n",
       "      <td>N</td>\n",
       "      <td>Y</td>\n",
       "      <td>Working</td>\n",
       "      <td>Secondary / secondary special</td>\n",
       "      <td>Civil marriage</td>\n",
       "      <td>House / apartment</td>\n",
       "      <td>Laborers</td>\n",
       "      <td>Business Entity Type 3</td>\n",
       "      <td>Deborah</td>\n",
       "      <td>Tandy</td>\n",
       "      <td>812 Macias Roads Suite 039\\nHelenland, MA 10754</td>\n",
       "    </tr>\n",
       "    <tr>\n",
       "      <th>4</th>\n",
       "      <td>Cash loans</td>\n",
       "      <td>M</td>\n",
       "      <td>N</td>\n",
       "      <td>Y</td>\n",
       "      <td>Working</td>\n",
       "      <td>Secondary / secondary special</td>\n",
       "      <td>Single / not married</td>\n",
       "      <td>House / apartment</td>\n",
       "      <td>Core staff</td>\n",
       "      <td>Religion</td>\n",
       "      <td>David</td>\n",
       "      <td>Walker</td>\n",
       "      <td>093 Laura Overpass Suite 487\\nLake Bryanside, ...</td>\n",
       "    </tr>\n",
       "  </tbody>\n",
       "</table>\n",
       "</div>"
      ],
      "text/plain": [
       "     contract_type gender has_own_car has_own_realty    income_type  \\\n",
       "0       Cash loans      M           N              Y        Working   \n",
       "1       Cash loans      F           N              N  State servant   \n",
       "2  Revolving loans      M           Y              Y        Working   \n",
       "3       Cash loans      F           N              Y        Working   \n",
       "4       Cash loans      M           N              Y        Working   \n",
       "\n",
       "                       education         family_status       housing_type  \\\n",
       "0  Secondary / secondary special  Single / not married  House / apartment   \n",
       "1               Higher education               Married  House / apartment   \n",
       "2  Secondary / secondary special  Single / not married  House / apartment   \n",
       "3  Secondary / secondary special        Civil marriage  House / apartment   \n",
       "4  Secondary / secondary special  Single / not married  House / apartment   \n",
       "\n",
       "  occupation_type       organization_type first_name  last_name  \\\n",
       "0        Laborers  Business Entity Type 3     Robert    Watkins   \n",
       "1      Core staff                  School       Jane    Navarro   \n",
       "2        Laborers              Government      David  Seagraves   \n",
       "3        Laborers  Business Entity Type 3    Deborah      Tandy   \n",
       "4      Core staff                Religion      David     Walker   \n",
       "\n",
       "                                             address  \n",
       "0                   PSC 6214, Box 0499\\nAPO AE 50653  \n",
       "1       537 Jones Views Suite 234\\nWebbton, AR 28006  \n",
       "2    7418 Brown Rapid Apt. 502\\nLake Amber, OK 60478  \n",
       "3    812 Macias Roads Suite 039\\nHelenland, MA 10754  \n",
       "4  093 Laura Overpass Suite 487\\nLake Bryanside, ...  "
      ]
     },
     "execution_count": 98,
     "metadata": {},
     "output_type": "execute_result"
    }
   ],
   "source": [
    "df.select_dtypes(include=['O']).head()"
   ]
  },
  {
   "cell_type": "code",
   "execution_count": 99,
   "id": "5868fb60-475c-4929-871e-966e9161fe02",
   "metadata": {},
   "outputs": [
    {
     "name": "stdout",
     "output_type": "stream",
     "text": [
      "['M' 'F' 'XNA']\n",
      "['N' 'Y']\n",
      "['Y' 'N']\n"
     ]
    }
   ],
   "source": [
    "print(df.gender.unique())\n",
    "print(df.has_own_car.unique())\n",
    "print(df.has_own_realty.unique())"
   ]
  },
  {
   "cell_type": "code",
   "execution_count": 100,
   "id": "1177b8dd-651d-4a13-9ca3-c7f06e97c268",
   "metadata": {},
   "outputs": [
    {
     "data": {
      "text/plain": [
       "4"
      ]
     },
     "execution_count": 100,
     "metadata": {},
     "output_type": "execute_result"
    }
   ],
   "source": [
    "len(df[df.gender=='XNA'])"
   ]
  },
  {
   "cell_type": "code",
   "execution_count": 101,
   "id": "6ce0de8b-14f6-46bb-8e5a-b8441e530574",
   "metadata": {},
   "outputs": [],
   "source": [
    "df = df[df.gender!='XNA']"
   ]
  },
  {
   "cell_type": "code",
   "execution_count": 102,
   "id": "f34f8ef2-528c-4a26-b0b7-52ae912dc368",
   "metadata": {},
   "outputs": [
    {
     "name": "stdout",
     "output_type": "stream",
     "text": [
      "['M' 'F']\n",
      "['N' 'Y']\n",
      "['Y' 'N']\n"
     ]
    }
   ],
   "source": [
    "print(df.gender.unique())\n",
    "print(df.has_own_car.unique())\n",
    "print(df.has_own_realty.unique())"
   ]
  },
  {
   "cell_type": "code",
   "execution_count": 103,
   "id": "c042b10d-9055-4a6b-99d0-a2b753821bb5",
   "metadata": {},
   "outputs": [],
   "source": [
    "df['gender'] = df['gender'].replace({'M': 1, 'F': 0})\n",
    "df['has_own_car'] = df['has_own_car'].replace({'Y': 1, 'N': 0})\n",
    "df['has_own_realty'] = df['has_own_realty'].replace({'Y': 1, 'N': 0})"
   ]
  },
  {
   "cell_type": "code",
   "execution_count": 104,
   "id": "d4650cf1-4427-4325-a5a0-3ccaf57d53ac",
   "metadata": {},
   "outputs": [
    {
     "data": {
      "text/plain": [
       "loan_id             int64\n",
       "infringed           int64\n",
       "contract_type      object\n",
       "gender              int64\n",
       "has_own_car         int64\n",
       "has_own_realty      int64\n",
       "num_children        int64\n",
       "annual_income     float64\n",
       "credit_amount     float64\n",
       "credit_annuity    float64\n",
       "dtype: object"
      ]
     },
     "execution_count": 104,
     "metadata": {},
     "output_type": "execute_result"
    }
   ],
   "source": [
    "df.dtypes.head(10)"
   ]
  },
  {
   "cell_type": "code",
   "execution_count": 105,
   "id": "b469d8d5-181f-40b2-81ba-41e449a1e7df",
   "metadata": {},
   "outputs": [],
   "source": [
    "df1 = df.select_dtypes(include=['int64', 'float64'])"
   ]
  },
  {
   "cell_type": "code",
   "execution_count": 106,
   "id": "bc8b31e6-0d2e-4cd7-b73e-2bd4db3ccffc",
   "metadata": {},
   "outputs": [
    {
     "data": {
      "text/plain": [
       "(307507, 59)"
      ]
     },
     "execution_count": 106,
     "metadata": {},
     "output_type": "execute_result"
    }
   ],
   "source": [
    "df1.shape"
   ]
  },
  {
   "cell_type": "code",
   "execution_count": 107,
   "id": "4914973f-b95f-4f40-a243-0b0bd3ad5809",
   "metadata": {},
   "outputs": [
    {
     "data": {
      "text/plain": [
       "loan_id                     307507\n",
       "infringed                        2\n",
       "gender                           2\n",
       "has_own_car                      2\n",
       "has_own_realty                   2\n",
       "num_children                    15\n",
       "annual_income                 2548\n",
       "credit_amount                 5603\n",
       "credit_annuity               13672\n",
       "goods_valuation               1002\n",
       "age                             50\n",
       "days_employed                12574\n",
       "car_age                         62\n",
       "provided_mobilephone             2\n",
       "provided_workphone               2\n",
       "provided_homephone               2\n",
       "mobilephone_reachable            2\n",
       "provided_email                   2\n",
       "num_family_members              17\n",
       "region_rating                    3\n",
       "score_ext_1                 114583\n",
       "score_ext_2                 119830\n",
       "score_ext_3                    814\n",
       "appendix_a                       2\n",
       "appendix_b                       2\n",
       "appendix_c                       2\n",
       "appendix_d                       2\n",
       "appendix_e                       2\n",
       "appendix_f                       2\n",
       "appendix_g                       2\n",
       "appendix_h                       2\n",
       "appendix_i                       2\n",
       "appendix_j                       2\n",
       "appendix_k                       2\n",
       "appendix_l                       2\n",
       "appendix_m                       2\n",
       "appendix_n                       2\n",
       "appendix_o                       2\n",
       "appendix_p                       2\n",
       "appendix_q                       2\n",
       "appendix_r                       2\n",
       "appendix_s                       2\n",
       "appendix_t                       2\n",
       "num_req_bureau_hour              5\n",
       "num_req_bureau_day               9\n",
       "num_req_bureau_week              9\n",
       "num_req_bureau_month            24\n",
       "num_req_bureau_qrt              11\n",
       "num_req_bureau_year             25\n",
       "SK_ID_CURR                  291053\n",
       "avg_days_decision            60027\n",
       "past_avg_amount_annuity     265699\n",
       "past_avg_amt_application    191737\n",
       "past_avg_amt_credit         210618\n",
       "past_loans_approved             26\n",
       "past_loans_refused              39\n",
       "past_loans_canceled             46\n",
       "past_loans_unused               11\n",
       "past_loans_total                65\n",
       "dtype: int64"
      ]
     },
     "execution_count": 107,
     "metadata": {},
     "output_type": "execute_result"
    }
   ],
   "source": [
    "df1.nunique()"
   ]
  },
  {
   "cell_type": "markdown",
   "id": "ffb05d9d",
   "metadata": {},
   "source": [
    "Let's drop the Loan_ID column as it is does not provide any useful information"
   ]
  },
  {
   "cell_type": "code",
   "execution_count": 108,
   "id": "97440747",
   "metadata": {},
   "outputs": [],
   "source": [
    "df1.drop(['loan_id'], axis=1, inplace=True)"
   ]
  },
  {
   "cell_type": "code",
   "execution_count": 109,
   "id": "8c5a0ab9-f51d-4798-99ca-6ba55012df99",
   "metadata": {},
   "outputs": [
    {
     "data": {
      "text/plain": [
       "Index(['infringed', 'gender', 'has_own_car', 'has_own_realty', 'num_children',\n",
       "       'annual_income', 'credit_amount', 'credit_annuity', 'goods_valuation',\n",
       "       'age', 'days_employed', 'car_age', 'provided_mobilephone',\n",
       "       'provided_workphone', 'provided_homephone', 'mobilephone_reachable',\n",
       "       'provided_email', 'num_family_members', 'region_rating', 'score_ext_1',\n",
       "       'score_ext_2', 'score_ext_3', 'appendix_a', 'appendix_b', 'appendix_c',\n",
       "       'appendix_d', 'appendix_e', 'appendix_f', 'appendix_g', 'appendix_h',\n",
       "       'appendix_i', 'appendix_j', 'appendix_k', 'appendix_l', 'appendix_m',\n",
       "       'appendix_n', 'appendix_o', 'appendix_p', 'appendix_q', 'appendix_r',\n",
       "       'appendix_s', 'appendix_t', 'num_req_bureau_hour', 'num_req_bureau_day',\n",
       "       'num_req_bureau_week', 'num_req_bureau_month', 'num_req_bureau_qrt',\n",
       "       'num_req_bureau_year', 'SK_ID_CURR', 'avg_days_decision',\n",
       "       'past_avg_amount_annuity', 'past_avg_amt_application',\n",
       "       'past_avg_amt_credit', 'past_loans_approved', 'past_loans_refused',\n",
       "       'past_loans_canceled', 'past_loans_unused', 'past_loans_total'],\n",
       "      dtype='object')"
      ]
     },
     "execution_count": 109,
     "metadata": {},
     "output_type": "execute_result"
    }
   ],
   "source": [
    "df1.columns"
   ]
  },
  {
   "cell_type": "code",
   "execution_count": 110,
   "id": "4d7af9bd-defd-46a2-8972-55ef88330a21",
   "metadata": {},
   "outputs": [],
   "source": [
    "columns_to_remove = ['region_rating', 'score_ext_1', 'score_ext_2', 'score_ext_3', 'appendix_a', 'appendix_b', 'appendix_c',\n",
    "                     'appendix_d', 'appendix_e', 'appendix_f', 'appendix_g', 'appendix_h', 'appendix_i', 'appendix_j',\n",
    "                     'appendix_k', 'appendix_l', 'appendix_m', 'appendix_n', 'appendix_o', 'appendix_p', 'appendix_q',\n",
    "                     'appendix_r', 'appendix_s', 'appendix_t', 'num_req_bureau_hour', 'num_req_bureau_day', 'num_req_bureau_week',\n",
    "                     'num_req_bureau_month', 'num_req_bureau_qrt', 'num_req_bureau_year', 'SK_ID_CURR', 'avg_days_decision']\n",
    "df2 = df1.drop(columns_to_remove, axis=1)"
   ]
  },
  {
   "cell_type": "code",
   "execution_count": 111,
   "id": "18c3f197-26e0-4cfe-aee1-6c36ddcb6c95",
   "metadata": {},
   "outputs": [
    {
     "data": {
      "text/plain": [
       "(307507, 26)"
      ]
     },
     "execution_count": 111,
     "metadata": {},
     "output_type": "execute_result"
    }
   ],
   "source": [
    "df2.shape"
   ]
  },
  {
   "cell_type": "code",
   "execution_count": 112,
   "id": "98d52403-ceca-46cc-ab90-3a3c845c0002",
   "metadata": {},
   "outputs": [
    {
     "data": {
      "text/plain": [
       "infringed                        2\n",
       "gender                           2\n",
       "has_own_car                      2\n",
       "has_own_realty                   2\n",
       "num_children                    15\n",
       "annual_income                 2548\n",
       "credit_amount                 5603\n",
       "credit_annuity               13672\n",
       "goods_valuation               1002\n",
       "age                             50\n",
       "days_employed                12574\n",
       "car_age                         62\n",
       "provided_mobilephone             2\n",
       "provided_workphone               2\n",
       "provided_homephone               2\n",
       "mobilephone_reachable            2\n",
       "provided_email                   2\n",
       "num_family_members              17\n",
       "past_avg_amount_annuity     265699\n",
       "past_avg_amt_application    191737\n",
       "past_avg_amt_credit         210618\n",
       "past_loans_approved             26\n",
       "past_loans_refused              39\n",
       "past_loans_canceled             46\n",
       "past_loans_unused               11\n",
       "past_loans_total                65\n",
       "dtype: int64"
      ]
     },
     "execution_count": 112,
     "metadata": {},
     "output_type": "execute_result"
    }
   ],
   "source": [
    "df2.nunique()"
   ]
  },
  {
   "cell_type": "code",
   "execution_count": 113,
   "id": "88f30425-720e-47ce-ad04-caad98489287",
   "metadata": {},
   "outputs": [
    {
     "data": {
      "text/plain": [
       "car_age                     0.660\n",
       "past_avg_amount_annuity     0.055\n",
       "past_loans_total            0.054\n",
       "past_loans_unused           0.054\n",
       "past_loans_canceled         0.054\n",
       "past_loans_refused          0.054\n",
       "past_loans_approved         0.054\n",
       "past_avg_amt_credit         0.054\n",
       "past_avg_amt_application    0.054\n",
       "goods_valuation             0.001\n",
       "provided_homephone          0.000\n",
       "num_family_members          0.000\n",
       "provided_email              0.000\n",
       "mobilephone_reachable       0.000\n",
       "infringed                   0.000\n",
       "gender                      0.000\n",
       "provided_mobilephone        0.000\n",
       "days_employed               0.000\n",
       "age                         0.000\n",
       "credit_annuity              0.000\n",
       "credit_amount               0.000\n",
       "annual_income               0.000\n",
       "num_children                0.000\n",
       "has_own_realty              0.000\n",
       "has_own_car                 0.000\n",
       "provided_workphone          0.000\n",
       "dtype: float64"
      ]
     },
     "execution_count": 113,
     "metadata": {},
     "output_type": "execute_result"
    }
   ],
   "source": [
    "round(df2.isna().sum()/len(df2),3).sort_values(ascending=False)"
   ]
  },
  {
   "cell_type": "markdown",
   "id": "f71a67bf-9a90-4b1d-ae25-62ca9423cc76",
   "metadata": {},
   "source": [
    "#### Decidindo ficar com car_age, mesmo eliminando todos os valores nulos, resta 34% da base original, ou ~100K linhas!"
   ]
  },
  {
   "cell_type": "code",
   "execution_count": 114,
   "id": "4b86c31c-1a3f-4ec6-898d-ccdde96cf03b",
   "metadata": {},
   "outputs": [],
   "source": [
    "base_all = df2.dropna()"
   ]
  },
  {
   "cell_type": "code",
   "execution_count": 115,
   "id": "c927b6e2-c857-436e-afa9-0e7dadcabdf2",
   "metadata": {},
   "outputs": [
    {
     "data": {
      "text/plain": [
       "(98336, 26)"
      ]
     },
     "execution_count": 115,
     "metadata": {},
     "output_type": "execute_result"
    }
   ],
   "source": [
    "base_all.shape"
   ]
  },
  {
   "cell_type": "code",
   "execution_count": 116,
   "id": "25c6d443",
   "metadata": {},
   "outputs": [
    {
     "data": {
      "text/plain": [
       "infringed                       2\n",
       "gender                          2\n",
       "has_own_car                     1\n",
       "has_own_realty                  2\n",
       "num_children                   12\n",
       "annual_income                 907\n",
       "credit_amount                4251\n",
       "credit_annuity              10939\n",
       "goods_valuation               634\n",
       "age                            49\n",
       "days_employed                9461\n",
       "car_age                        61\n",
       "provided_mobilephone            1\n",
       "provided_workphone              2\n",
       "provided_homephone              2\n",
       "mobilephone_reachable           2\n",
       "provided_email                  2\n",
       "num_family_members             14\n",
       "past_avg_amount_annuity     94736\n",
       "past_avg_amt_application    77928\n",
       "past_avg_amt_credit         84440\n",
       "past_loans_approved            25\n",
       "past_loans_refused             31\n",
       "past_loans_canceled            37\n",
       "past_loans_unused               9\n",
       "past_loans_total               55\n",
       "dtype: int64"
      ]
     },
     "execution_count": 116,
     "metadata": {},
     "output_type": "execute_result"
    }
   ],
   "source": [
    "base_all.nunique()"
   ]
  },
  {
   "cell_type": "markdown",
   "id": "e98f7368",
   "metadata": {},
   "source": [
    "Depois de remover os registos com valores nulos reparamos que a coluna \"provided_mobilephone\" passa a ser constante, pelo que vamos remover essa coluna."
   ]
  },
  {
   "cell_type": "code",
   "execution_count": 117,
   "id": "6268bf69",
   "metadata": {},
   "outputs": [
    {
     "name": "stderr",
     "output_type": "stream",
     "text": [
      "/tmp/ipykernel_6249/2060784199.py:1: SettingWithCopyWarning:\n",
      "\n",
      "\n",
      "A value is trying to be set on a copy of a slice from a DataFrame\n",
      "\n",
      "See the caveats in the documentation: https://pandas.pydata.org/pandas-docs/stable/user_guide/indexing.html#returning-a-view-versus-a-copy\n",
      "\n"
     ]
    }
   ],
   "source": [
    "base_all.drop([\"provided_mobilephone\"], axis=1, inplace=True)"
   ]
  },
  {
   "cell_type": "code",
   "execution_count": 118,
   "id": "746bc746-0f9b-40e7-9134-0b4ddf94aadc",
   "metadata": {},
   "outputs": [
    {
     "name": "stdout",
     "output_type": "stream",
     "text": [
      "(55693, 24)\n",
      "(42643, 24)\n"
     ]
    }
   ],
   "source": [
    "# Base somente Homens --> exclui-se a coluna de gênero\n",
    "base_m = base_all[base_all.gender==1].drop('gender',axis=1)\n",
    "print(base_m.shape)\n",
    "# Base somente Mulheres --> exclui-se a coluna de gênero\n",
    "base_f = base_all[base_all.gender==0].drop('gender',axis=1)\n",
    "print(base_f.shape)"
   ]
  },
  {
   "cell_type": "markdown",
   "id": "9759788a-94e0-4be7-bc4e-3397ab8e27fb",
   "metadata": {},
   "source": [
    "#### A distribuição entre homens (56,5%) e mulheres (43,5%) é relativamente balanceada, o que permite fazer comparações entre esses grupos sem muito viés."
   ]
  },
  {
   "cell_type": "code",
   "execution_count": null,
   "id": "7095197a-e079-4ce0-a87c-df4704390e00",
   "metadata": {},
   "outputs": [],
   "source": []
  },
  {
   "cell_type": "markdown",
   "id": "f9db8b76-637a-4d4f-87e5-4287e86e98c4",
   "metadata": {},
   "source": [
    "### **3. Análise Base Geral**"
   ]
  },
  {
   "cell_type": "markdown",
   "id": "324dfb78-d671-4bda-bbdb-4efe91a4c061",
   "metadata": {},
   "source": [
    "### 3.1. Primeiras infos PCA"
   ]
  },
  {
   "cell_type": "code",
   "execution_count": 119,
   "id": "a658eda4-c3b0-4816-b442-4082bde4ac9f",
   "metadata": {},
   "outputs": [],
   "source": [
    "from sklearn.decomposition import PCA"
   ]
  },
  {
   "cell_type": "code",
   "execution_count": 120,
   "id": "13a81f2a-9fe3-40d0-81aa-ef7bad3d00c5",
   "metadata": {},
   "outputs": [
    {
     "name": "stdout",
     "output_type": "stream",
     "text": [
      "Variância explicada\n",
      "[7.76763379e-01 1.51214279e-01 3.78533146e-02 2.70611748e-02\n",
      " 5.03179093e-03 1.73394724e-03 2.34241979e-04 1.07872322e-04\n",
      " 3.36828361e-10 1.95965918e-10 4.92173463e-11 6.78005807e-12\n",
      " 4.30624191e-12 3.12977374e-12 5.77546238e-13 4.89321262e-13\n",
      " 3.97588896e-13 3.48776643e-13 1.59596258e-13 1.47888097e-13\n",
      " 1.35039530e-13 1.82852811e-15 2.80646463e-16 1.08443609e-35\n",
      " 1.37782499e-42]\n",
      "\n",
      "Autovalores\n",
      "[3.27864297e+11 6.38260821e+10 1.59775174e+10 1.14222597e+10\n",
      " 2.12387021e+09 7.31882333e+08 9.88712698e+07 4.55318622e+07\n",
      " 1.42171988e+02 8.27153155e+01 2.07741650e+01 2.86179683e+00\n",
      " 1.81762299e+00 1.32104717e+00 2.43776672e-01 2.06537764e-01\n",
      " 1.67818421e-01 1.47215242e-01 6.73640345e-02 6.24221330e-02\n",
      " 5.69988775e-02 7.71804000e-04 1.18458153e-04 4.57729966e-24\n",
      " 5.81566578e-31]\n"
     ]
    }
   ],
   "source": [
    "# Inicialize o modelo PCA com o número de componentes desejado (por exemplo, 2 componentes)\n",
    "pca = PCA(n_components=len(base_all.columns))\n",
    "pca.fit_transform(base_all)\n",
    "\n",
    "# Obtenha as proporções de variância explicada\n",
    "explained_variance = pca.explained_variance_ratio_\n",
    "\n",
    "# Obtenha os autovalores\n",
    "eigenvalues = pca.explained_variance_\n",
    "\n",
    "print(\"Variância explicada\")\n",
    "print(explained_variance)\n",
    "\n",
    "print(\"\\nAutovalores\")\n",
    "print(eigenvalues)"
   ]
  },
  {
   "cell_type": "markdown",
   "id": "718bdb82-89ac-478d-82fb-ebf34b338673",
   "metadata": {},
   "source": [
    "### 4.2. Scree plot"
   ]
  },
  {
   "cell_type": "code",
   "execution_count": 121,
   "id": "5aabb4d3-8555-48fb-a5ba-bcc853d28fe4",
   "metadata": {},
   "outputs": [
    {
     "data": {
      "image/png": "[encoded data removed]",
      "text/plain": [
       "<Figure size 432x288 with 1 Axes>"
      ]
     },
     "metadata": {
      "needs_background": "light"
     },
     "output_type": "display_data"
    }
   ],
   "source": [
    "plt.plot(range(1, len(explained_variance) + 1), explained_variance, marker='o', linestyle='-')\n",
    "plt.xticks(np.arange(1, len(explained_variance) + 1, step=1))\n",
    "plt.xlabel('Número de Componentes Principais')\n",
    "plt.ylabel('Explicação da variação')\n",
    "plt.title('Scree Plot')\n",
    "\n",
    "plt.show()"
   ]
  },
  {
   "cell_type": "code",
   "execution_count": 122,
   "id": "688aa2e8-57c1-4a7c-b4b0-8119206d2a63",
   "metadata": {},
   "outputs": [
    {
     "data": {
      "image/png": "[encoded data removed]",
      "text/plain": [
       "<Figure size 432x288 with 1 Axes>"
      ]
     },
     "metadata": {
      "needs_background": "light"
     },
     "output_type": "display_data"
    }
   ],
   "source": [
    "plt.plot(range(1, len(explained_variance) + 1), eigenvalues, marker='o', linestyle='-')\n",
    "plt.xticks(np.arange(1, len(explained_variance) + 1, step=1))\n",
    "plt.xlabel('Número de Componentes Principais')\n",
    "plt.ylabel('Autovalores')\n",
    "plt.title('Scree Plot')\n",
    "\n",
    "plt.show()"
   ]
  },
  {
   "cell_type": "markdown",
   "id": "7e838f3f-1369-41a8-927e-f1974ce6285b",
   "metadata": {},
   "source": [
    "#### Este segundo é o scree plot em si, pois no eixo Y são representados os autovalores.\n",
    "\n",
    "#### Portanto, **2 componentes** são suficientes para a explicação de base_all."
   ]
  },
  {
   "cell_type": "markdown",
   "id": "b828cdeb-a788-4c95-a1ec-ab23a0768652",
   "metadata": {},
   "source": [
    "### 3.3. Loadings (Variáveis que mais contribuem para os 2 componentes)"
   ]
  },
  {
   "cell_type": "code",
   "execution_count": 123,
   "id": "1b8c1e2f-cdf1-4bb3-acbe-dd57db44962f",
   "metadata": {},
   "outputs": [],
   "source": [
    "# Obtenha os autovetores (vetores próprios)\n",
    "eigenvectors = pca.components_\n",
    "\n",
    "# Crie um DataFrame para visualizar os autovetores com os nomes das variáveis originais\n",
    "eigenvectors_df = pd.DataFrame(eigenvectors, columns=base_all.columns)\n",
    "\n",
    "# Agora, para cada componente principal, você pode ver como as variáveis originais contribuem para ele.\n",
    "# Por exemplo, para o primeiro componente principal:\n",
    "component_1 = eigenvectors_df.iloc[0]\n",
    "component_2 = eigenvectors_df.iloc[1]"
   ]
  },
  {
   "cell_type": "code",
   "execution_count": 124,
   "id": "6a720b74-f55e-4830-9255-0989ef33f6b4",
   "metadata": {},
   "outputs": [
    {
     "name": "stdout",
     "output_type": "stream",
     "text": [
      "Contribuição das variáveis para o primeiro componente principal:\n",
      "credit_amount               7.294786e-01\n",
      "goods_valuation             6.709602e-01\n",
      "past_avg_amt_credit         8.016322e-02\n",
      "past_avg_amt_application    7.665256e-02\n",
      "annual_income               7.040815e-02\n",
      "credit_annuity              1.972543e-02\n",
      "past_avg_amount_annuity     4.853603e-03\n",
      "age                         2.643587e-06\n",
      "past_loans_approved         8.103242e-08\n",
      "num_family_members          3.835946e-08\n",
      "provided_email              6.313328e-09\n",
      "provided_workphone          2.484009e-09\n",
      "mobilephone_reachable       3.924060e-10\n",
      "has_own_car                -0.000000e+00\n",
      "provided_homephone         -1.642961e-09\n",
      "past_loans_unused          -1.711790e-08\n",
      "infringed                  -1.717437e-08\n",
      "has_own_realty             -2.149318e-08\n",
      "num_children               -3.076081e-08\n",
      "gender                     -3.505534e-08\n",
      "past_loans_refused         -3.730897e-08\n",
      "past_loans_total           -9.700362e-08\n",
      "past_loans_canceled        -1.236092e-07\n",
      "car_age                    -1.988569e-06\n",
      "days_employed              -1.304351e-03\n",
      "Name: 0, dtype: float64\n"
     ]
    }
   ],
   "source": [
    "print(\"Contribuição das variáveis para o primeiro componente principal:\")\n",
    "print(component_1.sort_values(ascending=False))"
   ]
  },
  {
   "cell_type": "code",
   "execution_count": 125,
   "id": "e2b2732c-e7f1-4010-8615-54367258da88",
   "metadata": {},
   "outputs": [
    {
     "data": {
      "image/png": "[encoded data removed]",
      "text/plain": [
       "<Figure size 720x288 with 1 Axes>"
      ]
     },
     "metadata": {
      "needs_background": "light"
     },
     "output_type": "display_data"
    }
   ],
   "source": [
    "plt.figure(figsize=(10,4))\n",
    "plt.title('Contribuição das variáveis para o PRMEIRO COMPONENTE principal')\n",
    "plt.plot(component_1.sort_values(ascending=False), marker='o', linestyle='-')\n",
    "plt.xticks(rotation=90)\n",
    "\n",
    "plt.show()"
   ]
  },
  {
   "cell_type": "code",
   "execution_count": 126,
   "id": "065efa0b-f4e7-4f14-b19c-3e8b712a892a",
   "metadata": {},
   "outputs": [
    {
     "name": "stdout",
     "output_type": "stream",
     "text": [
      "Contribuição das variáveis para a segunda componente principal:\n",
      "past_avg_amt_credit         7.218735e-01\n",
      "past_avg_amt_application    6.735548e-01\n",
      "annual_income               1.007823e-01\n",
      "past_avg_amount_annuity     3.272615e-02\n",
      "days_employed               1.007932e-02\n",
      "credit_annuity              6.164102e-04\n",
      "age                         5.291846e-06\n",
      "past_loans_total            2.703747e-06\n",
      "past_loans_canceled         1.529956e-06\n",
      "past_loans_approved         7.653050e-07\n",
      "past_loans_refused          4.935121e-07\n",
      "provided_email              7.211425e-08\n",
      "has_own_realty              4.175831e-08\n",
      "infringed                   4.921998e-10\n",
      "has_own_car                 0.000000e+00\n",
      "mobilephone_reachable      -1.052097e-09\n",
      "provided_workphone         -2.842547e-08\n",
      "provided_homephone         -2.851474e-08\n",
      "gender                     -5.844660e-08\n",
      "past_loans_unused          -8.502604e-08\n",
      "num_family_members         -1.147462e-07\n",
      "num_children               -1.607304e-07\n",
      "car_age                    -3.845715e-06\n",
      "goods_valuation            -7.674926e-02\n",
      "credit_amount              -8.945491e-02\n",
      "Name: 1, dtype: float64\n"
     ]
    }
   ],
   "source": [
    "print(\"Contribuição das variáveis para a segunda componente principal:\")\n",
    "print(component_2.sort_values(ascending=False))"
   ]
  },
  {
   "cell_type": "code",
   "execution_count": 127,
   "id": "eb52042b-fa64-4e64-9d3c-737dbd5dd9b8",
   "metadata": {},
   "outputs": [
    {
     "data": {
      "image/png": "[encoded data removed]",
      "text/plain": [
       "<Figure size 720x288 with 1 Axes>"
      ]
     },
     "metadata": {
      "needs_background": "light"
     },
     "output_type": "display_data"
    }
   ],
   "source": [
    "plt.figure(figsize=(10,4))\n",
    "plt.title('Contribuição das variáveis para o SEGUNDO COMPONENTE principal')\n",
    "plt.plot(component_2.sort_values(ascending=False), marker='o', linestyle='-')\n",
    "plt.xticks(rotation=90)\n",
    "\n",
    "plt.show()"
   ]
  },
  {
   "cell_type": "markdown",
   "id": "afbe1bc3-0613-4242-8d78-61ae807af50f",
   "metadata": {},
   "source": [
    "#### Coincidentemente, as duas variáveis que mais explicam o PRIMEIRO COMPONENTE (goods_valuation e credit_amount) são os que menos explicam o SEGUNDO COMPONENTE... - se mencionarmos isto na apresentação podemos explicar que isto é esperado, uma vez que o PC2 é \"perpendicular\" (esta me a faltar a palavra certa) ao PC1"
   ]
  },
  {
   "cell_type": "markdown",
   "id": "50e61338-558f-4c3f-af34-9348ad4f35a4",
   "metadata": {},
   "source": [
    "### Resumo dos Loadings"
   ]
  },
  {
   "cell_type": "code",
   "execution_count": 128,
   "id": "84248c84-6e29-4186-aad2-bafa6244058c",
   "metadata": {},
   "outputs": [],
   "source": [
    "# Trabalhando com apenas 2 componentes\n",
    "pca = PCA(n_components=2)\n",
    "pca.fit(base_all)\n",
    "base_all_pca = pca.transform(base_all)"
   ]
  },
  {
   "cell_type": "code",
   "execution_count": 129,
   "id": "4609f679-69f3-42de-a950-b5009459ed55",
   "metadata": {},
   "outputs": [
    {
     "data": {
      "text/html": [
       "<div>\n",
       "<style scoped>\n",
       "    .dataframe tbody tr th:only-of-type {\n",
       "        vertical-align: middle;\n",
       "    }\n",
       "\n",
       "    .dataframe tbody tr th {\n",
       "        vertical-align: top;\n",
       "    }\n",
       "\n",
       "    .dataframe thead th {\n",
       "        text-align: right;\n",
       "    }\n",
       "</style>\n",
       "<table border=\"1\" class=\"dataframe\">\n",
       "  <thead>\n",
       "    <tr style=\"text-align: right;\">\n",
       "      <th></th>\n",
       "      <th>PC1</th>\n",
       "      <th>PC2</th>\n",
       "    </tr>\n",
       "  </thead>\n",
       "  <tbody>\n",
       "    <tr>\n",
       "      <th>infringed</th>\n",
       "      <td>-0.000</td>\n",
       "      <td>0.000</td>\n",
       "    </tr>\n",
       "    <tr>\n",
       "      <th>gender</th>\n",
       "      <td>-0.000</td>\n",
       "      <td>-0.000</td>\n",
       "    </tr>\n",
       "    <tr>\n",
       "      <th>has_own_car</th>\n",
       "      <td>0.000</td>\n",
       "      <td>-0.000</td>\n",
       "    </tr>\n",
       "    <tr>\n",
       "      <th>has_own_realty</th>\n",
       "      <td>-0.000</td>\n",
       "      <td>0.000</td>\n",
       "    </tr>\n",
       "    <tr>\n",
       "      <th>num_children</th>\n",
       "      <td>-0.000</td>\n",
       "      <td>-0.000</td>\n",
       "    </tr>\n",
       "    <tr>\n",
       "      <th>annual_income</th>\n",
       "      <td>0.070</td>\n",
       "      <td>0.101</td>\n",
       "    </tr>\n",
       "    <tr>\n",
       "      <th>credit_amount</th>\n",
       "      <td>0.729</td>\n",
       "      <td>-0.089</td>\n",
       "    </tr>\n",
       "    <tr>\n",
       "      <th>credit_annuity</th>\n",
       "      <td>0.020</td>\n",
       "      <td>0.001</td>\n",
       "    </tr>\n",
       "    <tr>\n",
       "      <th>goods_valuation</th>\n",
       "      <td>0.671</td>\n",
       "      <td>-0.077</td>\n",
       "    </tr>\n",
       "    <tr>\n",
       "      <th>age</th>\n",
       "      <td>0.000</td>\n",
       "      <td>0.000</td>\n",
       "    </tr>\n",
       "    <tr>\n",
       "      <th>days_employed</th>\n",
       "      <td>-0.001</td>\n",
       "      <td>0.010</td>\n",
       "    </tr>\n",
       "    <tr>\n",
       "      <th>car_age</th>\n",
       "      <td>-0.000</td>\n",
       "      <td>-0.000</td>\n",
       "    </tr>\n",
       "    <tr>\n",
       "      <th>provided_workphone</th>\n",
       "      <td>0.000</td>\n",
       "      <td>-0.000</td>\n",
       "    </tr>\n",
       "    <tr>\n",
       "      <th>provided_homephone</th>\n",
       "      <td>-0.000</td>\n",
       "      <td>-0.000</td>\n",
       "    </tr>\n",
       "    <tr>\n",
       "      <th>mobilephone_reachable</th>\n",
       "      <td>0.000</td>\n",
       "      <td>-0.000</td>\n",
       "    </tr>\n",
       "    <tr>\n",
       "      <th>provided_email</th>\n",
       "      <td>0.000</td>\n",
       "      <td>0.000</td>\n",
       "    </tr>\n",
       "    <tr>\n",
       "      <th>num_family_members</th>\n",
       "      <td>0.000</td>\n",
       "      <td>-0.000</td>\n",
       "    </tr>\n",
       "    <tr>\n",
       "      <th>past_avg_amount_annuity</th>\n",
       "      <td>0.005</td>\n",
       "      <td>0.033</td>\n",
       "    </tr>\n",
       "    <tr>\n",
       "      <th>past_avg_amt_application</th>\n",
       "      <td>0.077</td>\n",
       "      <td>0.674</td>\n",
       "    </tr>\n",
       "    <tr>\n",
       "      <th>past_avg_amt_credit</th>\n",
       "      <td>0.080</td>\n",
       "      <td>0.722</td>\n",
       "    </tr>\n",
       "    <tr>\n",
       "      <th>past_loans_approved</th>\n",
       "      <td>0.000</td>\n",
       "      <td>0.000</td>\n",
       "    </tr>\n",
       "    <tr>\n",
       "      <th>past_loans_refused</th>\n",
       "      <td>-0.000</td>\n",
       "      <td>0.000</td>\n",
       "    </tr>\n",
       "    <tr>\n",
       "      <th>past_loans_canceled</th>\n",
       "      <td>-0.000</td>\n",
       "      <td>0.000</td>\n",
       "    </tr>\n",
       "    <tr>\n",
       "      <th>past_loans_unused</th>\n",
       "      <td>-0.000</td>\n",
       "      <td>-0.000</td>\n",
       "    </tr>\n",
       "    <tr>\n",
       "      <th>past_loans_total</th>\n",
       "      <td>-0.000</td>\n",
       "      <td>0.000</td>\n",
       "    </tr>\n",
       "  </tbody>\n",
       "</table>\n",
       "</div>"
      ],
      "text/plain": [
       "                            PC1    PC2\n",
       "infringed                -0.000  0.000\n",
       "gender                   -0.000 -0.000\n",
       "has_own_car               0.000 -0.000\n",
       "has_own_realty           -0.000  0.000\n",
       "num_children             -0.000 -0.000\n",
       "annual_income             0.070  0.101\n",
       "credit_amount             0.729 -0.089\n",
       "credit_annuity            0.020  0.001\n",
       "goods_valuation           0.671 -0.077\n",
       "age                       0.000  0.000\n",
       "days_employed            -0.001  0.010\n",
       "car_age                  -0.000 -0.000\n",
       "provided_workphone        0.000 -0.000\n",
       "provided_homephone       -0.000 -0.000\n",
       "mobilephone_reachable     0.000 -0.000\n",
       "provided_email            0.000  0.000\n",
       "num_family_members        0.000 -0.000\n",
       "past_avg_amount_annuity   0.005  0.033\n",
       "past_avg_amt_application  0.077  0.674\n",
       "past_avg_amt_credit       0.080  0.722\n",
       "past_loans_approved       0.000  0.000\n",
       "past_loans_refused       -0.000  0.000\n",
       "past_loans_canceled      -0.000  0.000\n",
       "past_loans_unused        -0.000 -0.000\n",
       "past_loans_total         -0.000  0.000"
      ]
     },
     "execution_count": 129,
     "metadata": {},
     "output_type": "execute_result"
    }
   ],
   "source": [
    "loadings = pd.DataFrame(pca.components_.T, columns=['PC1','PC2'], index=base_all.columns)\n",
    "round(loadings,3)"
   ]
  },
  {
   "cell_type": "markdown",
   "id": "c7e9a5e6-784c-4bfb-b72e-b033eb00ecde",
   "metadata": {},
   "source": [
    "#### Abaixo, a participação de uma variável em relação às duas! Aqui não é o tamanho do impacto, mas como cada uma delas impacta nas componentes. Por exemplo, loan_id impacta muito mais em PC2 apesar do absoluto dessa var ser quase zero (tabela acima)."
   ]
  },
  {
   "cell_type": "code",
   "execution_count": 130,
   "id": "a7d274f1-4b62-43db-9bb4-b4aa4579ef84",
   "metadata": {},
   "outputs": [
    {
     "data": {
      "text/html": [
       "<div>\n",
       "<style scoped>\n",
       "    .dataframe tbody tr th:only-of-type {\n",
       "        vertical-align: middle;\n",
       "    }\n",
       "\n",
       "    .dataframe tbody tr th {\n",
       "        vertical-align: top;\n",
       "    }\n",
       "\n",
       "    .dataframe thead th {\n",
       "        text-align: right;\n",
       "    }\n",
       "</style>\n",
       "<table border=\"1\" class=\"dataframe\">\n",
       "  <thead>\n",
       "    <tr style=\"text-align: right;\">\n",
       "      <th></th>\n",
       "      <th>PC1</th>\n",
       "      <th>PC2</th>\n",
       "    </tr>\n",
       "  </thead>\n",
       "  <tbody>\n",
       "    <tr>\n",
       "      <th>infringed</th>\n",
       "      <td>1.030</td>\n",
       "      <td>-0.030</td>\n",
       "    </tr>\n",
       "    <tr>\n",
       "      <th>gender</th>\n",
       "      <td>0.375</td>\n",
       "      <td>0.625</td>\n",
       "    </tr>\n",
       "    <tr>\n",
       "      <th>has_own_car</th>\n",
       "      <td>NaN</td>\n",
       "      <td>NaN</td>\n",
       "    </tr>\n",
       "    <tr>\n",
       "      <th>has_own_realty</th>\n",
       "      <td>-1.061</td>\n",
       "      <td>2.061</td>\n",
       "    </tr>\n",
       "    <tr>\n",
       "      <th>num_children</th>\n",
       "      <td>0.161</td>\n",
       "      <td>0.839</td>\n",
       "    </tr>\n",
       "    <tr>\n",
       "      <th>annual_income</th>\n",
       "      <td>0.411</td>\n",
       "      <td>0.589</td>\n",
       "    </tr>\n",
       "    <tr>\n",
       "      <th>credit_amount</th>\n",
       "      <td>1.140</td>\n",
       "      <td>-0.140</td>\n",
       "    </tr>\n",
       "    <tr>\n",
       "      <th>credit_annuity</th>\n",
       "      <td>0.970</td>\n",
       "      <td>0.030</td>\n",
       "    </tr>\n",
       "    <tr>\n",
       "      <th>goods_valuation</th>\n",
       "      <td>1.129</td>\n",
       "      <td>-0.129</td>\n",
       "    </tr>\n",
       "    <tr>\n",
       "      <th>age</th>\n",
       "      <td>0.333</td>\n",
       "      <td>0.667</td>\n",
       "    </tr>\n",
       "    <tr>\n",
       "      <th>days_employed</th>\n",
       "      <td>-0.149</td>\n",
       "      <td>1.149</td>\n",
       "    </tr>\n",
       "    <tr>\n",
       "      <th>car_age</th>\n",
       "      <td>0.341</td>\n",
       "      <td>0.659</td>\n",
       "    </tr>\n",
       "    <tr>\n",
       "      <th>provided_workphone</th>\n",
       "      <td>-0.096</td>\n",
       "      <td>1.096</td>\n",
       "    </tr>\n",
       "    <tr>\n",
       "      <th>provided_homephone</th>\n",
       "      <td>0.054</td>\n",
       "      <td>0.946</td>\n",
       "    </tr>\n",
       "    <tr>\n",
       "      <th>mobilephone_reachable</th>\n",
       "      <td>-0.595</td>\n",
       "      <td>1.595</td>\n",
       "    </tr>\n",
       "    <tr>\n",
       "      <th>provided_email</th>\n",
       "      <td>0.080</td>\n",
       "      <td>0.920</td>\n",
       "    </tr>\n",
       "    <tr>\n",
       "      <th>num_family_members</th>\n",
       "      <td>-0.502</td>\n",
       "      <td>1.502</td>\n",
       "    </tr>\n",
       "    <tr>\n",
       "      <th>past_avg_amount_annuity</th>\n",
       "      <td>0.129</td>\n",
       "      <td>0.871</td>\n",
       "    </tr>\n",
       "    <tr>\n",
       "      <th>past_avg_amt_application</th>\n",
       "      <td>0.102</td>\n",
       "      <td>0.898</td>\n",
       "    </tr>\n",
       "    <tr>\n",
       "      <th>past_avg_amt_credit</th>\n",
       "      <td>0.100</td>\n",
       "      <td>0.900</td>\n",
       "    </tr>\n",
       "    <tr>\n",
       "      <th>past_loans_approved</th>\n",
       "      <td>0.096</td>\n",
       "      <td>0.904</td>\n",
       "    </tr>\n",
       "    <tr>\n",
       "      <th>past_loans_refused</th>\n",
       "      <td>-0.082</td>\n",
       "      <td>1.082</td>\n",
       "    </tr>\n",
       "    <tr>\n",
       "      <th>past_loans_canceled</th>\n",
       "      <td>-0.088</td>\n",
       "      <td>1.088</td>\n",
       "    </tr>\n",
       "    <tr>\n",
       "      <th>past_loans_unused</th>\n",
       "      <td>0.168</td>\n",
       "      <td>0.832</td>\n",
       "    </tr>\n",
       "    <tr>\n",
       "      <th>past_loans_total</th>\n",
       "      <td>-0.037</td>\n",
       "      <td>1.037</td>\n",
       "    </tr>\n",
       "  </tbody>\n",
       "</table>\n",
       "</div>"
      ],
      "text/plain": [
       "                            PC1    PC2\n",
       "infringed                 1.030 -0.030\n",
       "gender                    0.375  0.625\n",
       "has_own_car                 NaN    NaN\n",
       "has_own_realty           -1.061  2.061\n",
       "num_children              0.161  0.839\n",
       "annual_income             0.411  0.589\n",
       "credit_amount             1.140 -0.140\n",
       "credit_annuity            0.970  0.030\n",
       "goods_valuation           1.129 -0.129\n",
       "age                       0.333  0.667\n",
       "days_employed            -0.149  1.149\n",
       "car_age                   0.341  0.659\n",
       "provided_workphone       -0.096  1.096\n",
       "provided_homephone        0.054  0.946\n",
       "mobilephone_reachable    -0.595  1.595\n",
       "provided_email            0.080  0.920\n",
       "num_family_members       -0.502  1.502\n",
       "past_avg_amount_annuity   0.129  0.871\n",
       "past_avg_amt_application  0.102  0.898\n",
       "past_avg_amt_credit       0.100  0.900\n",
       "past_loans_approved       0.096  0.904\n",
       "past_loans_refused       -0.082  1.082\n",
       "past_loans_canceled      -0.088  1.088\n",
       "past_loans_unused         0.168  0.832\n",
       "past_loans_total         -0.037  1.037"
      ]
     },
     "execution_count": 130,
     "metadata": {},
     "output_type": "execute_result"
    }
   ],
   "source": [
    "norm_loadings = loadings.div(loadings.sum(axis=1), axis=0)\n",
    "round(norm_loadings,3)"
   ]
  },
  {
   "cell_type": "markdown",
   "id": "e5349f34-e77b-41ab-b520-e917976cc484",
   "metadata": {},
   "source": [
    "### 3.4. Loading plot"
   ]
  },
  {
   "cell_type": "code",
   "execution_count": 131,
   "id": "b2992b70-f2a6-43e1-bd54-209be8835550",
   "metadata": {},
   "outputs": [
    {
     "data": {
      "image/png": "[encoded data removed]",
      "text/plain": [
       "<Figure size 504x504 with 1 Axes>"
      ]
     },
     "metadata": {
      "needs_background": "light"
     },
     "output_type": "display_data"
    }
   ],
   "source": [
    "def loading_plot(coeff, labels):\n",
    "    n = coeff.shape[0]\n",
    "    for i in range(n):\n",
    "        plt.arrow(0, 0, coeff[i,0], coeff[i,1], head_width = 0.05, head_length = 0.05, color = 'red',alpha = 0.5)\n",
    "        plt.text(coeff[i,0]* 1.15, coeff[i,1] * 1.15, labels[i], color = 'blue', ha = 'center', va = 'center')\n",
    "    plt.xlim(-1,1)\n",
    "    plt.ylim(-1,1)\n",
    "    plt.xlabel('PC1')\n",
    "    plt.ylabel('PC2')\n",
    "    plt.grid()\n",
    "\n",
    "fig, ax = plt.subplots(figsize = (7,7))\n",
    "loading_plot(pca.components_.T, base_all.columns)"
   ]
  },
  {
   "cell_type": "markdown",
   "id": "cb1bd347-1e9c-4129-9185-20a3411b420c",
   "metadata": {},
   "source": [
    "#### Percebe-se que as duas variáveis principais que melhor explicam cada componente estão altamente correlacionadas. De um lado, \"goods_valuation\" com \"credit_amount\" e, de outro, \"past_avg_amt_credit\" com \"past_avg_amt_application\".\n",
    "\n",
    "#### Além disso, cada um desses pares não se relacionam entre si (cos~0º)...\n",
    "\n",
    "#### Annual income tem força menor, mas é a 5ªa variável, pois é a 5ª a explicar PC1 e 3ª de PCA. Possui correlação positiva média com as quatro variáveis principais."
   ]
  },
  {
   "cell_type": "markdown",
   "id": "1be32e3f-6c70-4986-8b1a-79aa5ee95022",
   "metadata": {},
   "source": [
    "## Tentei acima criar uma maneira de selecionar os vetores mais compridos apenas, por ex N=2 N=4... mas como comecei a levar muito tempo, deixei de lado e segui pra entregar, acho que pode-se tentar apenas se houver tempo hábil =)"
   ]
  },
  {
   "cell_type": "markdown",
   "id": "3662948e-3661-4073-b59c-c6f1114a7ccc",
   "metadata": {},
   "source": [
    "### 3.5. Score plot"
   ]
  },
  {
   "cell_type": "code",
   "execution_count": 132,
   "id": "ea96acf7-e1eb-482f-8103-239acb7a0101",
   "metadata": {},
   "outputs": [
    {
     "data": {
      "image/png": "[encoded data removed]",
      "text/plain": [
       "<Figure size 432x288 with 1 Axes>"
      ]
     },
     "metadata": {
      "needs_background": "light"
     },
     "output_type": "display_data"
    }
   ],
   "source": [
    "plt.scatter(base_all_pca[:, 0], base_all_pca[:, 1])\n",
    "plt.xlabel('Primeira Componente Principal')\n",
    "plt.ylabel('Segunda Componente Principal')\n",
    "plt.title('Score Plot')\n",
    "\n",
    "plt.show()"
   ]
  },
  {
   "cell_type": "markdown",
   "id": "ac0704cc-acac-4857-9222-165db83598ca",
   "metadata": {},
   "source": [
    "#### O score plot mostra que não existe nenhuma relação óbvia entre as duas componentes senão uma relação de perpendicularidade entre ambas.\n",
    "#### Não existe grandes clusteres bem separados também.\n",
    "#### Poucos são os pontos de outlier, sendo os principais aqueles que se encontram em X>3 e Y<2 (menos de 1 dúzia de ponto)."
   ]
  },
  {
   "cell_type": "markdown",
   "id": "a13d080c-5b14-4e2e-85ee-c2f822fc0b4e",
   "metadata": {},
   "source": [
    "### 3.6. Análise de resíduos"
   ]
  },
  {
   "cell_type": "code",
   "execution_count": 133,
   "id": "66087e99-ce03-4040-9b4a-86b4ae30208e",
   "metadata": {},
   "outputs": [
    {
     "data": {
      "image/png": "[encoded data removed]",
      "text/plain": [
       "<Figure size 432x288 with 1 Axes>"
      ]
     },
     "metadata": {
      "needs_background": "light"
     },
     "output_type": "display_data"
    }
   ],
   "source": [
    "### Retoando o Scree Plot\n",
    "plt.plot(range(1, len(explained_variance) + 1), eigenvalues, marker='o', linestyle='-')\n",
    "plt.xticks(np.arange(1, len(explained_variance) + 1, step=1))\n",
    "plt.xlabel('Número de Componentes Principais')\n",
    "plt.ylabel('Autovalores')\n",
    "plt.title('Scree Plot')\n",
    "\n",
    "plt.show()"
   ]
  },
  {
   "cell_type": "code",
   "execution_count": 134,
   "id": "c370fc38-8337-43b7-af34-917cce9e5e89",
   "metadata": {},
   "outputs": [
    {
     "data": {
      "image/png": "[encoded data removed]",
      "text/plain": [
       "<Figure size 432x288 with 1 Axes>"
      ]
     },
     "metadata": {
      "needs_background": "light"
     },
     "output_type": "display_data"
    }
   ],
   "source": [
    "# Calcule os autovalores acumulados\n",
    "cumulative_eigenvalues = np.cumsum(eigenvalues)\n",
    "\n",
    "# Calcule a proporção acumulada da variância explicada\n",
    "explained_variance_ratio = cumulative_eigenvalues / np.sum(eigenvalues)\n",
    "\n",
    "# Crie o gráfico de Scree Plot com autovalores acumulados\n",
    "plt.plot(range(1, len(explained_variance_ratio) + 1), explained_variance_ratio, marker='o', linestyle='-')\n",
    "plt.xticks(np.arange(1, len(explained_variance_ratio) + 1, step=1))\n",
    "plt.xlabel('Número de Componentes Principais')\n",
    "plt.ylabel('Proporção Acumulada da Variância Explicada')\n",
    "plt.title('Scree Plot (Variância Acumulada)')\n",
    "\n",
    "plt.show()"
   ]
  },
  {
   "cell_type": "markdown",
   "id": "c9577d15-1fff-423d-a480-5726cb7cad57",
   "metadata": {},
   "source": [
    "#### Reforça-se que com 1 componente se explica 75% da variação total de X e que, com 2 componentes, 90%."
   ]
  },
  {
   "cell_type": "code",
   "execution_count": 135,
   "id": "cc955691-c652-40db-b636-e9749496e4fb",
   "metadata": {},
   "outputs": [],
   "source": [
    "scores = np.array([base_all_pca[:, 0], base_all_pca[:, 1]])"
   ]
  },
  {
   "cell_type": "code",
   "execution_count": 136,
   "id": "af9b9f10-0767-4ac1-98e7-4096cadd2e80",
   "metadata": {},
   "outputs": [],
   "source": [
    "# Obtenha o número total de pontos\n",
    "total_points = scores.shape[1]\n",
    "\n",
    "# Trabalhando com apenas 1% dos dados, porque são muitos\n",
    "num_points_to_select = total_points // 100\n",
    "\n",
    "# Gere índices aleatórios para selecionar os pontos\n",
    "random_indices = np.random.choice(total_points, size=num_points_to_select, replace=False)\n",
    "\n",
    "# Selecione os pontos correspondentes aos índices gerados aleatoriamente\n",
    "selected_scores = scores[:, random_indices]"
   ]
  },
  {
   "cell_type": "code",
   "execution_count": 137,
   "id": "b84804ef-3735-4535-9d08-b1526264a07e",
   "metadata": {},
   "outputs": [],
   "source": [
    "from scipy.spatial.distance import cdist\n",
    "\n",
    "centroid = np.mean(selected_scores, axis=0)\n",
    "distancias_mahalanobis = cdist(selected_scores, centroid.reshape(1, -1), 'mahalanobis', VI=np.linalg.inv(np.cov(selected_scores)))"
   ]
  },
  {
   "cell_type": "code",
   "execution_count": null,
   "id": "b00945af-009d-4238-bd7c-05f4fbb4ee90",
   "metadata": {},
   "outputs": [],
   "source": []
  },
  {
   "cell_type": "code",
   "execution_count": 138,
   "id": "27640aa9-910b-47b3-aa90-357654568ffb",
   "metadata": {},
   "outputs": [
    {
     "data": {
      "image/png": "[encoded data removed]",
      "text/plain": [
       "<Figure size 432x288 with 1 Axes>"
      ]
     },
     "metadata": {
      "needs_background": "light"
     },
     "output_type": "display_data"
    }
   ],
   "source": [
    "from scipy.spatial import distance\n",
    "\n",
    "# Calcule as distâncias Mahalanobis dos pontos de dados aos centroides\n",
    "centroid = np.mean(selected_scores, axis=0)\n",
    "DModX = [distance.mahalanobis(point, centroid, np.cov(selected_scores.T)) for point in selected_scores]\n",
    "\n",
    "# Plote o gráfico DModX\n",
    "plt.scatter(range(len(DModX)), DModX, c='b', label='DModX', marker='o')\n",
    "plt.xlabel('Observações')\n",
    "plt.ylabel('Distância Mahalanobis')\n",
    "plt.legend()\n",
    "plt.title('Gráfico DModX')\n",
    "plt.show()"
   ]
  },
  {
   "cell_type": "code",
   "execution_count": 139,
   "id": "a46fa412-13a8-435d-8dd9-856331726f35",
   "metadata": {},
   "outputs": [
    {
     "data": {
      "image/png": "[encoded data removed]",
      "text/plain": [
       "<Figure size 432x288 with 1 Axes>"
      ]
     },
     "metadata": {
      "needs_background": "light"
     },
     "output_type": "display_data"
    }
   ],
   "source": [
    "distancias_mahalanobis = [2.5, 1.8, 3.2, 0.7, 4.0]  # Substitua pelos seus próprios valores\n",
    "\n",
    "# Defina um limiar de detecção (opcional)\n",
    "limiar = 2.0\n",
    "\n",
    "# Crie um gráfico de barras das distâncias Mahalanobis\n",
    "plt.bar(range(len(distancias_mahalanobis)), distancias_mahalanobis, color='b', label='Distâncias Mahalanobis')\n",
    "plt.axhline(y=limiar, color='r', linestyle='--', label='Limiar de Detecção')\n",
    "plt.xlabel('Observações')\n",
    "plt.ylabel('Distâncias Mahalanobis')\n",
    "plt.legend()\n",
    "plt.title('Gráfico DModX (Barras)')\n",
    "plt.show()"
   ]
  },
  {
   "cell_type": "code",
   "execution_count": null,
   "id": "c1b4fd63-6548-48ac-8e23-585726e3e5cc",
   "metadata": {},
   "outputs": [],
   "source": []
  },
  {
   "cell_type": "code",
   "execution_count": null,
   "id": "de44a33e-1fbf-41f6-b952-fd3a8dfb69a4",
   "metadata": {},
   "outputs": [],
   "source": []
  },
  {
   "cell_type": "code",
   "execution_count": null,
   "id": "65ff42f1-a6c8-4bba-80bd-3c306ece44f3",
   "metadata": {},
   "outputs": [],
   "source": []
  },
  {
   "cell_type": "markdown",
   "id": "6ec7553e-6543-4af6-b311-4f95a5a85651",
   "metadata": {},
   "source": [
    "### **4. Análise Base Homens - Base Mulheres**"
   ]
  },
  {
   "cell_type": "code",
   "execution_count": 140,
   "id": "fd923be1",
   "metadata": {},
   "outputs": [
    {
     "name": "stdout",
     "output_type": "stream",
     "text": [
      "Male data shape: (55693, 24)\n",
      "Female data shape: (42643, 24)\n"
     ]
    }
   ],
   "source": [
    "print(f\"Male data shape: {base_m.shape}\\nFemale data shape: {base_f.shape}\")"
   ]
  },
  {
   "cell_type": "markdown",
   "id": "4529674e-7d0e-4ebb-81f6-fc387f9ff048",
   "metadata": {},
   "source": [
    "### 4.1. Primeiras infos PCA"
   ]
  },
  {
   "cell_type": "code",
   "execution_count": 141,
   "id": "a62b4c1f",
   "metadata": {},
   "outputs": [],
   "source": [
    "import plotly.graph_objects as go"
   ]
  },
  {
   "cell_type": "code",
   "execution_count": 143,
   "id": "9467e01c",
   "metadata": {},
   "outputs": [],
   "source": [
    "# Inicialize o modelo PCA com o número de componentes desejado (por exemplo, 2 componentes)\n",
    "pca_man = PCA(n_components=len(base_m.columns))\n",
    "pca_woman = PCA(n_components=len(base_m.columns))\n",
    "pca_man.fit_transform(base_m)\n",
    "pca_woman.fit_transform(base_f)\n",
    "\n",
    "pcs = np.array(range(1,27))"
   ]
  },
  {
   "cell_type": "markdown",
   "id": "fdff0add-06ab-4946-86a8-b8c8b5c29de0",
   "metadata": {
    "jp-MarkdownHeadingCollapsed": true,
    "tags": []
   },
   "source": [
    "### 4.2. Scree plot"
   ]
  },
  {
   "cell_type": "markdown",
   "id": "4f859832",
   "metadata": {},
   "source": [
    "Coloquei vários tipos de gráficos para depois vermos qual preferimos colocar na apresentação"
   ]
  },
  {
   "cell_type": "code",
   "execution_count": 144,
   "id": "d9d2d6db",
   "metadata": {},
   "outputs": [
    {
     "data": {
      "image/png": "[encoded data removed]",
      "text/plain": [
       "<Figure size 432x288 with 1 Axes>"
      ]
     },
     "metadata": {
      "needs_background": "light"
     },
     "output_type": "display_data"
    }
   ],
   "source": [
    "plt.plot(range(1, len(explained_variance) + 1), explained_variance, marker='o', linestyle='-')\n",
    "plt.xticks(np.arange(1, len(explained_variance) + 1, step=1))\n",
    "plt.xlabel('Número de Componentes Principais')\n",
    "plt.ylabel('Explicação da variação')\n",
    "plt.title('Scree Plot')\n",
    "\n",
    "plt.show()"
   ]
  },
  {
   "cell_type": "code",
   "execution_count": 145,
   "id": "76f0e2f5",
   "metadata": {},
   "outputs": [
    {
     "data": {
      "application/vnd.plotly.v1+json": {
       "config": {
        "plotlyServerURL": "https://plot.ly"
       },
       "data": [
        {
         "name": "Man",
         "type": "bar",
         "x": [
          1,
          2,
          3,
          4,
          5,
          6,
          7,
          8,
          9,
          10,
          11,
          12,
          13,
          14,
          15,
          16,
          17,
          18,
          19,
          20,
          21,
          22,
          23,
          24,
          25,
          26
         ],
         "y": [
          0.7655456642690778,
          0.15525493271358004,
          0.049395437712589,
          0.022436490962838826,
          0.005079678621096345,
          0.0019270146468916404,
          0.0002514028737464761,
          0.00010937763744101896,
          2.809651692314603e-10,
          2.1687942527025519e-10,
          4.8664331360274175e-11,
          6.776600937533031e-12,
          4.3611761816517555e-12,
          3.3604596758473244e-12,
          5.257251537780736e-13,
          3.776062390807924e-13,
          3.692947477889677e-13,
          1.8746372287629263e-13,
          1.4401662274591846e-13,
          1.2531056090269245e-13,
          1.8303455726959218e-15,
          3.656474063419568e-16,
          9.856796310915516e-36,
          1.540073363522227e-42
         ]
        },
        {
         "name": "Woman",
         "type": "bar",
         "x": [
          1,
          2,
          3,
          4,
          5,
          6,
          7,
          8,
          9,
          10,
          11,
          12,
          13,
          14,
          15,
          16,
          17,
          18,
          19,
          20,
          21,
          22,
          23,
          24,
          25,
          26
         ],
         "y": [
          0.7915954279083278,
          0.14665196556063018,
          0.03496664635591492,
          0.01997722031318493,
          0.004991709783700743,
          0.0015005930507432802,
          0.0002110421419426801,
          0.00010539424236485857,
          4.0732539045084023e-10,
          1.706817590969313e-10,
          4.972875244420606e-11,
          6.813371062171147e-12,
          4.2456976154449405e-12,
          2.757765028823526e-12,
          4.656220877542629e-13,
          4.2197187728306437e-13,
          3.2435528932100843e-13,
          1.5349919885587885e-13,
          1.446708363930281e-13,
          1.2567776966728665e-13,
          1.834407314457228e-15,
          1.758934152586024e-16,
          2.6556772458639047e-35,
          2.2356812044902467e-42
         ]
        }
       ],
       "layout": {
        "barmode": "group",
        "height": 400,
        "plot_bgcolor": "white",
        "template": {
         "data": {
          "bar": [
           {
            "error_x": {
             "color": "#2a3f5f"
            },
            "error_y": {
             "color": "#2a3f5f"
            },
            "marker": {
             "line": {
              "color": "#E5ECF6",
              "width": 0.5
             },
             "pattern": {
              "fillmode": "overlay",
              "size": 10,
              "solidity": 0.2
             }
            },
            "type": "bar"
           }
          ],
          "barpolar": [
           {
            "marker": {
             "line": {
              "color": "#E5ECF6",
              "width": 0.5
             },
             "pattern": {
              "fillmode": "overlay",
              "size": 10,
              "solidity": 0.2
             }
            },
            "type": "barpolar"
           }
          ],
          "carpet": [
           {
            "aaxis": {
             "endlinecolor": "#2a3f5f",
             "gridcolor": "white",
             "linecolor": "white",
             "minorgridcolor": "white",
             "startlinecolor": "#2a3f5f"
            },
            "baxis": {
             "endlinecolor": "#2a3f5f",
             "gridcolor": "white",
             "linecolor": "white",
             "minorgridcolor": "white",
             "startlinecolor": "#2a3f5f"
            },
            "type": "carpet"
           }
          ],
          "choropleth": [
           {
            "colorbar": {
             "outlinewidth": 0,
             "ticks": ""
            },
            "type": "choropleth"
           }
          ],
          "contour": [
           {
            "colorbar": {
             "outlinewidth": 0,
             "ticks": ""
            },
            "colorscale": [
             [
              0,
              "#0d0887"
             ],
             [
              0.1111111111111111,
              "#46039f"
             ],
             [
              0.2222222222222222,
              "#7201a8"
             ],
             [
              0.3333333333333333,
              "#9c179e"
             ],
             [
              0.4444444444444444,
              "#bd3786"
             ],
             [
              0.5555555555555556,
              "#d8576b"
             ],
             [
              0.6666666666666666,
              "#ed7953"
             ],
             [
              0.7777777777777778,
              "#fb9f3a"
             ],
             [
              0.8888888888888888,
              "#fdca26"
             ],
             [
              1,
              "#f0f921"
             ]
            ],
            "type": "contour"
           }
          ],
          "contourcarpet": [
           {
            "colorbar": {
             "outlinewidth": 0,
             "ticks": ""
            },
            "type": "contourcarpet"
           }
          ],
          "heatmap": [
           {
            "colorbar": {
             "outlinewidth": 0,
             "ticks": ""
            },
            "colorscale": [
             [
              0,
              "#0d0887"
             ],
             [
              0.1111111111111111,
              "#46039f"
             ],
             [
              0.2222222222222222,
              "#7201a8"
             ],
             [
              0.3333333333333333,
              "#9c179e"
             ],
             [
              0.4444444444444444,
              "#bd3786"
             ],
             [
              0.5555555555555556,
              "#d8576b"
             ],
             [
              0.6666666666666666,
              "#ed7953"
             ],
             [
              0.7777777777777778,
              "#fb9f3a"
             ],
             [
              0.8888888888888888,
              "#fdca26"
             ],
             [
              1,
              "#f0f921"
             ]
            ],
            "type": "heatmap"
           }
          ],
          "heatmapgl": [
           {
            "colorbar": {
             "outlinewidth": 0,
             "ticks": ""
            },
            "colorscale": [
             [
              0,
              "#0d0887"
             ],
             [
              0.1111111111111111,
              "#46039f"
             ],
             [
              0.2222222222222222,
              "#7201a8"
             ],
             [
              0.3333333333333333,
              "#9c179e"
             ],
             [
              0.4444444444444444,
              "#bd3786"
             ],
             [
              0.5555555555555556,
              "#d8576b"
             ],
             [
              0.6666666666666666,
              "#ed7953"
             ],
             [
              0.7777777777777778,
              "#fb9f3a"
             ],
             [
              0.8888888888888888,
              "#fdca26"
             ],
             [
              1,
              "#f0f921"
             ]
            ],
            "type": "heatmapgl"
           }
          ],
          "histogram": [
           {
            "marker": {
             "pattern": {
              "fillmode": "overlay",
              "size": 10,
              "solidity": 0.2
             }
            },
            "type": "histogram"
           }
          ],
          "histogram2d": [
           {
            "colorbar": {
             "outlinewidth": 0,
             "ticks": ""
            },
            "colorscale": [
             [
              0,
              "#0d0887"
             ],
             [
              0.1111111111111111,
              "#46039f"
             ],
             [
              0.2222222222222222,
              "#7201a8"
             ],
             [
              0.3333333333333333,
              "#9c179e"
             ],
             [
              0.4444444444444444,
              "#bd3786"
             ],
             [
              0.5555555555555556,
              "#d8576b"
             ],
             [
              0.6666666666666666,
              "#ed7953"
             ],
             [
              0.7777777777777778,
              "#fb9f3a"
             ],
             [
              0.8888888888888888,
              "#fdca26"
             ],
             [
              1,
              "#f0f921"
             ]
            ],
            "type": "histogram2d"
           }
          ],
          "histogram2dcontour": [
           {
            "colorbar": {
             "outlinewidth": 0,
             "ticks": ""
            },
            "colorscale": [
             [
              0,
              "#0d0887"
             ],
             [
              0.1111111111111111,
              "#46039f"
             ],
             [
              0.2222222222222222,
              "#7201a8"
             ],
             [
              0.3333333333333333,
              "#9c179e"
             ],
             [
              0.4444444444444444,
              "#bd3786"
             ],
             [
              0.5555555555555556,
              "#d8576b"
             ],
             [
              0.6666666666666666,
              "#ed7953"
             ],
             [
              0.7777777777777778,
              "#fb9f3a"
             ],
             [
              0.8888888888888888,
              "#fdca26"
             ],
             [
              1,
              "#f0f921"
             ]
            ],
            "type": "histogram2dcontour"
           }
          ],
          "mesh3d": [
           {
            "colorbar": {
             "outlinewidth": 0,
             "ticks": ""
            },
            "type": "mesh3d"
           }
          ],
          "parcoords": [
           {
            "line": {
             "colorbar": {
              "outlinewidth": 0,
              "ticks": ""
             }
            },
            "type": "parcoords"
           }
          ],
          "pie": [
           {
            "automargin": true,
            "type": "pie"
           }
          ],
          "scatter": [
           {
            "fillpattern": {
             "fillmode": "overlay",
             "size": 10,
             "solidity": 0.2
            },
            "type": "scatter"
           }
          ],
          "scatter3d": [
           {
            "line": {
             "colorbar": {
              "outlinewidth": 0,
              "ticks": ""
             }
            },
            "marker": {
             "colorbar": {
              "outlinewidth": 0,
              "ticks": ""
             }
            },
            "type": "scatter3d"
           }
          ],
          "scattercarpet": [
           {
            "marker": {
             "colorbar": {
              "outlinewidth": 0,
              "ticks": ""
             }
            },
            "type": "scattercarpet"
           }
          ],
          "scattergeo": [
           {
            "marker": {
             "colorbar": {
              "outlinewidth": 0,
              "ticks": ""
             }
            },
            "type": "scattergeo"
           }
          ],
          "scattergl": [
           {
            "marker": {
             "colorbar": {
              "outlinewidth": 0,
              "ticks": ""
             }
            },
            "type": "scattergl"
           }
          ],
          "scattermapbox": [
           {
            "marker": {
             "colorbar": {
              "outlinewidth": 0,
              "ticks": ""
             }
            },
            "type": "scattermapbox"
           }
          ],
          "scatterpolar": [
           {
            "marker": {
             "colorbar": {
              "outlinewidth": 0,
              "ticks": ""
             }
            },
            "type": "scatterpolar"
           }
          ],
          "scatterpolargl": [
           {
            "marker": {
             "colorbar": {
              "outlinewidth": 0,
              "ticks": ""
             }
            },
            "type": "scatterpolargl"
           }
          ],
          "scatterternary": [
           {
            "marker": {
             "colorbar": {
              "outlinewidth": 0,
              "ticks": ""
             }
            },
            "type": "scatterternary"
           }
          ],
          "surface": [
           {
            "colorbar": {
             "outlinewidth": 0,
             "ticks": ""
            },
            "colorscale": [
             [
              0,
              "#0d0887"
             ],
             [
              0.1111111111111111,
              "#46039f"
             ],
             [
              0.2222222222222222,
              "#7201a8"
             ],
             [
              0.3333333333333333,
              "#9c179e"
             ],
             [
              0.4444444444444444,
              "#bd3786"
             ],
             [
              0.5555555555555556,
              "#d8576b"
             ],
             [
              0.6666666666666666,
              "#ed7953"
             ],
             [
              0.7777777777777778,
              "#fb9f3a"
             ],
             [
              0.8888888888888888,
              "#fdca26"
             ],
             [
              1,
              "#f0f921"
             ]
            ],
            "type": "surface"
           }
          ],
          "table": [
           {
            "cells": {
             "fill": {
              "color": "#EBF0F8"
             },
             "line": {
              "color": "white"
             }
            },
            "header": {
             "fill": {
              "color": "#C8D4E3"
             },
             "line": {
              "color": "white"
             }
            },
            "type": "table"
           }
          ]
         },
         "layout": {
          "annotationdefaults": {
           "arrowcolor": "#2a3f5f",
           "arrowhead": 0,
           "arrowwidth": 1
          },
          "autotypenumbers": "strict",
          "coloraxis": {
           "colorbar": {
            "outlinewidth": 0,
            "ticks": ""
           }
          },
          "colorscale": {
           "diverging": [
            [
             0,
             "#8e0152"
            ],
            [
             0.1,
             "#c51b7d"
            ],
            [
             0.2,
             "#de77ae"
            ],
            [
             0.3,
             "#f1b6da"
            ],
            [
             0.4,
             "#fde0ef"
            ],
            [
             0.5,
             "#f7f7f7"
            ],
            [
             0.6,
             "#e6f5d0"
            ],
            [
             0.7,
             "#b8e186"
            ],
            [
             0.8,
             "#7fbc41"
            ],
            [
             0.9,
             "#4d9221"
            ],
            [
             1,
             "#276419"
            ]
           ],
           "sequential": [
            [
             0,
             "#0d0887"
            ],
            [
             0.1111111111111111,
             "#46039f"
            ],
            [
             0.2222222222222222,
             "#7201a8"
            ],
            [
             0.3333333333333333,
             "#9c179e"
            ],
            [
             0.4444444444444444,
             "#bd3786"
            ],
            [
             0.5555555555555556,
             "#d8576b"
            ],
            [
             0.6666666666666666,
             "#ed7953"
            ],
            [
             0.7777777777777778,
             "#fb9f3a"
            ],
            [
             0.8888888888888888,
             "#fdca26"
            ],
            [
             1,
             "#f0f921"
            ]
           ],
           "sequentialminus": [
            [
             0,
             "#0d0887"
            ],
            [
             0.1111111111111111,
             "#46039f"
            ],
            [
             0.2222222222222222,
             "#7201a8"
            ],
            [
             0.3333333333333333,
             "#9c179e"
            ],
            [
             0.4444444444444444,
             "#bd3786"
            ],
            [
             0.5555555555555556,
             "#d8576b"
            ],
            [
             0.6666666666666666,
             "#ed7953"
            ],
            [
             0.7777777777777778,
             "#fb9f3a"
            ],
            [
             0.8888888888888888,
             "#fdca26"
            ],
            [
             1,
             "#f0f921"
            ]
           ]
          },
          "colorway": [
           "#636efa",
           "#EF553B",
           "#00cc96",
           "#ab63fa",
           "#FFA15A",
           "#19d3f3",
           "#FF6692",
           "#B6E880",
           "#FF97FF",
           "#FECB52"
          ],
          "font": {
           "color": "#2a3f5f"
          },
          "geo": {
           "bgcolor": "white",
           "lakecolor": "white",
           "landcolor": "#E5ECF6",
           "showlakes": true,
           "showland": true,
           "subunitcolor": "white"
          },
          "hoverlabel": {
           "align": "left"
          },
          "hovermode": "closest",
          "mapbox": {
           "style": "light"
          },
          "paper_bgcolor": "white",
          "plot_bgcolor": "#E5ECF6",
          "polar": {
           "angularaxis": {
            "gridcolor": "white",
            "linecolor": "white",
            "ticks": ""
           },
           "bgcolor": "#E5ECF6",
           "radialaxis": {
            "gridcolor": "white",
            "linecolor": "white",
            "ticks": ""
           }
          },
          "scene": {
           "xaxis": {
            "backgroundcolor": "#E5ECF6",
            "gridcolor": "white",
            "gridwidth": 2,
            "linecolor": "white",
            "showbackground": true,
            "ticks": "",
            "zerolinecolor": "white"
           },
           "yaxis": {
            "backgroundcolor": "#E5ECF6",
            "gridcolor": "white",
            "gridwidth": 2,
            "linecolor": "white",
            "showbackground": true,
            "ticks": "",
            "zerolinecolor": "white"
           },
           "zaxis": {
            "backgroundcolor": "#E5ECF6",
            "gridcolor": "white",
            "gridwidth": 2,
            "linecolor": "white",
            "showbackground": true,
            "ticks": "",
            "zerolinecolor": "white"
           }
          },
          "shapedefaults": {
           "line": {
            "color": "#2a3f5f"
           }
          },
          "ternary": {
           "aaxis": {
            "gridcolor": "white",
            "linecolor": "white",
            "ticks": ""
           },
           "baxis": {
            "gridcolor": "white",
            "linecolor": "white",
            "ticks": ""
           },
           "bgcolor": "#E5ECF6",
           "caxis": {
            "gridcolor": "white",
            "linecolor": "white",
            "ticks": ""
           }
          },
          "title": {
           "x": 0.05
          },
          "xaxis": {
           "automargin": true,
           "gridcolor": "white",
           "linecolor": "white",
           "ticks": "",
           "title": {
            "standoff": 15
           },
           "zerolinecolor": "white",
           "zerolinewidth": 2
          },
          "yaxis": {
           "automargin": true,
           "gridcolor": "white",
           "linecolor": "white",
           "ticks": "",
           "title": {
            "standoff": 15
           },
           "zerolinecolor": "white",
           "zerolinewidth": 2
          }
         }
        },
        "width": 600,
        "xaxis": {
         "title": {
          "text": "Principal Components"
         }
        },
        "yaxis": {
         "title": {
          "text": "Explained variance (0-1)"
         }
        }
       }
      },
      "text/html": [
       "<div>                            <div id=\"0e5a8a05-b6d2-453b-83e1-a475b0ec9b9e\" class=\"plotly-graph-div\" style=\"height:400px; width:600px;\"></div>            <script type=\"text/javascript\">                require([\"plotly\"], function(Plotly) {                    window.PLOTLYENV=window.PLOTLYENV || {};                                    if (document.getElementById(\"0e5a8a05-b6d2-453b-83e1-a475b0ec9b9e\")) {                    Plotly.newPlot(                        \"0e5a8a05-b6d2-453b-83e1-a475b0ec9b9e\",                        [{\"name\":\"Man\",\"x\":[1,2,3,4,5,6,7,8,9,10,11,12,13,14,15,16,17,18,19,20,21,22,23,24,25,26],\"y\":[0.7655456642690778,0.15525493271358004,0.049395437712589,0.022436490962838826,0.005079678621096345,0.0019270146468916404,0.0002514028737464761,0.00010937763744101896,2.809651692314603e-10,2.1687942527025519e-10,4.8664331360274175e-11,6.776600937533031e-12,4.3611761816517555e-12,3.3604596758473244e-12,5.257251537780736e-13,3.776062390807924e-13,3.692947477889677e-13,1.8746372287629263e-13,1.4401662274591846e-13,1.2531056090269245e-13,1.8303455726959218e-15,3.656474063419568e-16,9.856796310915516e-36,1.540073363522227e-42],\"type\":\"bar\"},{\"name\":\"Woman\",\"x\":[1,2,3,4,5,6,7,8,9,10,11,12,13,14,15,16,17,18,19,20,21,22,23,24,25,26],\"y\":[0.7915954279083278,0.14665196556063018,0.03496664635591492,0.01997722031318493,0.004991709783700743,0.0015005930507432802,0.0002110421419426801,0.00010539424236485857,4.0732539045084023e-10,1.706817590969313e-10,4.972875244420606e-11,6.813371062171147e-12,4.2456976154449405e-12,2.757765028823526e-12,4.656220877542629e-13,4.2197187728306437e-13,3.2435528932100843e-13,1.5349919885587885e-13,1.446708363930281e-13,1.2567776966728665e-13,1.834407314457228e-15,1.758934152586024e-16,2.6556772458639047e-35,2.2356812044902467e-42],\"type\":\"bar\"}],                        {\"template\":{\"data\":{\"histogram2dcontour\":[{\"type\":\"histogram2dcontour\",\"colorbar\":{\"outlinewidth\":0,\"ticks\":\"\"},\"colorscale\":[[0.0,\"#0d0887\"],[0.1111111111111111,\"#46039f\"],[0.2222222222222222,\"#7201a8\"],[0.3333333333333333,\"#9c179e\"],[0.4444444444444444,\"#bd3786\"],[0.5555555555555556,\"#d8576b\"],[0.6666666666666666,\"#ed7953\"],[0.7777777777777778,\"#fb9f3a\"],[0.8888888888888888,\"#fdca26\"],[1.0,\"#f0f921\"]]}],\"choropleth\":[{\"type\":\"choropleth\",\"colorbar\":{\"outlinewidth\":0,\"ticks\":\"\"}}],\"histogram2d\":[{\"type\":\"histogram2d\",\"colorbar\":{\"outlinewidth\":0,\"ticks\":\"\"},\"colorscale\":[[0.0,\"#0d0887\"],[0.1111111111111111,\"#46039f\"],[0.2222222222222222,\"#7201a8\"],[0.3333333333333333,\"#9c179e\"],[0.4444444444444444,\"#bd3786\"],[0.5555555555555556,\"#d8576b\"],[0.6666666666666666,\"#ed7953\"],[0.7777777777777778,\"#fb9f3a\"],[0.8888888888888888,\"#fdca26\"],[1.0,\"#f0f921\"]]}],\"heatmap\":[{\"type\":\"heatmap\",\"colorbar\":{\"outlinewidth\":0,\"ticks\":\"\"},\"colorscale\":[[0.0,\"#0d0887\"],[0.1111111111111111,\"#46039f\"],[0.2222222222222222,\"#7201a8\"],[0.3333333333333333,\"#9c179e\"],[0.4444444444444444,\"#bd3786\"],[0.5555555555555556,\"#d8576b\"],[0.6666666666666666,\"#ed7953\"],[0.7777777777777778,\"#fb9f3a\"],[0.8888888888888888,\"#fdca26\"],[1.0,\"#f0f921\"]]}],\"heatmapgl\":[{\"type\":\"heatmapgl\",\"colorbar\":{\"outlinewidth\":0,\"ticks\":\"\"},\"colorscale\":[[0.0,\"#0d0887\"],[0.1111111111111111,\"#46039f\"],[0.2222222222222222,\"#7201a8\"],[0.3333333333333333,\"#9c179e\"],[0.4444444444444444,\"#bd3786\"],[0.5555555555555556,\"#d8576b\"],[0.6666666666666666,\"#ed7953\"],[0.7777777777777778,\"#fb9f3a\"],[0.8888888888888888,\"#fdca26\"],[1.0,\"#f0f921\"]]}],\"contourcarpet\":[{\"type\":\"contourcarpet\",\"colorbar\":{\"outlinewidth\":0,\"ticks\":\"\"}}],\"contour\":[{\"type\":\"contour\",\"colorbar\":{\"outlinewidth\":0,\"ticks\":\"\"},\"colorscale\":[[0.0,\"#0d0887\"],[0.1111111111111111,\"#46039f\"],[0.2222222222222222,\"#7201a8\"],[0.3333333333333333,\"#9c179e\"],[0.4444444444444444,\"#bd3786\"],[0.5555555555555556,\"#d8576b\"],[0.6666666666666666,\"#ed7953\"],[0.7777777777777778,\"#fb9f3a\"],[0.8888888888888888,\"#fdca26\"],[1.0,\"#f0f921\"]]}],\"surface\":[{\"type\":\"surface\",\"colorbar\":{\"outlinewidth\":0,\"ticks\":\"\"},\"colorscale\":[[0.0,\"#0d0887\"],[0.1111111111111111,\"#46039f\"],[0.2222222222222222,\"#7201a8\"],[0.3333333333333333,\"#9c179e\"],[0.4444444444444444,\"#bd3786\"],[0.5555555555555556,\"#d8576b\"],[0.6666666666666666,\"#ed7953\"],[0.7777777777777778,\"#fb9f3a\"],[0.8888888888888888,\"#fdca26\"],[1.0,\"#f0f921\"]]}],\"mesh3d\":[{\"type\":\"mesh3d\",\"colorbar\":{\"outlinewidth\":0,\"ticks\":\"\"}}],\"scatter\":[{\"fillpattern\":{\"fillmode\":\"overlay\",\"size\":10,\"solidity\":0.2},\"type\":\"scatter\"}],\"parcoords\":[{\"type\":\"parcoords\",\"line\":{\"colorbar\":{\"outlinewidth\":0,\"ticks\":\"\"}}}],\"scatterpolargl\":[{\"type\":\"scatterpolargl\",\"marker\":{\"colorbar\":{\"outlinewidth\":0,\"ticks\":\"\"}}}],\"bar\":[{\"error_x\":{\"color\":\"#2a3f5f\"},\"error_y\":{\"color\":\"#2a3f5f\"},\"marker\":{\"line\":{\"color\":\"#E5ECF6\",\"width\":0.5},\"pattern\":{\"fillmode\":\"overlay\",\"size\":10,\"solidity\":0.2}},\"type\":\"bar\"}],\"scattergeo\":[{\"type\":\"scattergeo\",\"marker\":{\"colorbar\":{\"outlinewidth\":0,\"ticks\":\"\"}}}],\"scatterpolar\":[{\"type\":\"scatterpolar\",\"marker\":{\"colorbar\":{\"outlinewidth\":0,\"ticks\":\"\"}}}],\"histogram\":[{\"marker\":{\"pattern\":{\"fillmode\":\"overlay\",\"size\":10,\"solidity\":0.2}},\"type\":\"histogram\"}],\"scattergl\":[{\"type\":\"scattergl\",\"marker\":{\"colorbar\":{\"outlinewidth\":0,\"ticks\":\"\"}}}],\"scatter3d\":[{\"type\":\"scatter3d\",\"line\":{\"colorbar\":{\"outlinewidth\":0,\"ticks\":\"\"}},\"marker\":{\"colorbar\":{\"outlinewidth\":0,\"ticks\":\"\"}}}],\"scattermapbox\":[{\"type\":\"scattermapbox\",\"marker\":{\"colorbar\":{\"outlinewidth\":0,\"ticks\":\"\"}}}],\"scatterternary\":[{\"type\":\"scatterternary\",\"marker\":{\"colorbar\":{\"outlinewidth\":0,\"ticks\":\"\"}}}],\"scattercarpet\":[{\"type\":\"scattercarpet\",\"marker\":{\"colorbar\":{\"outlinewidth\":0,\"ticks\":\"\"}}}],\"carpet\":[{\"aaxis\":{\"endlinecolor\":\"#2a3f5f\",\"gridcolor\":\"white\",\"linecolor\":\"white\",\"minorgridcolor\":\"white\",\"startlinecolor\":\"#2a3f5f\"},\"baxis\":{\"endlinecolor\":\"#2a3f5f\",\"gridcolor\":\"white\",\"linecolor\":\"white\",\"minorgridcolor\":\"white\",\"startlinecolor\":\"#2a3f5f\"},\"type\":\"carpet\"}],\"table\":[{\"cells\":{\"fill\":{\"color\":\"#EBF0F8\"},\"line\":{\"color\":\"white\"}},\"header\":{\"fill\":{\"color\":\"#C8D4E3\"},\"line\":{\"color\":\"white\"}},\"type\":\"table\"}],\"barpolar\":[{\"marker\":{\"line\":{\"color\":\"#E5ECF6\",\"width\":0.5},\"pattern\":{\"fillmode\":\"overlay\",\"size\":10,\"solidity\":0.2}},\"type\":\"barpolar\"}],\"pie\":[{\"automargin\":true,\"type\":\"pie\"}]},\"layout\":{\"autotypenumbers\":\"strict\",\"colorway\":[\"#636efa\",\"#EF553B\",\"#00cc96\",\"#ab63fa\",\"#FFA15A\",\"#19d3f3\",\"#FF6692\",\"#B6E880\",\"#FF97FF\",\"#FECB52\"],\"font\":{\"color\":\"#2a3f5f\"},\"hovermode\":\"closest\",\"hoverlabel\":{\"align\":\"left\"},\"paper_bgcolor\":\"white\",\"plot_bgcolor\":\"#E5ECF6\",\"polar\":{\"bgcolor\":\"#E5ECF6\",\"angularaxis\":{\"gridcolor\":\"white\",\"linecolor\":\"white\",\"ticks\":\"\"},\"radialaxis\":{\"gridcolor\":\"white\",\"linecolor\":\"white\",\"ticks\":\"\"}},\"ternary\":{\"bgcolor\":\"#E5ECF6\",\"aaxis\":{\"gridcolor\":\"white\",\"linecolor\":\"white\",\"ticks\":\"\"},\"baxis\":{\"gridcolor\":\"white\",\"linecolor\":\"white\",\"ticks\":\"\"},\"caxis\":{\"gridcolor\":\"white\",\"linecolor\":\"white\",\"ticks\":\"\"}},\"coloraxis\":{\"colorbar\":{\"outlinewidth\":0,\"ticks\":\"\"}},\"colorscale\":{\"sequential\":[[0.0,\"#0d0887\"],[0.1111111111111111,\"#46039f\"],[0.2222222222222222,\"#7201a8\"],[0.3333333333333333,\"#9c179e\"],[0.4444444444444444,\"#bd3786\"],[0.5555555555555556,\"#d8576b\"],[0.6666666666666666,\"#ed7953\"],[0.7777777777777778,\"#fb9f3a\"],[0.8888888888888888,\"#fdca26\"],[1.0,\"#f0f921\"]],\"sequentialminus\":[[0.0,\"#0d0887\"],[0.1111111111111111,\"#46039f\"],[0.2222222222222222,\"#7201a8\"],[0.3333333333333333,\"#9c179e\"],[0.4444444444444444,\"#bd3786\"],[0.5555555555555556,\"#d8576b\"],[0.6666666666666666,\"#ed7953\"],[0.7777777777777778,\"#fb9f3a\"],[0.8888888888888888,\"#fdca26\"],[1.0,\"#f0f921\"]],\"diverging\":[[0,\"#8e0152\"],[0.1,\"#c51b7d\"],[0.2,\"#de77ae\"],[0.3,\"#f1b6da\"],[0.4,\"#fde0ef\"],[0.5,\"#f7f7f7\"],[0.6,\"#e6f5d0\"],[0.7,\"#b8e186\"],[0.8,\"#7fbc41\"],[0.9,\"#4d9221\"],[1,\"#276419\"]]},\"xaxis\":{\"gridcolor\":\"white\",\"linecolor\":\"white\",\"ticks\":\"\",\"title\":{\"standoff\":15},\"zerolinecolor\":\"white\",\"automargin\":true,\"zerolinewidth\":2},\"yaxis\":{\"gridcolor\":\"white\",\"linecolor\":\"white\",\"ticks\":\"\",\"title\":{\"standoff\":15},\"zerolinecolor\":\"white\",\"automargin\":true,\"zerolinewidth\":2},\"scene\":{\"xaxis\":{\"backgroundcolor\":\"#E5ECF6\",\"gridcolor\":\"white\",\"linecolor\":\"white\",\"showbackground\":true,\"ticks\":\"\",\"zerolinecolor\":\"white\",\"gridwidth\":2},\"yaxis\":{\"backgroundcolor\":\"#E5ECF6\",\"gridcolor\":\"white\",\"linecolor\":\"white\",\"showbackground\":true,\"ticks\":\"\",\"zerolinecolor\":\"white\",\"gridwidth\":2},\"zaxis\":{\"backgroundcolor\":\"#E5ECF6\",\"gridcolor\":\"white\",\"linecolor\":\"white\",\"showbackground\":true,\"ticks\":\"\",\"zerolinecolor\":\"white\",\"gridwidth\":2}},\"shapedefaults\":{\"line\":{\"color\":\"#2a3f5f\"}},\"annotationdefaults\":{\"arrowcolor\":\"#2a3f5f\",\"arrowhead\":0,\"arrowwidth\":1},\"geo\":{\"bgcolor\":\"white\",\"landcolor\":\"#E5ECF6\",\"subunitcolor\":\"white\",\"showland\":true,\"showlakes\":true,\"lakecolor\":\"white\"},\"title\":{\"x\":0.05},\"mapbox\":{\"style\":\"light\"}}},\"barmode\":\"group\",\"plot_bgcolor\":\"white\",\"xaxis\":{\"title\":{\"text\":\"Principal Components\"}},\"yaxis\":{\"title\":{\"text\":\"Explained variance (0-1)\"}},\"width\":600,\"height\":400},                        {\"responsive\": true}                    ).then(function(){\n",
       "                            \n",
       "var gd = document.getElementById('0e5a8a05-b6d2-453b-83e1-a475b0ec9b9e');\n",
       "var x = new MutationObserver(function (mutations, observer) {{\n",
       "        var display = window.getComputedStyle(gd).display;\n",
       "        if (!display || display === 'none') {{\n",
       "            console.log([gd, 'removed!']);\n",
       "            Plotly.purge(gd);\n",
       "            observer.disconnect();\n",
       "        }}\n",
       "}});\n",
       "\n",
       "// Listen for the removal of the full notebook cells\n",
       "var notebookContainer = gd.closest('#notebook-container');\n",
       "if (notebookContainer) {{\n",
       "    x.observe(notebookContainer, {childList: true});\n",
       "}}\n",
       "\n",
       "// Listen for the clearing of the current output cell\n",
       "var outputEl = gd.closest('.output');\n",
       "if (outputEl) {{\n",
       "    x.observe(outputEl, {childList: true});\n",
       "}}\n",
       "\n",
       "                        })                };                });            </script>        </div>"
      ]
     },
     "metadata": {},
     "output_type": "display_data"
    }
   ],
   "source": [
    "# Obtenha as proporções de variância explicada\n",
    "explained_variance_man = pca_man.explained_variance_ratio_\n",
    "explained_variance_woman = pca_woman.explained_variance_ratio_\n",
    "\n",
    "# Obtenha os autovalores\n",
    "eigenvalues_man = pca_man.explained_variance_\n",
    "eigenvalues_woman = pca_woman.explained_variance_\n",
    "\n",
    "fig = go.Figure(data=[\n",
    "    go.Bar(name='Man', x=pcs, y=explained_variance_man),\n",
    "    go.Bar(name='Woman', x=pcs, y=explained_variance_woman)\n",
    "])\n",
    "# Change the bar mode\n",
    "fig.update_layout(barmode='group',\n",
    "                  plot_bgcolor='white',  \n",
    "                  xaxis=dict(title='Principal Components'),\n",
    "                  yaxis=dict(title='Explained variance (0-1)'),\n",
    "                  width=600, \n",
    "                  height=400)\n",
    "fig.show()"
   ]
  },
  {
   "cell_type": "code",
   "execution_count": 146,
   "id": "f2fc568b",
   "metadata": {},
   "outputs": [
    {
     "data": {
      "image/png": "[encoded data removed]",
      "text/plain": [
       "<Figure size 432x288 with 1 Axes>"
      ]
     },
     "metadata": {
      "needs_background": "light"
     },
     "output_type": "display_data"
    }
   ],
   "source": [
    "plt.plot(range(1, len(explained_variance_man) + 1), eigenvalues_man, marker='o', linestyle='-')\n",
    "plt.plot(range(1, len(explained_variance_man) + 1), eigenvalues_woman, marker='o', linestyle='-', color='r')\n",
    "plt.xticks(np.arange(1, len(explained_variance) + 1, step=1))\n",
    "plt.xlabel('Número de Componentes Principais')\n",
    "plt.ylabel('Valores próprios')\n",
    "plt.title('Scree Plot')\n",
    "\n",
    "plt.show()"
   ]
  },
  {
   "cell_type": "code",
   "execution_count": 147,
   "id": "7e3bf565",
   "metadata": {
    "scrolled": true
   },
   "outputs": [
    {
     "data": {
      "application/vnd.plotly.v1+json": {
       "config": {
        "plotlyServerURL": "https://plot.ly"
       },
       "data": [
        {
         "mode": "lines+markers",
         "name": "Man",
         "type": "scatter",
         "x": [
          1,
          2,
          3,
          4,
          5,
          6,
          7,
          8,
          9,
          10,
          11,
          12,
          13,
          14,
          15,
          16,
          17,
          18,
          19,
          20,
          21,
          22,
          23,
          24,
          25,
          26
         ],
         "y": [
          314996191291.2307,
          63882162445.06708,
          20324554723.30893,
          9231858436.533787,
          2090116231.2199256,
          792901459.2654402,
          103443793.63106899,
          45005204.54158589,
          115.60768001724142,
          89.23856030820568,
          20.02372914600274,
          2.7883424658430394,
          1.7944767384738027,
          1.3827156867125994,
          0.2163181490475836,
          0.15537221706012858,
          0.1519523190408841,
          0.07713499202909942,
          0.05925797736821266,
          0.05156106455204478,
          0.0007531253993796149,
          0.00015045156119224026,
          4.055738855547266e-24,
          6.33688186689364e-31
         ]
        },
        {
         "mode": "lines+markers",
         "name": "Woman",
         "type": "scatter",
         "x": [
          1,
          2,
          3,
          4,
          5,
          6,
          7,
          8,
          9,
          10,
          11,
          12,
          13,
          14,
          15,
          16,
          17,
          18,
          19,
          20,
          21,
          22,
          23,
          24,
          25,
          26
         ],
         "y": [
          343459639380.1591,
          63629765193.235344,
          15171426367.974033,
          8667772251.68496,
          2165817009.239743,
          651081511.9618729,
          91567555.10473143,
          45728748.80168139,
          176.7314802263227,
          74.0558792552704,
          21.576450266322382,
          2.9562045022921932,
          1.842135162113131,
          1.1965468077521948,
          0.20202541438381838,
          0.18308633891831166,
          0.14073218057310705,
          0.0666006619359718,
          0.0627701873262079,
          0.05452942238699717,
          0.0007959177788136103,
          7.631712721445924e-05,
          1.152252674809714e-23,
          9.700236171047518e-31
         ]
        }
       ],
       "layout": {
        "height": 400,
        "plot_bgcolor": "rgba(0,0,0,0)",
        "template": {
         "data": {
          "bar": [
           {
            "error_x": {
             "color": "#2a3f5f"
            },
            "error_y": {
             "color": "#2a3f5f"
            },
            "marker": {
             "line": {
              "color": "#E5ECF6",
              "width": 0.5
             },
             "pattern": {
              "fillmode": "overlay",
              "size": 10,
              "solidity": 0.2
             }
            },
            "type": "bar"
           }
          ],
          "barpolar": [
           {
            "marker": {
             "line": {
              "color": "#E5ECF6",
              "width": 0.5
             },
             "pattern": {
              "fillmode": "overlay",
              "size": 10,
              "solidity": 0.2
             }
            },
            "type": "barpolar"
           }
          ],
          "carpet": [
           {
            "aaxis": {
             "endlinecolor": "#2a3f5f",
             "gridcolor": "white",
             "linecolor": "white",
             "minorgridcolor": "white",
             "startlinecolor": "#2a3f5f"
            },
            "baxis": {
             "endlinecolor": "#2a3f5f",
             "gridcolor": "white",
             "linecolor": "white",
             "minorgridcolor": "white",
             "startlinecolor": "#2a3f5f"
            },
            "type": "carpet"
           }
          ],
          "choropleth": [
           {
            "colorbar": {
             "outlinewidth": 0,
             "ticks": ""
            },
            "type": "choropleth"
           }
          ],
          "contour": [
           {
            "colorbar": {
             "outlinewidth": 0,
             "ticks": ""
            },
            "colorscale": [
             [
              0,
              "#0d0887"
             ],
             [
              0.1111111111111111,
              "#46039f"
             ],
             [
              0.2222222222222222,
              "#7201a8"
             ],
             [
              0.3333333333333333,
              "#9c179e"
             ],
             [
              0.4444444444444444,
              "#bd3786"
             ],
             [
              0.5555555555555556,
              "#d8576b"
             ],
             [
              0.6666666666666666,
              "#ed7953"
             ],
             [
              0.7777777777777778,
              "#fb9f3a"
             ],
             [
              0.8888888888888888,
              "#fdca26"
             ],
             [
              1,
              "#f0f921"
             ]
            ],
            "type": "contour"
           }
          ],
          "contourcarpet": [
           {
            "colorbar": {
             "outlinewidth": 0,
             "ticks": ""
            },
            "type": "contourcarpet"
           }
          ],
          "heatmap": [
           {
            "colorbar": {
             "outlinewidth": 0,
             "ticks": ""
            },
            "colorscale": [
             [
              0,
              "#0d0887"
             ],
             [
              0.1111111111111111,
              "#46039f"
             ],
             [
              0.2222222222222222,
              "#7201a8"
             ],
             [
              0.3333333333333333,
              "#9c179e"
             ],
             [
              0.4444444444444444,
              "#bd3786"
             ],
             [
              0.5555555555555556,
              "#d8576b"
             ],
             [
              0.6666666666666666,
              "#ed7953"
             ],
             [
              0.7777777777777778,
              "#fb9f3a"
             ],
             [
              0.8888888888888888,
              "#fdca26"
             ],
             [
              1,
              "#f0f921"
             ]
            ],
            "type": "heatmap"
           }
          ],
          "heatmapgl": [
           {
            "colorbar": {
             "outlinewidth": 0,
             "ticks": ""
            },
            "colorscale": [
             [
              0,
              "#0d0887"
             ],
             [
              0.1111111111111111,
              "#46039f"
             ],
             [
              0.2222222222222222,
              "#7201a8"
             ],
             [
              0.3333333333333333,
              "#9c179e"
             ],
             [
              0.4444444444444444,
              "#bd3786"
             ],
             [
              0.5555555555555556,
              "#d8576b"
             ],
             [
              0.6666666666666666,
              "#ed7953"
             ],
             [
              0.7777777777777778,
              "#fb9f3a"
             ],
             [
              0.8888888888888888,
              "#fdca26"
             ],
             [
              1,
              "#f0f921"
             ]
            ],
            "type": "heatmapgl"
           }
          ],
          "histogram": [
           {
            "marker": {
             "pattern": {
              "fillmode": "overlay",
              "size": 10,
              "solidity": 0.2
             }
            },
            "type": "histogram"
           }
          ],
          "histogram2d": [
           {
            "colorbar": {
             "outlinewidth": 0,
             "ticks": ""
            },
            "colorscale": [
             [
              0,
              "#0d0887"
             ],
             [
              0.1111111111111111,
              "#46039f"
             ],
             [
              0.2222222222222222,
              "#7201a8"
             ],
             [
              0.3333333333333333,
              "#9c179e"
             ],
             [
              0.4444444444444444,
              "#bd3786"
             ],
             [
              0.5555555555555556,
              "#d8576b"
             ],
             [
              0.6666666666666666,
              "#ed7953"
             ],
             [
              0.7777777777777778,
              "#fb9f3a"
             ],
             [
              0.8888888888888888,
              "#fdca26"
             ],
             [
              1,
              "#f0f921"
             ]
            ],
            "type": "histogram2d"
           }
          ],
          "histogram2dcontour": [
           {
            "colorbar": {
             "outlinewidth": 0,
             "ticks": ""
            },
            "colorscale": [
             [
              0,
              "#0d0887"
             ],
             [
              0.1111111111111111,
              "#46039f"
             ],
             [
              0.2222222222222222,
              "#7201a8"
             ],
             [
              0.3333333333333333,
              "#9c179e"
             ],
             [
              0.4444444444444444,
              "#bd3786"
             ],
             [
              0.5555555555555556,
              "#d8576b"
             ],
             [
              0.6666666666666666,
              "#ed7953"
             ],
             [
              0.7777777777777778,
              "#fb9f3a"
             ],
             [
              0.8888888888888888,
              "#fdca26"
             ],
             [
              1,
              "#f0f921"
             ]
            ],
            "type": "histogram2dcontour"
           }
          ],
          "mesh3d": [
           {
            "colorbar": {
             "outlinewidth": 0,
             "ticks": ""
            },
            "type": "mesh3d"
           }
          ],
          "parcoords": [
           {
            "line": {
             "colorbar": {
              "outlinewidth": 0,
              "ticks": ""
             }
            },
            "type": "parcoords"
           }
          ],
          "pie": [
           {
            "automargin": true,
            "type": "pie"
           }
          ],
          "scatter": [
           {
            "fillpattern": {
             "fillmode": "overlay",
             "size": 10,
             "solidity": 0.2
            },
            "type": "scatter"
           }
          ],
          "scatter3d": [
           {
            "line": {
             "colorbar": {
              "outlinewidth": 0,
              "ticks": ""
             }
            },
            "marker": {
             "colorbar": {
              "outlinewidth": 0,
              "ticks": ""
             }
            },
            "type": "scatter3d"
           }
          ],
          "scattercarpet": [
           {
            "marker": {
             "colorbar": {
              "outlinewidth": 0,
              "ticks": ""
             }
            },
            "type": "scattercarpet"
           }
          ],
          "scattergeo": [
           {
            "marker": {
             "colorbar": {
              "outlinewidth": 0,
              "ticks": ""
             }
            },
            "type": "scattergeo"
           }
          ],
          "scattergl": [
           {
            "marker": {
             "colorbar": {
              "outlinewidth": 0,
              "ticks": ""
             }
            },
            "type": "scattergl"
           }
          ],
          "scattermapbox": [
           {
            "marker": {
             "colorbar": {
              "outlinewidth": 0,
              "ticks": ""
             }
            },
            "type": "scattermapbox"
           }
          ],
          "scatterpolar": [
           {
            "marker": {
             "colorbar": {
              "outlinewidth": 0,
              "ticks": ""
             }
            },
            "type": "scatterpolar"
           }
          ],
          "scatterpolargl": [
           {
            "marker": {
             "colorbar": {
              "outlinewidth": 0,
              "ticks": ""
             }
            },
            "type": "scatterpolargl"
           }
          ],
          "scatterternary": [
           {
            "marker": {
             "colorbar": {
              "outlinewidth": 0,
              "ticks": ""
             }
            },
            "type": "scatterternary"
           }
          ],
          "surface": [
           {
            "colorbar": {
             "outlinewidth": 0,
             "ticks": ""
            },
            "colorscale": [
             [
              0,
              "#0d0887"
             ],
             [
              0.1111111111111111,
              "#46039f"
             ],
             [
              0.2222222222222222,
              "#7201a8"
             ],
             [
              0.3333333333333333,
              "#9c179e"
             ],
             [
              0.4444444444444444,
              "#bd3786"
             ],
             [
              0.5555555555555556,
              "#d8576b"
             ],
             [
              0.6666666666666666,
              "#ed7953"
             ],
             [
              0.7777777777777778,
              "#fb9f3a"
             ],
             [
              0.8888888888888888,
              "#fdca26"
             ],
             [
              1,
              "#f0f921"
             ]
            ],
            "type": "surface"
           }
          ],
          "table": [
           {
            "cells": {
             "fill": {
              "color": "#EBF0F8"
             },
             "line": {
              "color": "white"
             }
            },
            "header": {
             "fill": {
              "color": "#C8D4E3"
             },
             "line": {
              "color": "white"
             }
            },
            "type": "table"
           }
          ]
         },
         "layout": {
          "annotationdefaults": {
           "arrowcolor": "#2a3f5f",
           "arrowhead": 0,
           "arrowwidth": 1
          },
          "autotypenumbers": "strict",
          "coloraxis": {
           "colorbar": {
            "outlinewidth": 0,
            "ticks": ""
           }
          },
          "colorscale": {
           "diverging": [
            [
             0,
             "#8e0152"
            ],
            [
             0.1,
             "#c51b7d"
            ],
            [
             0.2,
             "#de77ae"
            ],
            [
             0.3,
             "#f1b6da"
            ],
            [
             0.4,
             "#fde0ef"
            ],
            [
             0.5,
             "#f7f7f7"
            ],
            [
             0.6,
             "#e6f5d0"
            ],
            [
             0.7,
             "#b8e186"
            ],
            [
             0.8,
             "#7fbc41"
            ],
            [
             0.9,
             "#4d9221"
            ],
            [
             1,
             "#276419"
            ]
           ],
           "sequential": [
            [
             0,
             "#0d0887"
            ],
            [
             0.1111111111111111,
             "#46039f"
            ],
            [
             0.2222222222222222,
             "#7201a8"
            ],
            [
             0.3333333333333333,
             "#9c179e"
            ],
            [
             0.4444444444444444,
             "#bd3786"
            ],
            [
             0.5555555555555556,
             "#d8576b"
            ],
            [
             0.6666666666666666,
             "#ed7953"
            ],
            [
             0.7777777777777778,
             "#fb9f3a"
            ],
            [
             0.8888888888888888,
             "#fdca26"
            ],
            [
             1,
             "#f0f921"
            ]
           ],
           "sequentialminus": [
            [
             0,
             "#0d0887"
            ],
            [
             0.1111111111111111,
             "#46039f"
            ],
            [
             0.2222222222222222,
             "#7201a8"
            ],
            [
             0.3333333333333333,
             "#9c179e"
            ],
            [
             0.4444444444444444,
             "#bd3786"
            ],
            [
             0.5555555555555556,
             "#d8576b"
            ],
            [
             0.6666666666666666,
             "#ed7953"
            ],
            [
             0.7777777777777778,
             "#fb9f3a"
            ],
            [
             0.8888888888888888,
             "#fdca26"
            ],
            [
             1,
             "#f0f921"
            ]
           ]
          },
          "colorway": [
           "#636efa",
           "#EF553B",
           "#00cc96",
           "#ab63fa",
           "#FFA15A",
           "#19d3f3",
           "#FF6692",
           "#B6E880",
           "#FF97FF",
           "#FECB52"
          ],
          "font": {
           "color": "#2a3f5f"
          },
          "geo": {
           "bgcolor": "white",
           "lakecolor": "white",
           "landcolor": "#E5ECF6",
           "showlakes": true,
           "showland": true,
           "subunitcolor": "white"
          },
          "hoverlabel": {
           "align": "left"
          },
          "hovermode": "closest",
          "mapbox": {
           "style": "light"
          },
          "paper_bgcolor": "white",
          "plot_bgcolor": "#E5ECF6",
          "polar": {
           "angularaxis": {
            "gridcolor": "white",
            "linecolor": "white",
            "ticks": ""
           },
           "bgcolor": "#E5ECF6",
           "radialaxis": {
            "gridcolor": "white",
            "linecolor": "white",
            "ticks": ""
           }
          },
          "scene": {
           "xaxis": {
            "backgroundcolor": "#E5ECF6",
            "gridcolor": "white",
            "gridwidth": 2,
            "linecolor": "white",
            "showbackground": true,
            "ticks": "",
            "zerolinecolor": "white"
           },
           "yaxis": {
            "backgroundcolor": "#E5ECF6",
            "gridcolor": "white",
            "gridwidth": 2,
            "linecolor": "white",
            "showbackground": true,
            "ticks": "",
            "zerolinecolor": "white"
           },
           "zaxis": {
            "backgroundcolor": "#E5ECF6",
            "gridcolor": "white",
            "gridwidth": 2,
            "linecolor": "white",
            "showbackground": true,
            "ticks": "",
            "zerolinecolor": "white"
           }
          },
          "shapedefaults": {
           "line": {
            "color": "#2a3f5f"
           }
          },
          "ternary": {
           "aaxis": {
            "gridcolor": "white",
            "linecolor": "white",
            "ticks": ""
           },
           "baxis": {
            "gridcolor": "white",
            "linecolor": "white",
            "ticks": ""
           },
           "bgcolor": "#E5ECF6",
           "caxis": {
            "gridcolor": "white",
            "linecolor": "white",
            "ticks": ""
           }
          },
          "title": {
           "x": 0.05
          },
          "xaxis": {
           "automargin": true,
           "gridcolor": "white",
           "linecolor": "white",
           "ticks": "",
           "title": {
            "standoff": 15
           },
           "zerolinecolor": "white",
           "zerolinewidth": 2
          },
          "yaxis": {
           "automargin": true,
           "gridcolor": "white",
           "linecolor": "white",
           "ticks": "",
           "title": {
            "standoff": 15
           },
           "zerolinecolor": "white",
           "zerolinewidth": 2
          }
         }
        },
        "title": {
         "text": "Scree plot"
        },
        "width": 600,
        "xaxis": {
         "showgrid": true,
         "title": {
          "text": "Principal Component"
         }
        },
        "yaxis": {
         "showgrid": true,
         "title": {
          "text": "Eigenvalues"
         }
        }
       }
      },
      "text/html": [
       "<div>                            <div id=\"f278354a-25a4-4ef0-b0f3-e4751cb401c1\" class=\"plotly-graph-div\" style=\"height:400px; width:600px;\"></div>            <script type=\"text/javascript\">                require([\"plotly\"], function(Plotly) {                    window.PLOTLYENV=window.PLOTLYENV || {};                                    if (document.getElementById(\"f278354a-25a4-4ef0-b0f3-e4751cb401c1\")) {                    Plotly.newPlot(                        \"f278354a-25a4-4ef0-b0f3-e4751cb401c1\",                        [{\"mode\":\"lines+markers\",\"name\":\"Man\",\"x\":[1,2,3,4,5,6,7,8,9,10,11,12,13,14,15,16,17,18,19,20,21,22,23,24,25,26],\"y\":[314996191291.2307,63882162445.06708,20324554723.30893,9231858436.533787,2090116231.2199256,792901459.2654402,103443793.63106899,45005204.54158589,115.60768001724142,89.23856030820568,20.02372914600274,2.7883424658430394,1.7944767384738027,1.3827156867125994,0.2163181490475836,0.15537221706012858,0.1519523190408841,0.07713499202909942,0.05925797736821266,0.05156106455204478,0.0007531253993796149,0.00015045156119224026,4.055738855547266e-24,6.33688186689364e-31],\"type\":\"scatter\"},{\"mode\":\"lines+markers\",\"name\":\"Woman\",\"x\":[1,2,3,4,5,6,7,8,9,10,11,12,13,14,15,16,17,18,19,20,21,22,23,24,25,26],\"y\":[343459639380.1591,63629765193.235344,15171426367.974033,8667772251.68496,2165817009.239743,651081511.9618729,91567555.10473143,45728748.80168139,176.7314802263227,74.0558792552704,21.576450266322382,2.9562045022921932,1.842135162113131,1.1965468077521948,0.20202541438381838,0.18308633891831166,0.14073218057310705,0.0666006619359718,0.0627701873262079,0.05452942238699717,0.0007959177788136103,7.631712721445924e-05,1.152252674809714e-23,9.700236171047518e-31],\"type\":\"scatter\"}],                        {\"template\":{\"data\":{\"histogram2dcontour\":[{\"type\":\"histogram2dcontour\",\"colorbar\":{\"outlinewidth\":0,\"ticks\":\"\"},\"colorscale\":[[0.0,\"#0d0887\"],[0.1111111111111111,\"#46039f\"],[0.2222222222222222,\"#7201a8\"],[0.3333333333333333,\"#9c179e\"],[0.4444444444444444,\"#bd3786\"],[0.5555555555555556,\"#d8576b\"],[0.6666666666666666,\"#ed7953\"],[0.7777777777777778,\"#fb9f3a\"],[0.8888888888888888,\"#fdca26\"],[1.0,\"#f0f921\"]]}],\"choropleth\":[{\"type\":\"choropleth\",\"colorbar\":{\"outlinewidth\":0,\"ticks\":\"\"}}],\"histogram2d\":[{\"type\":\"histogram2d\",\"colorbar\":{\"outlinewidth\":0,\"ticks\":\"\"},\"colorscale\":[[0.0,\"#0d0887\"],[0.1111111111111111,\"#46039f\"],[0.2222222222222222,\"#7201a8\"],[0.3333333333333333,\"#9c179e\"],[0.4444444444444444,\"#bd3786\"],[0.5555555555555556,\"#d8576b\"],[0.6666666666666666,\"#ed7953\"],[0.7777777777777778,\"#fb9f3a\"],[0.8888888888888888,\"#fdca26\"],[1.0,\"#f0f921\"]]}],\"heatmap\":[{\"type\":\"heatmap\",\"colorbar\":{\"outlinewidth\":0,\"ticks\":\"\"},\"colorscale\":[[0.0,\"#0d0887\"],[0.1111111111111111,\"#46039f\"],[0.2222222222222222,\"#7201a8\"],[0.3333333333333333,\"#9c179e\"],[0.4444444444444444,\"#bd3786\"],[0.5555555555555556,\"#d8576b\"],[0.6666666666666666,\"#ed7953\"],[0.7777777777777778,\"#fb9f3a\"],[0.8888888888888888,\"#fdca26\"],[1.0,\"#f0f921\"]]}],\"heatmapgl\":[{\"type\":\"heatmapgl\",\"colorbar\":{\"outlinewidth\":0,\"ticks\":\"\"},\"colorscale\":[[0.0,\"#0d0887\"],[0.1111111111111111,\"#46039f\"],[0.2222222222222222,\"#7201a8\"],[0.3333333333333333,\"#9c179e\"],[0.4444444444444444,\"#bd3786\"],[0.5555555555555556,\"#d8576b\"],[0.6666666666666666,\"#ed7953\"],[0.7777777777777778,\"#fb9f3a\"],[0.8888888888888888,\"#fdca26\"],[1.0,\"#f0f921\"]]}],\"contourcarpet\":[{\"type\":\"contourcarpet\",\"colorbar\":{\"outlinewidth\":0,\"ticks\":\"\"}}],\"contour\":[{\"type\":\"contour\",\"colorbar\":{\"outlinewidth\":0,\"ticks\":\"\"},\"colorscale\":[[0.0,\"#0d0887\"],[0.1111111111111111,\"#46039f\"],[0.2222222222222222,\"#7201a8\"],[0.3333333333333333,\"#9c179e\"],[0.4444444444444444,\"#bd3786\"],[0.5555555555555556,\"#d8576b\"],[0.6666666666666666,\"#ed7953\"],[0.7777777777777778,\"#fb9f3a\"],[0.8888888888888888,\"#fdca26\"],[1.0,\"#f0f921\"]]}],\"surface\":[{\"type\":\"surface\",\"colorbar\":{\"outlinewidth\":0,\"ticks\":\"\"},\"colorscale\":[[0.0,\"#0d0887\"],[0.1111111111111111,\"#46039f\"],[0.2222222222222222,\"#7201a8\"],[0.3333333333333333,\"#9c179e\"],[0.4444444444444444,\"#bd3786\"],[0.5555555555555556,\"#d8576b\"],[0.6666666666666666,\"#ed7953\"],[0.7777777777777778,\"#fb9f3a\"],[0.8888888888888888,\"#fdca26\"],[1.0,\"#f0f921\"]]}],\"mesh3d\":[{\"type\":\"mesh3d\",\"colorbar\":{\"outlinewidth\":0,\"ticks\":\"\"}}],\"scatter\":[{\"fillpattern\":{\"fillmode\":\"overlay\",\"size\":10,\"solidity\":0.2},\"type\":\"scatter\"}],\"parcoords\":[{\"type\":\"parcoords\",\"line\":{\"colorbar\":{\"outlinewidth\":0,\"ticks\":\"\"}}}],\"scatterpolargl\":[{\"type\":\"scatterpolargl\",\"marker\":{\"colorbar\":{\"outlinewidth\":0,\"ticks\":\"\"}}}],\"bar\":[{\"error_x\":{\"color\":\"#2a3f5f\"},\"error_y\":{\"color\":\"#2a3f5f\"},\"marker\":{\"line\":{\"color\":\"#E5ECF6\",\"width\":0.5},\"pattern\":{\"fillmode\":\"overlay\",\"size\":10,\"solidity\":0.2}},\"type\":\"bar\"}],\"scattergeo\":[{\"type\":\"scattergeo\",\"marker\":{\"colorbar\":{\"outlinewidth\":0,\"ticks\":\"\"}}}],\"scatterpolar\":[{\"type\":\"scatterpolar\",\"marker\":{\"colorbar\":{\"outlinewidth\":0,\"ticks\":\"\"}}}],\"histogram\":[{\"marker\":{\"pattern\":{\"fillmode\":\"overlay\",\"size\":10,\"solidity\":0.2}},\"type\":\"histogram\"}],\"scattergl\":[{\"type\":\"scattergl\",\"marker\":{\"colorbar\":{\"outlinewidth\":0,\"ticks\":\"\"}}}],\"scatter3d\":[{\"type\":\"scatter3d\",\"line\":{\"colorbar\":{\"outlinewidth\":0,\"ticks\":\"\"}},\"marker\":{\"colorbar\":{\"outlinewidth\":0,\"ticks\":\"\"}}}],\"scattermapbox\":[{\"type\":\"scattermapbox\",\"marker\":{\"colorbar\":{\"outlinewidth\":0,\"ticks\":\"\"}}}],\"scatterternary\":[{\"type\":\"scatterternary\",\"marker\":{\"colorbar\":{\"outlinewidth\":0,\"ticks\":\"\"}}}],\"scattercarpet\":[{\"type\":\"scattercarpet\",\"marker\":{\"colorbar\":{\"outlinewidth\":0,\"ticks\":\"\"}}}],\"carpet\":[{\"aaxis\":{\"endlinecolor\":\"#2a3f5f\",\"gridcolor\":\"white\",\"linecolor\":\"white\",\"minorgridcolor\":\"white\",\"startlinecolor\":\"#2a3f5f\"},\"baxis\":{\"endlinecolor\":\"#2a3f5f\",\"gridcolor\":\"white\",\"linecolor\":\"white\",\"minorgridcolor\":\"white\",\"startlinecolor\":\"#2a3f5f\"},\"type\":\"carpet\"}],\"table\":[{\"cells\":{\"fill\":{\"color\":\"#EBF0F8\"},\"line\":{\"color\":\"white\"}},\"header\":{\"fill\":{\"color\":\"#C8D4E3\"},\"line\":{\"color\":\"white\"}},\"type\":\"table\"}],\"barpolar\":[{\"marker\":{\"line\":{\"color\":\"#E5ECF6\",\"width\":0.5},\"pattern\":{\"fillmode\":\"overlay\",\"size\":10,\"solidity\":0.2}},\"type\":\"barpolar\"}],\"pie\":[{\"automargin\":true,\"type\":\"pie\"}]},\"layout\":{\"autotypenumbers\":\"strict\",\"colorway\":[\"#636efa\",\"#EF553B\",\"#00cc96\",\"#ab63fa\",\"#FFA15A\",\"#19d3f3\",\"#FF6692\",\"#B6E880\",\"#FF97FF\",\"#FECB52\"],\"font\":{\"color\":\"#2a3f5f\"},\"hovermode\":\"closest\",\"hoverlabel\":{\"align\":\"left\"},\"paper_bgcolor\":\"white\",\"plot_bgcolor\":\"#E5ECF6\",\"polar\":{\"bgcolor\":\"#E5ECF6\",\"angularaxis\":{\"gridcolor\":\"white\",\"linecolor\":\"white\",\"ticks\":\"\"},\"radialaxis\":{\"gridcolor\":\"white\",\"linecolor\":\"white\",\"ticks\":\"\"}},\"ternary\":{\"bgcolor\":\"#E5ECF6\",\"aaxis\":{\"gridcolor\":\"white\",\"linecolor\":\"white\",\"ticks\":\"\"},\"baxis\":{\"gridcolor\":\"white\",\"linecolor\":\"white\",\"ticks\":\"\"},\"caxis\":{\"gridcolor\":\"white\",\"linecolor\":\"white\",\"ticks\":\"\"}},\"coloraxis\":{\"colorbar\":{\"outlinewidth\":0,\"ticks\":\"\"}},\"colorscale\":{\"sequential\":[[0.0,\"#0d0887\"],[0.1111111111111111,\"#46039f\"],[0.2222222222222222,\"#7201a8\"],[0.3333333333333333,\"#9c179e\"],[0.4444444444444444,\"#bd3786\"],[0.5555555555555556,\"#d8576b\"],[0.6666666666666666,\"#ed7953\"],[0.7777777777777778,\"#fb9f3a\"],[0.8888888888888888,\"#fdca26\"],[1.0,\"#f0f921\"]],\"sequentialminus\":[[0.0,\"#0d0887\"],[0.1111111111111111,\"#46039f\"],[0.2222222222222222,\"#7201a8\"],[0.3333333333333333,\"#9c179e\"],[0.4444444444444444,\"#bd3786\"],[0.5555555555555556,\"#d8576b\"],[0.6666666666666666,\"#ed7953\"],[0.7777777777777778,\"#fb9f3a\"],[0.8888888888888888,\"#fdca26\"],[1.0,\"#f0f921\"]],\"diverging\":[[0,\"#8e0152\"],[0.1,\"#c51b7d\"],[0.2,\"#de77ae\"],[0.3,\"#f1b6da\"],[0.4,\"#fde0ef\"],[0.5,\"#f7f7f7\"],[0.6,\"#e6f5d0\"],[0.7,\"#b8e186\"],[0.8,\"#7fbc41\"],[0.9,\"#4d9221\"],[1,\"#276419\"]]},\"xaxis\":{\"gridcolor\":\"white\",\"linecolor\":\"white\",\"ticks\":\"\",\"title\":{\"standoff\":15},\"zerolinecolor\":\"white\",\"automargin\":true,\"zerolinewidth\":2},\"yaxis\":{\"gridcolor\":\"white\",\"linecolor\":\"white\",\"ticks\":\"\",\"title\":{\"standoff\":15},\"zerolinecolor\":\"white\",\"automargin\":true,\"zerolinewidth\":2},\"scene\":{\"xaxis\":{\"backgroundcolor\":\"#E5ECF6\",\"gridcolor\":\"white\",\"linecolor\":\"white\",\"showbackground\":true,\"ticks\":\"\",\"zerolinecolor\":\"white\",\"gridwidth\":2},\"yaxis\":{\"backgroundcolor\":\"#E5ECF6\",\"gridcolor\":\"white\",\"linecolor\":\"white\",\"showbackground\":true,\"ticks\":\"\",\"zerolinecolor\":\"white\",\"gridwidth\":2},\"zaxis\":{\"backgroundcolor\":\"#E5ECF6\",\"gridcolor\":\"white\",\"linecolor\":\"white\",\"showbackground\":true,\"ticks\":\"\",\"zerolinecolor\":\"white\",\"gridwidth\":2}},\"shapedefaults\":{\"line\":{\"color\":\"#2a3f5f\"}},\"annotationdefaults\":{\"arrowcolor\":\"#2a3f5f\",\"arrowhead\":0,\"arrowwidth\":1},\"geo\":{\"bgcolor\":\"white\",\"landcolor\":\"#E5ECF6\",\"subunitcolor\":\"white\",\"showland\":true,\"showlakes\":true,\"lakecolor\":\"white\"},\"title\":{\"x\":0.05},\"mapbox\":{\"style\":\"light\"}}},\"plot_bgcolor\":\"rgba(0,0,0,0)\",\"xaxis\":{\"title\":{\"text\":\"Principal Component\"},\"showgrid\":true},\"yaxis\":{\"title\":{\"text\":\"Eigenvalues\"},\"showgrid\":true},\"title\":{\"text\":\"Scree plot\"},\"width\":600,\"height\":400},                        {\"responsive\": true}                    ).then(function(){\n",
       "                            \n",
       "var gd = document.getElementById('f278354a-25a4-4ef0-b0f3-e4751cb401c1');\n",
       "var x = new MutationObserver(function (mutations, observer) {{\n",
       "        var display = window.getComputedStyle(gd).display;\n",
       "        if (!display || display === 'none') {{\n",
       "            console.log([gd, 'removed!']);\n",
       "            Plotly.purge(gd);\n",
       "            observer.disconnect();\n",
       "        }}\n",
       "}});\n",
       "\n",
       "// Listen for the removal of the full notebook cells\n",
       "var notebookContainer = gd.closest('#notebook-container');\n",
       "if (notebookContainer) {{\n",
       "    x.observe(notebookContainer, {childList: true});\n",
       "}}\n",
       "\n",
       "// Listen for the clearing of the current output cell\n",
       "var outputEl = gd.closest('.output');\n",
       "if (outputEl) {{\n",
       "    x.observe(outputEl, {childList: true});\n",
       "}}\n",
       "\n",
       "                        })                };                });            </script>        </div>"
      ]
     },
     "metadata": {},
     "output_type": "display_data"
    }
   ],
   "source": [
    "fig = go.Figure()\n",
    "\n",
    "fig.add_trace(go.Scatter(x=pcs, y=eigenvalues_man, mode='lines+markers', name='Man'))\n",
    "\n",
    "fig.add_trace(go.Scatter(x=pcs, y=eigenvalues_woman, mode='lines+markers', name='Woman'))\n",
    "\n",
    "fig.update_layout(plot_bgcolor='rgba(0,0,0,0)')\n",
    "\n",
    "fig.update_layout(\n",
    "    title='Scree plot',\n",
    "    xaxis=dict(title='Principal Component', showgrid=True),\n",
    "    yaxis=dict(title='Eigenvalues', showgrid=True),\n",
    "    width=600, \n",
    "    height=400)\n",
    "\n",
    "fig.show()"
   ]
  },
  {
   "cell_type": "code",
   "execution_count": null,
   "id": "8fa5ef6d",
   "metadata": {},
   "outputs": [],
   "source": []
  },
  {
   "cell_type": "markdown",
   "id": "d805f73c-6246-4dda-95f0-887a81fbd42b",
   "metadata": {},
   "source": [
    "### 4.1. Loadings"
   ]
  },
  {
   "cell_type": "code",
   "execution_count": 150,
   "id": "a94da661",
   "metadata": {},
   "outputs": [],
   "source": [
    "eigenvectors_man = pca_man.components_\n",
    "eigenvectors_woman = pca_woman.components_\n",
    "\n",
    "eigenvectors_df_man = pd.DataFrame(eigenvectors_man, columns=base_m.columns)\n",
    "eigenvectors_df_woman = pd.DataFrame(eigenvectors_woman, columns=base_f.columns)\n",
    "\n",
    "# Agora, para cada componente principal, você pode ver como as variáveis originais contribuem para ele.\n",
    "# Por exemplo, para o primeiro componente principal:\n",
    "component_1_man = eigenvectors_df_man.iloc[0]\n",
    "component_2_man = eigenvectors_df_man.iloc[1]\n",
    "\n",
    "component_1_woman = eigenvectors_df_woman.iloc[0]\n",
    "component_2_woman = eigenvectors_df_woman.iloc[1]"
   ]
  },
  {
   "cell_type": "code",
   "execution_count": 151,
   "id": "dba8cd68",
   "metadata": {},
   "outputs": [
    {
     "name": "stdout",
     "output_type": "stream",
     "text": [
      "Contribuição das variáveis para o primeiro componente principal nos homens:\n",
      "credit_amount               7.298855e-01\n",
      "goods_valuation             6.710674e-01\n",
      "past_avg_amt_credit         7.628440e-02\n",
      "annual_income               7.337590e-02\n",
      "past_avg_amt_application    7.299523e-02\n",
      "credit_annuity              1.956967e-02\n",
      "past_avg_amount_annuity     4.547072e-03\n",
      "age                         2.795287e-06\n",
      "num_family_members          9.420451e-08\n",
      "past_loans_approved         6.943295e-08\n",
      "num_children                9.960281e-09\n",
      "provided_email              1.849906e-09\n",
      "provided_homephone          1.479969e-09\n",
      "provided_workphone          4.148058e-10\n",
      "mobilephone_reachable       3.668003e-10\n",
      "has_own_car                -2.220446e-16\n",
      "past_loans_unused          -1.331046e-08\n",
      "infringed                  -2.069376e-08\n",
      "has_own_realty             -2.498900e-08\n",
      "past_loans_refused         -5.060147e-08\n",
      "past_loans_total           -1.517895e-07\n",
      "past_loans_canceled        -1.573105e-07\n",
      "car_age                    -1.799086e-06\n",
      "days_employed              -5.453410e-04\n",
      "Name: 0, dtype: float64\n"
     ]
    }
   ],
   "source": [
    "print(\"Contribuição das variáveis para o primeiro componente principal nos homens:\")\n",
    "print(component_1_man.sort_values(ascending=False))"
   ]
  },
  {
   "cell_type": "code",
   "execution_count": 152,
   "id": "656e59b6",
   "metadata": {},
   "outputs": [
    {
     "name": "stdout",
     "output_type": "stream",
     "text": [
      "Contribuição das variáveis para o primeiro componente principal nas mulheres:\n",
      "credit_amount               7.290179e-01\n",
      "goods_valuation             6.707900e-01\n",
      "past_avg_amt_credit         8.347510e-02\n",
      "past_avg_amt_application    7.981540e-02\n",
      "annual_income               6.923972e-02\n",
      "credit_annuity              2.000293e-02\n",
      "past_avg_amount_annuity     5.169224e-03\n",
      "age                         2.390620e-06\n",
      "past_loans_approved         8.301952e-08\n",
      "provided_email              1.100274e-08\n",
      "provided_workphone          9.175724e-09\n",
      "mobilephone_reachable       4.265122e-10\n",
      "has_own_car                -5.551115e-16\n",
      "provided_homephone         -4.378880e-09\n",
      "infringed                  -1.095578e-08\n",
      "has_own_realty             -2.077710e-08\n",
      "past_loans_unused          -2.326129e-08\n",
      "past_loans_refused         -2.531088e-08\n",
      "num_family_members         -2.565933e-08\n",
      "past_loans_total           -5.293333e-08\n",
      "num_children               -7.864876e-08\n",
      "past_loans_canceled        -8.738068e-08\n",
      "car_age                    -2.231460e-06\n",
      "days_employed              -3.743335e-03\n",
      "Name: 0, dtype: float64\n"
     ]
    }
   ],
   "source": [
    "print(\"Contribuição das variáveis para o primeiro componente principal nas mulheres:\")\n",
    "print(component_1_woman.sort_values(ascending=False))"
   ]
  },
  {
   "cell_type": "code",
   "execution_count": 156,
   "id": "74e28f8e",
   "metadata": {},
   "outputs": [
    {
     "data": {
      "image/png": "[encoded data removed]",
      "text/plain": [
       "<Figure size 720x288 with 1 Axes>"
      ]
     },
     "metadata": {
      "needs_background": "light"
     },
     "output_type": "display_data"
    }
   ],
   "source": [
    "plt.figure(figsize=(10,4))\n",
    "plt.title('Contribuição das variáveis para o PRMEIRO COMPONENTE principal')\n",
    "plt.plot(component_1_man.sort_values(ascending=False), marker='o', linestyle='-')\n",
    "plt.xticks(rotation=90)\n",
    "\n",
    "plt.show()"
   ]
  },
  {
   "cell_type": "code",
   "execution_count": 157,
   "id": "8c69638d",
   "metadata": {},
   "outputs": [
    {
     "data": {
      "image/png": "[encoded data removed]",
      "text/plain": [
       "<Figure size 720x288 with 1 Axes>"
      ]
     },
     "metadata": {
      "needs_background": "light"
     },
     "output_type": "display_data"
    }
   ],
   "source": [
    "plt.figure(figsize=(10,4))\n",
    "plt.title('Contribuição das variáveis para o PRMEIRO COMPONENTE principal')\n",
    "plt.plot(component_1_woman.sort_values(ascending=False), marker='o', linestyle='-')\n",
    "plt.xticks(rotation=90)\n",
    "\n",
    "plt.show()"
   ]
  },
  {
   "cell_type": "code",
   "execution_count": 158,
   "id": "a3820930",
   "metadata": {},
   "outputs": [
    {
     "name": "stdout",
     "output_type": "stream",
     "text": [
      "Contribuição das variáveis para a segunda componente principal nos homens:\n",
      "past_avg_amt_credit         7.195723e-01\n",
      "past_avg_amt_application    6.746177e-01\n",
      "annual_income               1.144549e-01\n",
      "past_avg_amount_annuity     3.255435e-02\n",
      "days_employed               3.744356e-03\n",
      "credit_annuity              7.842948e-04\n",
      "age                         5.163909e-06\n",
      "past_loans_total            2.414121e-06\n",
      "past_loans_canceled         1.475520e-06\n",
      "past_loans_approved         6.056598e-07\n",
      "past_loans_refused          4.149212e-07\n",
      "provided_email              6.496349e-08\n",
      "has_own_realty              4.559014e-08\n",
      "infringed                   4.915144e-09\n",
      "has_own_car                 1.040834e-16\n",
      "mobilephone_reachable      -4.399926e-10\n",
      "provided_workphone         -1.099520e-08\n",
      "provided_homephone         -2.496964e-08\n",
      "num_family_members         -4.420215e-08\n",
      "past_loans_unused          -8.198025e-08\n",
      "num_children               -1.114931e-07\n",
      "car_age                    -3.465692e-06\n",
      "goods_valuation            -7.424116e-02\n",
      "credit_amount              -8.614330e-02\n",
      "Name: 1, dtype: float64\n"
     ]
    }
   ],
   "source": [
    "print(\"Contribuição das variáveis para a segunda componente principal nos homens:\")\n",
    "print(component_2_man.sort_values(ascending=False))"
   ]
  },
  {
   "cell_type": "code",
   "execution_count": 159,
   "id": "c8279c98",
   "metadata": {},
   "outputs": [
    {
     "name": "stdout",
     "output_type": "stream",
     "text": [
      "Contribuição das variáveis para a segunda componente principal nas mulheres:\n",
      "past_avg_amt_credit         7.241851e-01\n",
      "past_avg_amt_application    6.715783e-01\n",
      "annual_income               9.154270e-02\n",
      "past_avg_amount_annuity     3.294475e-02\n",
      "days_employed               1.591318e-02\n",
      "credit_annuity              6.253789e-04\n",
      "age                         5.357246e-06\n",
      "past_loans_total            3.052646e-06\n",
      "past_loans_canceled         1.596432e-06\n",
      "past_loans_approved         9.568880e-07\n",
      "past_loans_refused          5.909644e-07\n",
      "provided_email              8.049192e-08\n",
      "has_own_realty              3.074829e-08\n",
      "has_own_car                 6.938894e-18\n",
      "mobilephone_reachable      -1.853223e-09\n",
      "infringed                  -2.220667e-09\n",
      "provided_homephone         -3.160574e-08\n",
      "provided_workphone         -4.446745e-08\n",
      "past_loans_unused          -9.163895e-08\n",
      "num_family_members         -1.980891e-07\n",
      "num_children               -2.208492e-07\n",
      "car_age                    -4.389919e-06\n",
      "goods_valuation            -7.902242e-02\n",
      "credit_amount              -9.260113e-02\n",
      "Name: 1, dtype: float64\n"
     ]
    }
   ],
   "source": [
    "print(\"Contribuição das variáveis para a segunda componente principal nas mulheres:\")\n",
    "print(component_2_woman.sort_values(ascending=False))"
   ]
  },
  {
   "cell_type": "code",
   "execution_count": 178,
   "id": "f37135f4",
   "metadata": {},
   "outputs": [
    {
     "data": {
      "image/png": "[encoded data removed]",
      "text/plain": [
       "<Figure size 864x360 with 2 Axes>"
      ]
     },
     "metadata": {
      "needs_background": "light"
     },
     "output_type": "display_data"
    }
   ],
   "source": [
    "fig, axs = plt.subplots(1, 2, figsize=(12, 5))\n",
    "\n",
    "axs[0].set_title('Contribuição das variáveis para o PC1 nos homens')\n",
    "axs[0].plot(component_2_man.sort_values(ascending=False), marker='o', linestyle='-')\n",
    "axs[0].tick_params(axis='x', rotation=90)\n",
    "\n",
    "axs[1].set_title('Contribuição das variáveis para o PC2 nas mulheres')\n",
    "axs[1].plot(component_2_woman.sort_values(ascending=False), marker='o', linestyle='-')\n",
    "axs[1].tick_params(axis='x', rotation=90)\n",
    "\n",
    "plt.tight_layout()\n",
    "\n",
    "plt.show()"
   ]
  },
  {
   "cell_type": "markdown",
   "id": "885f3c9d-a3b4-4ac1-899d-07888e39837f",
   "metadata": {},
   "source": [
    "### Resumo dos Loadings"
   ]
  },
  {
   "cell_type": "code",
   "execution_count": 179,
   "id": "b707e150",
   "metadata": {},
   "outputs": [],
   "source": [
    "pca_m = PCA(n_components=2)\n",
    "pca_m.fit(base_m)\n",
    "base_all_pca_man = pca.transform(base_m)\n",
    "\n",
    "pca_f = PCA(n_components=2)\n",
    "pca_f.fit(base_f)\n",
    "base_all_pca_woman = pca_f.transform(base_f)"
   ]
  },
  {
   "cell_type": "code",
   "execution_count": 180,
   "id": "792a18e9",
   "metadata": {},
   "outputs": [
    {
     "data": {
      "text/html": [
       "<div>\n",
       "<style scoped>\n",
       "    .dataframe tbody tr th:only-of-type {\n",
       "        vertical-align: middle;\n",
       "    }\n",
       "\n",
       "    .dataframe tbody tr th {\n",
       "        vertical-align: top;\n",
       "    }\n",
       "\n",
       "    .dataframe thead th {\n",
       "        text-align: right;\n",
       "    }\n",
       "</style>\n",
       "<table border=\"1\" class=\"dataframe\">\n",
       "  <thead>\n",
       "    <tr style=\"text-align: right;\">\n",
       "      <th></th>\n",
       "      <th>PC1</th>\n",
       "      <th>PC2</th>\n",
       "    </tr>\n",
       "  </thead>\n",
       "  <tbody>\n",
       "    <tr>\n",
       "      <th>infringed</th>\n",
       "      <td>-0.000</td>\n",
       "      <td>0.000</td>\n",
       "    </tr>\n",
       "    <tr>\n",
       "      <th>has_own_car</th>\n",
       "      <td>0.000</td>\n",
       "      <td>-0.000</td>\n",
       "    </tr>\n",
       "    <tr>\n",
       "      <th>has_own_realty</th>\n",
       "      <td>-0.000</td>\n",
       "      <td>0.000</td>\n",
       "    </tr>\n",
       "    <tr>\n",
       "      <th>num_children</th>\n",
       "      <td>0.000</td>\n",
       "      <td>-0.000</td>\n",
       "    </tr>\n",
       "    <tr>\n",
       "      <th>annual_income</th>\n",
       "      <td>0.073</td>\n",
       "      <td>0.114</td>\n",
       "    </tr>\n",
       "    <tr>\n",
       "      <th>credit_amount</th>\n",
       "      <td>0.730</td>\n",
       "      <td>-0.086</td>\n",
       "    </tr>\n",
       "    <tr>\n",
       "      <th>credit_annuity</th>\n",
       "      <td>0.020</td>\n",
       "      <td>0.001</td>\n",
       "    </tr>\n",
       "    <tr>\n",
       "      <th>goods_valuation</th>\n",
       "      <td>0.671</td>\n",
       "      <td>-0.074</td>\n",
       "    </tr>\n",
       "    <tr>\n",
       "      <th>age</th>\n",
       "      <td>0.000</td>\n",
       "      <td>0.000</td>\n",
       "    </tr>\n",
       "    <tr>\n",
       "      <th>days_employed</th>\n",
       "      <td>-0.001</td>\n",
       "      <td>0.004</td>\n",
       "    </tr>\n",
       "    <tr>\n",
       "      <th>car_age</th>\n",
       "      <td>-0.000</td>\n",
       "      <td>-0.000</td>\n",
       "    </tr>\n",
       "    <tr>\n",
       "      <th>provided_workphone</th>\n",
       "      <td>0.000</td>\n",
       "      <td>-0.000</td>\n",
       "    </tr>\n",
       "    <tr>\n",
       "      <th>provided_homephone</th>\n",
       "      <td>0.000</td>\n",
       "      <td>-0.000</td>\n",
       "    </tr>\n",
       "    <tr>\n",
       "      <th>mobilephone_reachable</th>\n",
       "      <td>0.000</td>\n",
       "      <td>-0.000</td>\n",
       "    </tr>\n",
       "    <tr>\n",
       "      <th>provided_email</th>\n",
       "      <td>0.000</td>\n",
       "      <td>0.000</td>\n",
       "    </tr>\n",
       "    <tr>\n",
       "      <th>num_family_members</th>\n",
       "      <td>0.000</td>\n",
       "      <td>-0.000</td>\n",
       "    </tr>\n",
       "    <tr>\n",
       "      <th>past_avg_amount_annuity</th>\n",
       "      <td>0.005</td>\n",
       "      <td>0.033</td>\n",
       "    </tr>\n",
       "    <tr>\n",
       "      <th>past_avg_amt_application</th>\n",
       "      <td>0.073</td>\n",
       "      <td>0.675</td>\n",
       "    </tr>\n",
       "    <tr>\n",
       "      <th>past_avg_amt_credit</th>\n",
       "      <td>0.076</td>\n",
       "      <td>0.720</td>\n",
       "    </tr>\n",
       "    <tr>\n",
       "      <th>past_loans_approved</th>\n",
       "      <td>0.000</td>\n",
       "      <td>0.000</td>\n",
       "    </tr>\n",
       "    <tr>\n",
       "      <th>past_loans_refused</th>\n",
       "      <td>-0.000</td>\n",
       "      <td>0.000</td>\n",
       "    </tr>\n",
       "    <tr>\n",
       "      <th>past_loans_canceled</th>\n",
       "      <td>-0.000</td>\n",
       "      <td>0.000</td>\n",
       "    </tr>\n",
       "    <tr>\n",
       "      <th>past_loans_unused</th>\n",
       "      <td>-0.000</td>\n",
       "      <td>-0.000</td>\n",
       "    </tr>\n",
       "    <tr>\n",
       "      <th>past_loans_total</th>\n",
       "      <td>-0.000</td>\n",
       "      <td>0.000</td>\n",
       "    </tr>\n",
       "  </tbody>\n",
       "</table>\n",
       "</div>"
      ],
      "text/plain": [
       "                            PC1    PC2\n",
       "infringed                -0.000  0.000\n",
       "has_own_car               0.000 -0.000\n",
       "has_own_realty           -0.000  0.000\n",
       "num_children              0.000 -0.000\n",
       "annual_income             0.073  0.114\n",
       "credit_amount             0.730 -0.086\n",
       "credit_annuity            0.020  0.001\n",
       "goods_valuation           0.671 -0.074\n",
       "age                       0.000  0.000\n",
       "days_employed            -0.001  0.004\n",
       "car_age                  -0.000 -0.000\n",
       "provided_workphone        0.000 -0.000\n",
       "provided_homephone        0.000 -0.000\n",
       "mobilephone_reachable     0.000 -0.000\n",
       "provided_email            0.000  0.000\n",
       "num_family_members        0.000 -0.000\n",
       "past_avg_amount_annuity   0.005  0.033\n",
       "past_avg_amt_application  0.073  0.675\n",
       "past_avg_amt_credit       0.076  0.720\n",
       "past_loans_approved       0.000  0.000\n",
       "past_loans_refused       -0.000  0.000\n",
       "past_loans_canceled      -0.000  0.000\n",
       "past_loans_unused        -0.000 -0.000\n",
       "past_loans_total         -0.000  0.000"
      ]
     },
     "execution_count": 180,
     "metadata": {},
     "output_type": "execute_result"
    }
   ],
   "source": [
    "loadings = pd.DataFrame(pca_m.components_.T, columns=['PC1','PC2'], index=base_m.columns)\n",
    "round(loadings,3)"
   ]
  },
  {
   "cell_type": "code",
   "execution_count": 181,
   "id": "05b621bc",
   "metadata": {},
   "outputs": [
    {
     "data": {
      "text/html": [
       "<div>\n",
       "<style scoped>\n",
       "    .dataframe tbody tr th:only-of-type {\n",
       "        vertical-align: middle;\n",
       "    }\n",
       "\n",
       "    .dataframe tbody tr th {\n",
       "        vertical-align: top;\n",
       "    }\n",
       "\n",
       "    .dataframe thead th {\n",
       "        text-align: right;\n",
       "    }\n",
       "</style>\n",
       "<table border=\"1\" class=\"dataframe\">\n",
       "  <thead>\n",
       "    <tr style=\"text-align: right;\">\n",
       "      <th></th>\n",
       "      <th>PC1</th>\n",
       "      <th>PC2</th>\n",
       "    </tr>\n",
       "  </thead>\n",
       "  <tbody>\n",
       "    <tr>\n",
       "      <th>infringed</th>\n",
       "      <td>-0.000</td>\n",
       "      <td>-0.000</td>\n",
       "    </tr>\n",
       "    <tr>\n",
       "      <th>has_own_car</th>\n",
       "      <td>-0.000</td>\n",
       "      <td>0.000</td>\n",
       "    </tr>\n",
       "    <tr>\n",
       "      <th>has_own_realty</th>\n",
       "      <td>-0.000</td>\n",
       "      <td>0.000</td>\n",
       "    </tr>\n",
       "    <tr>\n",
       "      <th>num_children</th>\n",
       "      <td>-0.000</td>\n",
       "      <td>-0.000</td>\n",
       "    </tr>\n",
       "    <tr>\n",
       "      <th>annual_income</th>\n",
       "      <td>0.069</td>\n",
       "      <td>0.092</td>\n",
       "    </tr>\n",
       "    <tr>\n",
       "      <th>credit_amount</th>\n",
       "      <td>0.729</td>\n",
       "      <td>-0.093</td>\n",
       "    </tr>\n",
       "    <tr>\n",
       "      <th>credit_annuity</th>\n",
       "      <td>0.020</td>\n",
       "      <td>0.001</td>\n",
       "    </tr>\n",
       "    <tr>\n",
       "      <th>goods_valuation</th>\n",
       "      <td>0.671</td>\n",
       "      <td>-0.079</td>\n",
       "    </tr>\n",
       "    <tr>\n",
       "      <th>age</th>\n",
       "      <td>0.000</td>\n",
       "      <td>0.000</td>\n",
       "    </tr>\n",
       "    <tr>\n",
       "      <th>days_employed</th>\n",
       "      <td>-0.004</td>\n",
       "      <td>0.016</td>\n",
       "    </tr>\n",
       "    <tr>\n",
       "      <th>car_age</th>\n",
       "      <td>-0.000</td>\n",
       "      <td>-0.000</td>\n",
       "    </tr>\n",
       "    <tr>\n",
       "      <th>provided_workphone</th>\n",
       "      <td>0.000</td>\n",
       "      <td>-0.000</td>\n",
       "    </tr>\n",
       "    <tr>\n",
       "      <th>provided_homephone</th>\n",
       "      <td>-0.000</td>\n",
       "      <td>-0.000</td>\n",
       "    </tr>\n",
       "    <tr>\n",
       "      <th>mobilephone_reachable</th>\n",
       "      <td>0.000</td>\n",
       "      <td>-0.000</td>\n",
       "    </tr>\n",
       "    <tr>\n",
       "      <th>provided_email</th>\n",
       "      <td>0.000</td>\n",
       "      <td>0.000</td>\n",
       "    </tr>\n",
       "    <tr>\n",
       "      <th>num_family_members</th>\n",
       "      <td>-0.000</td>\n",
       "      <td>-0.000</td>\n",
       "    </tr>\n",
       "    <tr>\n",
       "      <th>past_avg_amount_annuity</th>\n",
       "      <td>0.005</td>\n",
       "      <td>0.033</td>\n",
       "    </tr>\n",
       "    <tr>\n",
       "      <th>past_avg_amt_application</th>\n",
       "      <td>0.080</td>\n",
       "      <td>0.672</td>\n",
       "    </tr>\n",
       "    <tr>\n",
       "      <th>past_avg_amt_credit</th>\n",
       "      <td>0.083</td>\n",
       "      <td>0.724</td>\n",
       "    </tr>\n",
       "    <tr>\n",
       "      <th>past_loans_approved</th>\n",
       "      <td>0.000</td>\n",
       "      <td>0.000</td>\n",
       "    </tr>\n",
       "    <tr>\n",
       "      <th>past_loans_refused</th>\n",
       "      <td>-0.000</td>\n",
       "      <td>0.000</td>\n",
       "    </tr>\n",
       "    <tr>\n",
       "      <th>past_loans_canceled</th>\n",
       "      <td>-0.000</td>\n",
       "      <td>0.000</td>\n",
       "    </tr>\n",
       "    <tr>\n",
       "      <th>past_loans_unused</th>\n",
       "      <td>-0.000</td>\n",
       "      <td>-0.000</td>\n",
       "    </tr>\n",
       "    <tr>\n",
       "      <th>past_loans_total</th>\n",
       "      <td>-0.000</td>\n",
       "      <td>0.000</td>\n",
       "    </tr>\n",
       "  </tbody>\n",
       "</table>\n",
       "</div>"
      ],
      "text/plain": [
       "                            PC1    PC2\n",
       "infringed                -0.000 -0.000\n",
       "has_own_car              -0.000  0.000\n",
       "has_own_realty           -0.000  0.000\n",
       "num_children             -0.000 -0.000\n",
       "annual_income             0.069  0.092\n",
       "credit_amount             0.729 -0.093\n",
       "credit_annuity            0.020  0.001\n",
       "goods_valuation           0.671 -0.079\n",
       "age                       0.000  0.000\n",
       "days_employed            -0.004  0.016\n",
       "car_age                  -0.000 -0.000\n",
       "provided_workphone        0.000 -0.000\n",
       "provided_homephone       -0.000 -0.000\n",
       "mobilephone_reachable     0.000 -0.000\n",
       "provided_email            0.000  0.000\n",
       "num_family_members       -0.000 -0.000\n",
       "past_avg_amount_annuity   0.005  0.033\n",
       "past_avg_amt_application  0.080  0.672\n",
       "past_avg_amt_credit       0.083  0.724\n",
       "past_loans_approved       0.000  0.000\n",
       "past_loans_refused       -0.000  0.000\n",
       "past_loans_canceled      -0.000  0.000\n",
       "past_loans_unused        -0.000 -0.000\n",
       "past_loans_total         -0.000  0.000"
      ]
     },
     "execution_count": 181,
     "metadata": {},
     "output_type": "execute_result"
    }
   ],
   "source": [
    "loadings = pd.DataFrame(pca_f.components_.T, columns=['PC1','PC2'], index=base_m.columns)\n",
    "round(loadings,3)"
   ]
  },
  {
   "cell_type": "markdown",
   "id": "c5f75f40-1bb3-4684-87c9-ed43399f933d",
   "metadata": {},
   "source": [
    "### 4.4. Loading plot"
   ]
  },
  {
   "cell_type": "code",
   "execution_count": 182,
   "id": "0d4c416a",
   "metadata": {},
   "outputs": [
    {
     "data": {
      "image/png": "[encoded data removed]",
      "text/plain": [
       "<Figure size 504x504 with 1 Axes>"
      ]
     },
     "metadata": {
      "needs_background": "light"
     },
     "output_type": "display_data"
    }
   ],
   "source": [
    "fig, ax = plt.subplots(figsize = (7,7))\n",
    "loading_plot(pca_m.components_.T, base_m.columns)"
   ]
  },
  {
   "cell_type": "code",
   "execution_count": 183,
   "id": "e902998b",
   "metadata": {},
   "outputs": [
    {
     "data": {
      "image/png": "[encoded data removed]",
      "text/plain": [
       "<Figure size 504x504 with 1 Axes>"
      ]
     },
     "metadata": {
      "needs_background": "light"
     },
     "output_type": "display_data"
    }
   ],
   "source": [
    "fig, ax = plt.subplots(figsize = (7,7))\n",
    "loading_plot(pca_f.components_.T, base_f.columns)"
   ]
  },
  {
   "cell_type": "markdown",
   "id": "e4a6c27d-1d5b-4829-8333-18c501f94256",
   "metadata": {},
   "source": [
    "### 4.5. Score plot"
   ]
  },
  {
   "cell_type": "code",
   "execution_count": 170,
   "id": "cba51f9b",
   "metadata": {},
   "outputs": [
    {
     "data": {
      "image/png": "[encoded data removed]",
      "text/plain": [
       "<Figure size 864x360 with 2 Axes>"
      ]
     },
     "metadata": {
      "needs_background": "light"
     },
     "output_type": "display_data"
    }
   ],
   "source": [
    "# Create a 1x2 grid of subplots\n",
    "fig, axs = plt.subplots(1, 2, figsize=(12, 5))\n",
    "\n",
    "# Scatter plot for the first subplot\n",
    "axs[0].scatter(base_all_pca_man[:, 0], base_all_pca_man[:, 1])\n",
    "axs[0].set_xlabel('Primeira Componente Principal')\n",
    "axs[0].set_ylabel('Segunda Componente Principal')\n",
    "axs[0].set_title('Homens')\n",
    "\n",
    "# Scatter plot for the second subplot\n",
    "axs[1].scatter(base_all_pca_woman[:, 0], base_all_pca_woman[:, 1])\n",
    "axs[1].set_xlabel('Primeira Componente Principal')\n",
    "axs[1].set_ylabel('Segunda Componente Principal')\n",
    "axs[1].set_title('Mulheres')\n",
    "\n",
    "# Adjust layout\n",
    "plt.tight_layout()\n",
    "\n",
    "# Show the plots\n",
    "plt.show()"
   ]
  },
  {
   "cell_type": "markdown",
   "id": "89ae8d9c",
   "metadata": {},
   "source": [
    "Tal como no score plot dos dados todos, conseguimos observar que apenas existe um clusters, havendo alguns outliers com valor de PC1 superior a 3 ou valor de PC2 superior a 2"
   ]
  },
  {
   "cell_type": "markdown",
   "id": "320f45c5-2254-4684-b607-9b752eee63c2",
   "metadata": {},
   "source": [
    "### 4.6. Análise de resíduos"
   ]
  },
  {
   "cell_type": "code",
   "execution_count": 187,
   "id": "e6806984-569b-41af-9518-700514493496",
   "metadata": {},
   "outputs": [
    {
     "data": {
      "image/png": "[encoded data removed]",
      "text/plain": [
       "<Figure size 864x360 with 2 Axes>"
      ]
     },
     "metadata": {
      "needs_background": "light"
     },
     "output_type": "display_data"
    }
   ],
   "source": [
    "# Calcule os autovalores acumulados\n",
    "cumulative_eigenvalues_man = np.cumsum(eigenvalues_man)\n",
    "cumulative_eigenvalues_woman = np.cumsum(eigenvalues_woman)\n",
    "\n",
    "# Calcule a proporção acumulada da variância explicada\n",
    "explained_variance_ratio_man = cumulative_eigenvalues_man / np.sum(eigenvalues_man)\n",
    "explained_variance_ratio_woman = cumulative_eigenvalues_woman / np.sum(eigenvalues_woman)\n",
    "\n",
    "# Crie o gráfico de Scree Plot com autovalores acumulados\n",
    "fig, axs = plt.subplots(1, 2, figsize=(12, 5))\n",
    "\n",
    "axs[0].plot(range(1, len(explained_variance_ratio_man) + 1), explained_variance_ratio_man, marker='o', linestyle='-')\n",
    "axs[0].set_xticks(np.arange(1, len(explained_variance_ratio_man) + 1, step=1))\n",
    "axs[0].set_xlabel('Número de Componentes Principais')\n",
    "axs[0].set_ylabel('Proporção Acumulada da Variância Explicada')\n",
    "axs[0].set_title('Scree Plot (Variância Acumulada) para os homens')\n",
    "\n",
    "axs[1].plot(range(1, len(explained_variance_ratio_woman) + 1), explained_variance_ratio_woman, marker='o', linestyle='-')\n",
    "axs[1].set_xticks(np.arange(1, len(explained_variance_ratio_woman) + 1, step=1))\n",
    "axs[1].set_xlabel('Número de Componentes Principais')\n",
    "axs[1].set_ylabel('Proporção Acumulada da Variância Explicada')\n",
    "axs[1].set_title('Scree Plot (Variância Acumulada) para as mulheres')\n",
    "\n",
    "plt.show()"
   ]
  },
  {
   "cell_type": "code",
   "execution_count": 192,
   "id": "62aecad7-4e24-4b02-a38a-f02196433d7c",
   "metadata": {},
   "outputs": [],
   "source": [
    "scores_man = np.array([base_all_pca_man[:, 0], base_all_pca_man[:, 1]])\n",
    "scores_woman = np.array([base_all_pca_woman[:, 0], base_all_pca_woman[:, 1]])"
   ]
  },
  {
   "cell_type": "code",
   "execution_count": 193,
   "id": "b6226dc0",
   "metadata": {},
   "outputs": [],
   "source": [
    "# Obtenha o número total de pontos\n",
    "total_points_man = scores_man.shape[1]\n",
    "total_points_woman = scores_woman.shape[1]\n",
    "\n",
    "# Trabalhando com apenas 1% dos dados, porque são muitos\n",
    "num_points_to_select = total_points // 100\n",
    "\n",
    "# Gere índices aleatórios para selecionar os pontos\n",
    "random_indices_man = np.random.choice(total_points_man, size=num_points_to_select, replace=False)\n",
    "random_indices_woman = np.random.choice(total_points_woman, size=num_points_to_select, replace=False)\n",
    "\n",
    "# Selecione os pontos correspondentes aos índices gerados aleatoriamente\n",
    "selected_scores_man = scores_man[:, random_indices_man]\n",
    "selected_scores_woman = scores_woman[:, random_indices_woman]"
   ]
  },
  {
   "cell_type": "code",
   "execution_count": 208,
   "id": "dc9c52f2",
   "metadata": {},
   "outputs": [],
   "source": [
    "from scipy.spatial.distance import cdist\n",
    "\n",
    "centroid_man = np.mean(selected_scores_man, axis=0)\n",
    "centroid_woman = np.mean(selected_scores_woman, axis=0)\n",
    "\n",
    "distancias_mahalanobis_man = cdist(selected_scores_man, centroid_man.reshape(1, -1), 'mahalanobis', VI=np.linalg.inv(np.cov(selected_scores_man)))\n",
    "distancias_mahalanobis_woman = cdist(selected_scores_woman, centroid_woman.reshape(1, -1), 'mahalanobis', VI=np.linalg.inv(np.cov(selected_scores_woman)))"
   ]
  },
  {
   "cell_type": "code",
   "execution_count": 203,
   "id": "effd9b48",
   "metadata": {},
   "outputs": [
    {
     "data": {
      "image/png": "[encoded data removed]",
      "text/plain": [
       "<Figure size 864x360 with 2 Axes>"
      ]
     },
     "metadata": {
      "needs_background": "light"
     },
     "output_type": "display_data"
    }
   ],
   "source": [
    "from scipy.spatial import distance\n",
    "\n",
    "# Calcule as distâncias Mahalanobis dos pontos de dados aos centroides\n",
    "centroid_man = np.mean(selected_scores_man, axis=0)\n",
    "centroid_woman = np.mean(selected_scores_woman, axis=0)\n",
    "\n",
    "DModX_man = [distance.mahalanobis(point, centroid_man, np.cov(selected_scores_man.T)) for point in selected_scores_man]\n",
    "DModX_woman = [distance.mahalanobis(point, centroid_woman, np.cov(selected_scores_woman.T)) for point in selected_scores_woman]\n",
    "\n",
    "# Plote o gráfico DModX\n",
    "\n",
    "fig, axs = plt.subplots(1, 2, figsize=(12, 5))\n",
    "\n",
    "axs[0].scatter(range(len(DModX_man)), DModX_man, c='b', label='DModX', marker='o')\n",
    "axs[0].set_xlabel('Observações')\n",
    "axs[0].set_ylabel('Distância Mahalanobis')\n",
    "axs[0].legend()\n",
    "axs[0].set_title('Gráfico DModX para homens')\n",
    "\n",
    "axs[1].scatter(range(len(DModX_woman)), DModX_woman, c='b', label='DModX', marker='o')\n",
    "axs[1].set_xlabel('Observações')\n",
    "axs[1].set_ylabel('Distância Mahalanobis')\n",
    "axs[1].legend()\n",
    "axs[1].set_title('Gráfico DModX para mulheres')\n",
    "\n",
    "plt.show()"
   ]
  },
  {
   "cell_type": "code",
   "execution_count": 211,
   "id": "d926382a",
   "metadata": {},
   "outputs": [
    {
     "data": {
      "image/png": "[encoded data removed]",
      "text/plain": [
       "<Figure size 864x360 with 2 Axes>"
      ]
     },
     "metadata": {
      "needs_background": "light"
     },
     "output_type": "display_data"
    }
   ],
   "source": [
    "distancias_mahalanobis_man = [2.5, 1.8, 3.2, 0.7, 4.0]  # Substitua pelos seus próprios valores\n",
    "distancias_mahalanobis_woman = [2.5, 1.8, 3.2, 0.7, 4.0]  # Substitua pelos seus próprios valores\n",
    "\n",
    "# Defina um limiar de detecção (opcional)\n",
    "limiar = 2.0\n",
    "\n",
    "fig, axs = plt.subplots(1, 2, figsize=(12, 5))\n",
    "\n",
    "# Crie um gráfico de barras das distâncias Mahalanobis\n",
    "axs[0].bar(range(len(distancias_mahalanobis_man)), distancias_mahalanobis_man, color='b', label='Distâncias Mahalanobis')\n",
    "axs[0].axhline(y=limiar, color='r', linestyle='--', label='Limiar de Detecção')\n",
    "axs[0].set_xlabel('Observações')\n",
    "axs[0].set_ylabel('Distâncias Mahalanobis')\n",
    "axs[0].legend()\n",
    "axs[0].set_title('Gráfico DModX (Barras)')\n",
    "\n",
    "axs[1].bar(range(len(distancias_mahalanobis_woman)), distancias_mahalanobis_woman, color='b', label='Distâncias Mahalanobis')\n",
    "axs[1].axhline(y=limiar, color='r', linestyle='--', label='Limiar de Detecção')\n",
    "axs[1].set_xlabel('Observações')\n",
    "axs[1].set_ylabel('Distâncias Mahalanobis')\n",
    "axs[1].legend()\n",
    "axs[1].set_title('Gráfico DModX (Barras)')\n",
    "\n",
    "plt.show()"
   ]
  },
  {
   "cell_type": "markdown",
   "id": "b2ad2fa5-0c88-4fad-9d32-30f1ea20ec9b",
   "metadata": {},
   "source": [
    "## ver se vale assim separado ou tudo junto com cada gráfico sendo um subplot (o que for tranquilo de fazer)"
   ]
  },
  {
   "cell_type": "code",
   "execution_count": 209,
   "id": "250b98aa-d9cd-496f-921d-e412f0f97097",
   "metadata": {},
   "outputs": [
    {
     "data": {
      "text/plain": [
       "array([[nan],\n",
       "       [nan]])"
      ]
     },
     "execution_count": 209,
     "metadata": {},
     "output_type": "execute_result"
    }
   ],
   "source": [
    "distancias_mahalanobis_man"
   ]
  },
  {
   "cell_type": "code",
   "execution_count": null,
   "id": "d3086a87-5e11-4c15-a38c-b68f7cd401ca",
   "metadata": {},
   "outputs": [],
   "source": []
  }
 ],
 "metadata": {
  "kernelspec": {
   "display_name": "Python 3 (ipykernel)",
   "language": "python",
   "name": "python3"
  },
  "language_info": {
   "codemirror_mode": {
    "name": "ipython",
    "version": 3
   },
   "file_extension": ".py",
   "mimetype": "text/x-python",
   "name": "python",
   "nbconvert_exporter": "python",
   "pygments_lexer": "ipython3",
   "version": "3.9.12"
  }
 },
 "nbformat": 4,
 "nbformat_minor": 5
}
